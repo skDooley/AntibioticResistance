{
 "cells": [
  {
   "cell_type": "markdown",
   "metadata": {},
   "source": [
    "# This notebook contains code that can be used to create a custom taxonomy from a phylogenetic tree that can be used for Kraken or emboss"
   ]
  },
  {
   "cell_type": "code",
   "execution_count": 6,
   "metadata": {},
   "outputs": [],
   "source": [
    "# Load the phylogenetic tree into memory\n",
    "from ete3 import Tree\n",
    "from os import chdir, path, makedirs, system\n",
    "from Bio.SeqIO import index as fasta_index,write\n",
    "\n",
    "chdir(\"/mnt/research/germs/shane/hgt/data\")\n",
    "prot=\"Cas9\"\n",
    "# phyloTree = Tree(\"trees/RAxML_bestTree.Cas12_FA\")\n",
    "phyloTree = Tree(\"trees/RAxML_bestTree.Cas9_98_AVX2\")\n",
    "chdir(\"/mnt/research/germs/shane/antibioticResistance/data\")"
   ]
  },
  {
   "cell_type": "code",
   "execution_count": 7,
   "metadata": {},
   "outputs": [],
   "source": [
    "specificDB = \"dbs/cas9_Operons/taxonomy\"\n",
    "if not path.exists(specificDB): makedirs(specificDB);print(\"Made \"+specificDB)"
   ]
  },
  {
   "cell_type": "code",
   "execution_count": 3,
   "metadata": {},
   "outputs": [],
   "source": [
    "trees = [(\"RAxML_bestTree.Cas9_98_AVX2\",\"Cas9\"),(\"RAxML_result.Cas12_98_AVX3\",\"Cas12\"),(\"RAxML_result.Cas2_98_AVX3\",\"Cas2\")] #other trees to connect\n",
    "# trees/RAxML_bestTree.Cas1_98_AVX2"
   ]
  },
  {
   "cell_type": "code",
   "execution_count": 8,
   "metadata": {},
   "outputs": [],
   "source": [
    "allSeqs = fasta_index(\"assemblies/Cas9CodingOperons.fa\",\"fasta\")"
   ]
  },
  {
   "cell_type": "code",
   "execution_count": 9,
   "metadata": {},
   "outputs": [
    {
     "name": "stdout",
     "output_type": "stream",
     "text": [
      "2307\n"
     ]
    }
   ],
   "source": [
    "# Generate the custom taxonomy for Kraken based on the loaded phylogenetic tree\n",
    "nodesTracker={}\n",
    "names= open(specificDB+\"/names.dmp\",'w')\n",
    "nodes= open(specificDB+\"/nodes.dmp\",'w')\n",
    "root = phyloTree.get_tree_root()\n",
    "allLeaves={}\n",
    "for taxID,node in enumerate(phyloTree.traverse(\"preorder\")):\n",
    "    nodesTracker[node]=str(taxID+1)\n",
    "    if not node.is_leaf():\n",
    "        node.name = str(taxID+1)\n",
    "        if node ==root:\n",
    "            node.name = 'root'\n",
    "            nodes.write(\"\\t|\\t\".join([str(taxID+1),'1',\"no rank\",\"-\"])+'\\n') # Root is its own parent\n",
    "        else: \n",
    "            nodes.write(\"\\t|\\t\".join([str(taxID+1),nodesTracker[node.up],\"no rank\",\"-\"])+'\\n')  \n",
    "    else: \n",
    "        nodes.write(\"\\t|\\t\".join([str(taxID+1),nodesTracker[node.up],\"species\",\"-\"])+'\\n')\n",
    "    if not node.is_leaf():names.write(\"\\t|\\t\".join([str(taxID+1),\"Cas9_\"+node.name,\"-\",\"scientific name\",\"\"])+'\\n')\n",
    "    else:\n",
    "        names.write(\"\\t|\\t\".join([str(taxID+1),node.name,\"-\",\"scientific name\",\"\"])+'\\n')\n",
    "        allLeaves[node.name]=str(taxID+1)\n",
    "        count = 0\n",
    "        altID = node.name +\"_%i\" % (count)\n",
    "        while altID in allSeqs:\n",
    "            allLeaves[altID]=str(taxID+1)\n",
    "            names.write(\"\\t|\\t\".join([str(taxID+1),altID,\"-\",\"scientific name\",\"\"])+'\\n')\n",
    "            count+=1\n",
    "            altID = node.name +\"_%i\" % (count)\n",
    "    \n",
    "print(len(phyloTree))\n",
    "names.close()\n",
    "nodes.close()"
   ]
  },
  {
   "cell_type": "code",
   "execution_count": 5,
   "metadata": {},
   "outputs": [
    {
     "name": "stdout",
     "output_type": "stream",
     "text": [
      "0\t1834\n"
     ]
    }
   ],
   "source": [
    "# allSeqs = fasta_index(\"assemblies/Cas9CodingORFs.fa\",\"fasta\")\n",
    "missing,good=0,0\n",
    "with open(\"assemblies/Cas12CodingOperonsCleaned.fa\",'w') as fh:\n",
    "    for leaf in phyloTree.get_leaves():\n",
    "        if leaf.name not in allSeqs: missing+=1;continue\n",
    "        \n",
    "        rec=allSeqs[leaf.name]\n",
    "        rec.id = rec.id + \"|kraken:taxid|\" + nodesTracker[leaf]+ \"\\t%s ORF Region\" % (prot)\n",
    "        rec.name = rec.id\n",
    "        rec.description = \"\"\n",
    "        if str(rec.seq)==\"\":\n",
    "            print(rec.id)\n",
    "        write(rec,fh,\"fasta\")\n",
    "        del allLeaves[leaf.name]\n",
    "#         c=0\n",
    "#         seqIDClusterID = leaf.name +\"_%i\" % (c)\n",
    "#         while seqIDClusterID in allSeqs:\n",
    "#             rec=allSeqs[seqIDClusterID]\n",
    "#             rec.id = rec.id + \"|kraken:taxid|\" + nodesTracker[leaf]+ \"\\t%s ORF Region\" % (prot)\n",
    "#             rec.name = rec.id\n",
    "#             rec.description = \"\"\n",
    "#             if str(rec.seq)==\"\":\n",
    "#                 print(rec.id)\n",
    "#             write(rec,fh,\"fasta\")\n",
    "#             c+=1\n",
    "#             seqIDClusterID = leaf.name +\"_%i\" % (c)\n",
    "#             good+=1\n",
    "            \n",
    "        good+=1\n",
    "print(missing,good,sep='\\t')"
   ]
  },
  {
   "cell_type": "code",
   "execution_count": 6,
   "metadata": {},
   "outputs": [
    {
     "data": {
      "text/plain": [
       "3454"
      ]
     },
     "execution_count": 6,
     "metadata": {},
     "output_type": "execute_result"
    }
   ],
   "source": [
    "with open(\"assemblies/Cas12CodingOperonsCleaned.fa\",'a') as fh:\n",
    "    for sid in allLeaves:\n",
    "        rec=allSeqs[sid]\n",
    "        rec.id = rec.id + \"|kraken:taxid|\" + allLeaves[sid]+ \"\\t%s ORF Region\" % (prot)\n",
    "        rec.name = rec.id\n",
    "        rec.description = \"\"\n",
    "        if str(rec.seq)==\"\":\n",
    "            print(rec.id)\n",
    "        write(rec,fh,\"fasta\")\n",
    "        good+=1\n",
    "good\n",
    "        "
   ]
  },
  {
   "cell_type": "code",
   "execution_count": 5,
   "metadata": {},
   "outputs": [],
   "source": [
    "phyloTrees = {\"RAxML_bestTree.Cas1_98_AVX2\":phyloTree}"
   ]
  },
  {
   "cell_type": "code",
   "execution_count": 6,
   "metadata": {},
   "outputs": [
    {
     "name": "stdout",
     "output_type": "stream",
     "text": [
      "2307\n",
      "1834\n",
      "1722\n"
     ]
    }
   ],
   "source": [
    "taxIDCount = taxID+1\n",
    "for treeFile,prot in trees:\n",
    "    phyloTrees[treeFile] = Tree(\"/mnt/research/germs/shane/hgt/data/trees/\"+treeFile)\n",
    "    phyloTree = phyloTrees[treeFile]\n",
    "    root = phyloTree.get_tree_root()\n",
    "    for i,node in enumerate(phyloTree.traverse(\"preorder\")):\n",
    "        taxID=taxIDCount+i\n",
    "        nodesTracker[node]=str(taxID+1)\n",
    "        if not node.is_leaf():\n",
    "            node.name = str(taxID+1)\n",
    "            if node ==root:nodes.write(\"\\t|\\t\".join([str(taxID+1),'1',\"no rank\",\"-\"])+'\\n') # Root is its own parent\n",
    "            else: nodes.write(\"\\t|\\t\".join([str(taxID+1),nodesTracker[node.up],\"no rank\",\"-\"])+'\\n')\n",
    "        else: nodes.write(\"\\t|\\t\".join([str(taxID+1),nodesTracker[node.up],\"species\",\"-\"])+'\\n')\n",
    "        names.write(\"\\t|\\t\".join([str(taxID+1),prot+\"_\"+node.name,\"-\",\"scientific name\",\"\"])+'\\n')\n",
    "    print(len(phyloTree))\n",
    "names.close()\n",
    "nodes.close()"
   ]
  },
  {
   "cell_type": "code",
   "execution_count": 10,
   "metadata": {},
   "outputs": [
    {
     "name": "stdout",
     "output_type": "stream",
     "text": [
      "Cas1\t0\t2184\tassemblies/Cas1_Class2_CodingCleaned.fa\n",
      "Cas9\t0\t2307\tassemblies/Cas9CodingCleaned.fa\n",
      "Cas12\t0\t1834\tassemblies/Cas12CodingCleaned.fa\n",
      "Cas2\t0\t1722\tassemblies/Cas2CodingCleaned.fa\n"
     ]
    }
   ],
   "source": [
    "# Rewrite the fasta file with the taxonomy IDs generated in Cell 2 so that Kraken can link taxonomy to the sequences\n",
    "trees = [(\"RAxML_bestTree.Cas1_98_AVX2\", \"Cas1\",  \"Cas1_Class2_Coding.fa\"),\n",
    "         (\"RAxML_bestTree.Cas9_98_AVX2\", \"Cas9\",  \"Cas9Coding.fa\"),\n",
    "         (\"RAxML_result.Cas12_98_AVX3\",  \"Cas12\", \"Cas12Coding.fa\"),\n",
    "         (\"RAxML_result.Cas2_98_AVX3\",   \"Cas2\",  \"Cas2Coding.fa\")]\n",
    "\n",
    "for treeFile, prot, seqFile in trees:\n",
    "    phyloTree = phyloTrees[treeFile]\n",
    "    allSeqs = fasta_index(\"assemblies/\"+seqFile,\"fasta\")\n",
    "    cleanedFile = seqFile.replace(\".fa\",\"Cleaned.fa\")\n",
    "    missing,good=0,0\n",
    "    with open(\"assemblies/\"+cleanedFile,'w') as fh:\n",
    "        for leaf in phyloTree.get_leaves():\n",
    "            if leaf.name not in allSeqs: missing+=1;continue\n",
    "            rec=allSeqs[leaf.name]\n",
    "            rec.id = rec.id + \"|kraken:taxid|\" + nodesTracker[leaf]+ \"\\t%s ORF Region\" % (prot)\n",
    "            rec.name = rec.id\n",
    "            rec.description = \"\"\n",
    "            if str(rec.seq)==\"\":\n",
    "                print(rec.id)\n",
    "            write(rec,fh,\"fasta\")\n",
    "            good+=1\n",
    "    print(prot,missing,good,\"assemblies/\"+cleanedFile,sep='\\t')"
   ]
  },
  {
   "cell_type": "code",
   "execution_count": 14,
   "metadata": {},
   "outputs": [
    {
     "name": "stderr",
     "output_type": "stream",
     "text": [
      "Masking low-complexity regions of new file...Error: (106.16) Application's execution failed (CObjReaderParseException::eNoResidues) FASTA-Reader: No residues given (m_Pos = 37159)\n",
      "Masking low-complexity regions of new file... done.\n",
      "Added \"assemblies/Cas9Coding.fa\" to library (dbs/CRISPRCas_DB)\n",
      "Masking low-complexity regions of new file... done.\n",
      "Added \"assemblies/Cas12Coding.fa\" to library (dbs/CRISPRCas_DB)\n",
      "Masking low-complexity regions of new file... done.\n",
      "Added \"assemblies/Cas2Coding.fa\" to library (dbs/CRISPRCas_DB)\n"
     ]
    }
   ],
   "source": [
    "%%bash \n",
    "#Add the sequences that with the added taxIDs generated by this module to a custom database\n",
    "kraken2-build --add-to-library assemblies/Cas1_Class2_CodingCleaned.fa --db dbs/CRISPRCas_DB\n",
    "kraken2-build --add-to-library assemblies/Cas9CodingCleaned.fa --db dbs/CRISPRCas_DB\n",
    "kraken2-build --add-to-library assemblies/Cas12CodingORFsCleaned.fa --db dbs/CRISPRCas_DB\n",
    "kraken2-build --add-to-library assemblies/Cas2CodingCleaned.fa --db dbs/CRISPRCas_DB"
   ]
  },
  {
   "cell_type": "code",
   "execution_count": null,
   "metadata": {},
   "outputs": [],
   "source": [
    "%%bash\n",
    "#Build the Kraken database\n",
    "kraken2-build --threads 15 --build --db dbs/CRISPRCas_DB"
   ]
  },
  {
   "cell_type": "code",
   "execution_count": null,
   "metadata": {},
   "outputs": [],
   "source": [
    "%%bash\n",
    "# Build the bracken database with kmer lengths=31 and mean read length of my data is 100bp (-l 100)\n",
    "~/bin/Bracken-2.5/bracken-build -k 31 -l 100 -d dbs/CRISPRCas_DB -t 10"
   ]
  }
 ],
 "metadata": {
  "kernelspec": {
   "display_name": "Python 3",
   "language": "python",
   "name": "python3"
  },
  "language_info": {
   "codemirror_mode": {
    "name": "ipython",
    "version": 3
   },
   "file_extension": ".py",
   "mimetype": "text/x-python",
   "name": "python",
   "nbconvert_exporter": "python",
   "pygments_lexer": "ipython3",
   "version": "3.8.6"
  },
  "widgets": {
   "application/vnd.jupyter.widget-state+json": {
    "state": {},
    "version_major": 2,
    "version_minor": 0
   }
  }
 },
 "nbformat": 4,
 "nbformat_minor": 4
}
