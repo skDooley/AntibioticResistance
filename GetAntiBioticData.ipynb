{
 "cells": [
  {
   "cell_type": "markdown",
   "metadata": {},
   "source": [
    "# Characterizing CRISPR-Cas System in Metagenomic Antibiotic-treated and untreated Samples\n",
    "#### Libraries"
   ]
  },
  {
   "cell_type": "code",
   "execution_count": 1,
   "metadata": {},
   "outputs": [],
   "source": [
    "%matplotlib inline\n",
    "from os import chdir\n",
    "from pandas import DataFrame,read_csv,Series\n",
    "from sys import path as spath\n",
    "spath.append(\"/mnt/research/germs/shane/antibioticResistance/scripts/\")\n",
    "from CRISPRtools import *\n",
    "chdir(\"data\")"
   ]
  },
  {
   "cell_type": "code",
   "execution_count": null,
   "metadata": {},
   "outputs": [],
   "source": [
    "metadata = read_csv(\"Metadata.csv\")\n",
    "metadata = metadata[metadata[\"Assay Type\"].isin(set(['RNA-Seq', 'WGS']))]\n",
    "metadata.set_index(\"Run\",inplace=True)\n",
    "metadata.drop([\"AvgSpotLen\",\"BioSampleModel\",\"BioSample\",\"BioSampleModel\", \\\n",
    "               \"Center Name\",\"Consent\", \"DATASTORE filetype\",\"DATASTORE provider\",\"DATASTORE region\",\\\n",
    "               \"geo_loc_name\",\"host_body_product\",\"chem_administration\",\"env_feature\",'sub_species','host_life_stage',\\\n",
    "              \"host_last_meal\",\"samp_mat_process\",\"material\",\"host_growth_cond\",\"project_name\",\"investigation_type\",\"label\",\"Instrument\",\\\n",
    "              \"host_taxid\",'host_body_temp', 'lat_lon', 'LibraryLayout','LibrarySelection', 'LibrarySource','Platform','ReleaseDate',\\\n",
    "              'samp_store_temp','BIOME','env_package','feature','host_common_name','env_biome', 'env_material', 'host','SRA Study',],inplace=True,axis=1)\n",
    "treated = metadata[metadata[\"perturbation\"]==\"medicated\"]\n",
    "untreated = metadata[metadata[\"perturbation\"]==\"non-medicated\"]\n",
    "print(treated.shape,untreated.shape,metadata.shape)\n",
    "metadata.head()"
   ]
  },
  {
   "cell_type": "markdown",
   "metadata": {},
   "source": [
    "#### Characterize CRISPR arrays"
   ]
  },
  {
   "cell_type": "code",
   "execution_count": 2,
   "metadata": {},
   "outputs": [],
   "source": [
    "untreadCRISPRs = PilerCRReader(\"assemblies/UntreatedAssembly_filter_gt2k.pcr\")\n",
    "treadCRISPRs = PilerCRReader(\"assemblies/TreatedAssembly_filter_gt2k.pcr\")"
   ]
  },
  {
   "cell_type": "code",
   "execution_count": 4,
   "metadata": {},
   "outputs": [
    {
     "data": {
      "text/plain": [
       "(54, 37)"
      ]
     },
     "execution_count": 4,
     "metadata": {},
     "output_type": "execute_result"
    }
   ],
   "source": [
    "untreadCRISPRs.nArrays,treadCRISPRs.nArrays"
   ]
  },
  {
   "cell_type": "code",
   "execution_count": 5,
   "metadata": {},
   "outputs": [],
   "source": [
    "untreatedCRs = []\n",
    "for seqID,crisprs in untreadCRISPRs.items(): untreatedCRs.append(len(crisprs.repeatCoords))\n",
    "treatedCRs = []\n",
    "for seqID,crisprs in treadCRISPRs.items(): treatedCRs.append(len(crisprs.repeatCoords))\n",
    "\n",
    "combined = treatedCRs + untreatedCRs\n",
    "\n",
    "treatmentType = ['Antibiotic Treated']*len(treatedCRs)\n",
    "treatmentType += ['Normal Diet']*len(untreatedCRs)\n",
    "\n",
    "crDict = {\"# of crRNAs\":combined,\"Sample Type\":treatmentType}\n",
    "df = DataFrame(crDict)\n"
   ]
  },
  {
   "cell_type": "code",
   "execution_count": 6,
   "metadata": {},
   "outputs": [
    {
     "data": {
      "image/png": "[encoded data removed]",
      "text/plain": [
       "<Figure size 504x360 with 1 Axes>"
      ]
     },
     "metadata": {
      "needs_background": "light"
     },
     "output_type": "display_data"
    }
   ],
   "source": [
    "ax = df.pivot(columns=\"Sample Type\")[\"# of crRNAs\"].plot(kind = 'hist', stacked=True,figsize=(7,5))\n",
    "ax.set_xlabel(\"Number of crRNAs per CRISPR Array\");\n",
    "fig = ax.get_figure()\n",
    "fig.savefig(\"images/CrRNAsPerCRISPR.eps\",)"
   ]
  },
  {
   "cell_type": "code",
   "execution_count": 15,
   "metadata": {},
   "outputs": [
    {
     "data": {
      "text/plain": [
       "(51, 36, 3, 3, 89)"
      ]
     },
     "execution_count": 15,
     "metadata": {},
     "output_type": "execute_result"
    }
   ],
   "source": [
    "untreatedRepeats =set()\n",
    "allRepeats = []\n",
    "for seqID,crisprs in untreadCRISPRs.items(): \n",
    "    untreatedRepeats=untreatedRepeats.union(crisprs.consensusRepeats)\n",
    "    for seq in crisprs.consensusRepeats: allRepeats.append(seq)\n",
    "treatedRepeats =set()\n",
    "for seqID,crisprs in treadCRISPRs.items(): \n",
    "    treatedRepeats=treatedRepeats.union(crisprs.consensusRepeats)   \n",
    "    for seq in crisprs.consensusRepeats: allRepeats.append(seq)\n",
    "    \n",
    "len(untreatedRepeats),len(treatedRepeats),len(treatedRepeats.intersection(untreatedRepeats)),len(allRepeats)\n",
    "#     untreatedCRs.append(len(crisprs.repeatCoords))"
   ]
  },
  {
   "cell_type": "code",
   "execution_count": 20,
   "metadata": {},
   "outputs": [
    {
     "data": {
      "text/plain": [
       "8"
      ]
     },
     "execution_count": 20,
     "metadata": {},
     "output_type": "execute_result"
    }
   ],
   "source": [
    "intersect = 0\n",
    "covered = set()\n",
    "for seq1 in untreatedRepeats:\n",
    "    for seq2 in treatedRepeats: \n",
    "        if seq2 in covered:continue\n",
    "        if seq1==seq2 or RC(seq1)==seq2 or seq1.find(seq2) != -1 or seq1.find(RC(seq2)) != -1 or seq2.find(seq1) != -1 or seq2.find(RC(seq1)) != -1: covered.add(seq2)\n",
    "\n",
    "len(covered)"
   ]
  },
  {
   "cell_type": "code",
   "execution_count": 14,
   "metadata": {},
   "outputs": [
    {
     "data": {
      "text/plain": [
       "['CCTGTGTAGCCGCAGGA',\n",
       " 'CGGCGGCATCGTCGGCT',\n",
       " 'GAGTGCGCATATTGAAA',\n",
       " 'TGTTTCACGTGAAACAT',\n",
       " 'GGGAGCGTGGATTGAAAC',\n",
       " 'GTGGGCGGCATCGCGGGC',\n",
       " 'AACGGCAACTGGTGGATAGG',\n",
       " 'CAAATGTTTCACGTGAAACAT',\n",
       " 'CAAATGTTTCACGTGAAACAT',\n",
       " 'GAACGTTCCGCCGTTGATTGT',\n",
       " 'CCTATCCACCAGTTGCCGTTATT',\n",
       " 'GGTGTAACCGGCAGCGGCGACAT',\n",
       " 'TCCACTACAACAAGGATTAAGAC',\n",
       " 'CCGCATTCGGGGCAGAATTTGCCG',\n",
       " 'GGTAAAATATCAAACTGCTATGCAT',\n",
       " 'GGATCACCCCCGCATGTGCGGGGAAAAG',\n",
       " 'GGATCACCCCCGCGTATGCGGGGAAAAG',\n",
       " 'GTTGACCGCCGCATAGGCGGCTTAGAAA',\n",
       " 'TTTCTAAGCTGCCTATGCGGCAGTTAAC',\n",
       " 'AGGATCACCCCTGCGTGTGCAGGGAAAAG',\n",
       " 'GTTGTACCGTACCTAAGAGGAATTGACAC',\n",
       " 'ATTTACATTCCAATATGGTTCTACTTCAAT',\n",
       " 'ATTTCAATTCCATAAAGGTACGATTAAAAC',\n",
       " 'CTTTAAATTCCAATCTGTTTCTATTAATAC',\n",
       " 'GATAAACAGTAACAAGAGTTGTATTGAAAC',\n",
       " 'GATAAACAGTAACAAGAGTTGTATTGAAAC',\n",
       " 'GTTTCAATACAACTCTTGTTACTGTTTATC',\n",
       " 'GTTTCAATCGCACCTTTATGGAATTGAAAG',\n",
       " 'GTTTCAATCGCACCTTTATGGAATTGAAAG',\n",
       " 'AATTGGGATGTGTCTAATGTGAAAGATATGT',\n",
       " 'ATTTCAATCCACGCTCCCTCACGGGAGCGAC',\n",
       " 'GTCGCCCCCGTATGGGGGCGTGGATTGAAAT',\n",
       " 'GTCGCTCCCGCGAGGGAGCGTGGATTGAAAT',\n",
       " 'ATTTCAATCCACGCTCCCGCGAGGGGAGCGAC',\n",
       " 'CTGGCAACCCGCACTCACATGCGTATTGCAAC',\n",
       " 'CTTTGCCACAGCGCATTCGCGCGGGTTGCGAC',\n",
       " 'GTCGCACCCTACGTGGGTGCGTGGATTGAAAC',\n",
       " 'GTCTCCCTCTTTACGAGGGAGTGGATTGAAAT',\n",
       " 'GTTTCAATCCACGCTCCCGCGTGGGGAGCGAC',\n",
       " 'ACTCGCAATTCATACTACTGTGCGAATTGCAAC',\n",
       " 'CTGTTGTACCGTACCTAAGAGGAATTGACACGA',\n",
       " 'CTTTGCCTCGGCGCTGCCTGCACGGGGTGCATC',\n",
       " 'GGTCGCCCCTCACGTAGGGGCGTGAATTGAAAT',\n",
       " 'GTCGCACCCCGCACGGGGTGCGTGGATTGAAAT',\n",
       " 'GTCGCCCTCCTCACGGAGGGCGTGGATAGAAAT',\n",
       " 'GTCGCGCCCCACCCGGGGCGTGTGGATTGAAAT',\n",
       " 'TATTTCAATTCACGCCCCTGCGAGAGGGGCTTC',\n",
       " 'CGTCGCTCCCCACGCGGGGAGCGTGGATAGAAAT',\n",
       " 'CGTCGCTCCCCATGCGGGAGCGTGGGTTGAAACT',\n",
       " 'CTTTGCCTCAGCACACGCTACGTGGGTTGCGTCG',\n",
       " 'GTCGCATCCCGTAAGGGGTGCGTGGATTGAAATA',\n",
       " 'TATTTCAATCCACGCACCCCTTACGGGATGCGAC',\n",
       " 'TGATTTCAATCCACGCACCCATGAAGGGTGCGAC',\n",
       " 'CGATGCAACTCGTATGAGGTGTGCTGAGGCAAAGC',\n",
       " 'CGATTTCAATCCACGCACCCGTGAAGGGTGCGACC',\n",
       " 'GTAGAAATGACGTGGAGCTCGGAAGAGCATTGACA',\n",
       " 'TACCACCATGTTCCGTTATATTTGCAGAGTCCTGT',\n",
       " 'ACAGGACTCTGCAAATATAACGGAACATGGTGGTAT',\n",
       " 'ATTATAACTGATTAATTTTCCAAGTCAACCTGCAAC',\n",
       " 'GATAGAGAAGAATCGAGTTTTACAATACAATCAAGC',\n",
       " 'GATAGAGATAGTTCTGTTTTTACAATACTCTCAAGC',\n",
       " 'GCCACTTTCAATTCCATAAAGGTGCGATTGAAACGC',\n",
       " 'GCTTGAGAGTATTGTAAAAACAGAACTATCTCTATC',\n",
       " 'GTTGGATATACCTTTCAAATGAGGGTGGTATACACC',\n",
       " 'GTTGTATATCTTTTGATTCCTACATCAAACCACAAC',\n",
       " 'GTTGTCTTATATCGTTATTCTACATCAAACCACAAC',\n",
       " 'TGGTTGAGCTACTGGGAATGCTGGTTGTGCTGTTGG',\n",
       " 'CTCTTTGAGCATATTCCATTAAAACAAGGATTAAGAC',\n",
       " 'CTCTTTGAGCATGTTCCATTAAAATAAGGATTAAGAC',\n",
       " 'CTGTATTTCAATCCACGCACCCCGTGCGGGGTGCGAC',\n",
       " 'GGTAGAAATGATGTGAAGCTCGGAAGAGCATTGACAC',\n",
       " 'GTAACAATGACGTGAAGCTCGGAAGAGCATTGACACA',\n",
       " 'AGTTGTATGTGGTATTAGTATTACATGGAAATACAACT',\n",
       " 'AGTTGTATTTCCATGTAATACTAATACCACATACAACT',\n",
       " 'CCTTGTAACTCCACAATGTTTAAAGATGAATTACATCT',\n",
       " 'GTACTAGAGCATCGTCCAGCACAACAAGGATTGAGACA',\n",
       " 'GTAGAAATGATGTGGAGCTCGGAAGAGCATTGACACAA',\n",
       " 'GTAGAAATGATGTGGAGCTCGGAAGAGCATTGACACAA',\n",
       " 'GTCTTAATCCTTATTGTAGTGGACAATGGTCTCGTACA',\n",
       " 'TGTAGGACCTGCTGAAAGTACTTGATGATTGATCGCAC',\n",
       " 'CGTAGAAATGAAGTGAAGCTCGGAAGAGCATTGACACAA',\n",
       " 'GTCTCAATCCTTGTTGTGCTGGACGATGCTCTAGTACTG',\n",
       " 'GTAGAAATGAAGTGGAGCTCGGAAGAGCATTGACACAACA',\n",
       " 'GTAGAAATGAAGTGGAGCTCGGAAGAGCATTGACACAACA',\n",
       " 'TACAAGAGATTTTTGCAACATGTTGCACTTTTCTCTTCTAA',\n",
       " 'AGGTAATACCAGCAGGAAGGGTTAAACTCGTTAATCCGCTACAG',\n",
       " 'GTTGTGATTTGCTTTATTATTCGTATCTTTGCATCATAAACAACAGC',\n",
       " 'CGTTGTGATTTGCTTTATTATTCGTATCTTTGCATCATAAACAACAGCAGC',\n",
       " 'CCTGAGGATCTTGTATGGGCTGTGCCTCGGGTTGCTTCTCGGCGGGTGCCTGAGGTT']"
      ]
     },
     "execution_count": 14,
     "metadata": {},
     "output_type": "execute_result"
    }
   ],
   "source": [
    "allRepeats.sort(key=len)\n",
    "allRepeats"
   ]
  },
  {
   "cell_type": "code",
   "execution_count": null,
   "metadata": {},
   "outputs": [],
   "source": [
    "from pandas import concat\n",
    "from numpy import zeroes\n",
    "df = DataFrame(columns=)"
   ]
  },
  {
   "cell_type": "code",
   "execution_count": 15,
   "metadata": {},
   "outputs": [
    {
     "data": {
      "image/png": "[encoded data removed]",
      "text/plain": [
       "<Figure size 432x288 with 2 Axes>"
      ]
     },
     "metadata": {
      "needs_background": "light"
     },
     "output_type": "display_data"
    }
   ],
   "source": [
    "import matplotlib.pyplot as plt\n",
    "\n",
    "fig = plt.figure() # Create matplotlib figure\n",
    "\n",
    "ax = fig.add_subplot(111) # Create matplotlib axes\n",
    "ax2 = ax.twinx() # Create another axes that shares the same x-axis as ax.\n",
    "\n",
    "width = 1.0\n",
    "\n",
    "untreatedCRs.plot(kind='hist', color='red', ax=ax)\n",
    "treatedCRs.plot(kind='hist', color='blue', ax=ax2)\n",
    "plt.\n",
    "# ax.set_ylabel('')\n",
    "# plt.set_xlabel('Number of crRNAs / CRISPR array')\n",
    "\n",
    "plt.show()"
   ]
  },
  {
   "cell_type": "code",
   "execution_count": null,
   "metadata": {},
   "outputs": [],
   "source": [
    "plt.l"
   ]
  },
  {
   "cell_type": "code",
   "execution_count": 7,
   "metadata": {},
   "outputs": [
    {
     "name": "stdout",
     "output_type": "stream",
     "text": [
      "count    48.000000\n",
      "mean      6.687500\n",
      "std       7.032315\n",
      "min       3.000000\n",
      "25%       3.000000\n",
      "50%       4.500000\n",
      "75%       6.250000\n",
      "max      42.000000\n",
      "dtype: float64\n"
     ]
    },
    {
     "data": {
      "image/png": "[encoded data removed]",
      "text/plain": [
       "<Figure size 432x288 with 1 Axes>"
      ]
     },
     "metadata": {
      "needs_background": "light"
     },
     "output_type": "display_data"
    }
   ],
   "source": [
    "untreatedCRs=Series(untreatedCRs)\n",
    "treatedCRs=Series(treatedCRs)\n",
    "untreatedCRs.plot.hist();\n",
    "print(untreatedCRs.describe())"
   ]
  },
  {
   "cell_type": "code",
   "execution_count": null,
   "metadata": {},
   "outputs": [],
   "source": [
    "\n",
    "\n",
    "\n",
    "\n",
    "\n",
    "\n",
    "\n",
    "\n",
    "\n",
    "\n",
    "\n",
    "\n",
    "\n",
    "\n",
    "\n",
    "\n",
    "\n",
    "\n",
    "\n",
    "\n"
   ]
  },
  {
   "cell_type": "markdown",
   "metadata": {},
   "source": [
    "# Data Prep"
   ]
  },
  {
   "cell_type": "code",
   "execution_count": 34,
   "metadata": {},
   "outputs": [
    {
     "data": {
      "image/png": "[encoded data removed]",
      "text/plain": [
       "<Figure size 432x288 with 1 Axes>"
      ]
     },
     "metadata": {
      "needs_background": "light"
     },
     "output_type": "display_data"
    }
   ],
   "source": [
    "dist=[]\n",
    "for row in treated.index:\n",
    "    nlines = len(open(\"data/samples/treated/%s.fastq\" % (row)).readlines())\n",
    "#     print(nlines)\n",
    "    dist.append(nlines)\n",
    "\n",
    "# for row in untreated.index:\n",
    "#     fh.write(row+'\\n')\n",
    "#     if path.exists(\"data/samples/\"+row+\".fastq\"):\n",
    "#         print(row,path.exists(\"data/samples/\"+row+\".fastq\"))\n",
    "#         system(\"mv data/samples/%s.fastq data/samples/untreated/\" %(row))\n",
    "#         count+=1\n",
    "dist = Series(dist)\n",
    "dist.plot.bar();"
   ]
  },
  {
   "cell_type": "code",
   "execution_count": 3,
   "metadata": {},
   "outputs": [],
   "source": [
    "from os import system,path\n",
    "count = 0\n",
    "fh = open(\"data/SampleManifestWGS_Treated.txt\",'w')\n",
    "for row in treated.index:\n",
    "    fh.write(row+'\\n')\n",
    "#     if path.exists(\"data/samples/\"+row+\".fastq\"):\n",
    "#         system(\"mv data/samples/%s.fastq data/samples/treated/\"%(row))\n",
    "#         print(row,path.exists(\"data/samples/\"+row+\".fastq\"))\n",
    "#         count+=1\n",
    "fh.close()\n",
    "fh = open(\"data/SampleManifestWGS_Untreated.txt\",'w')\n",
    "for row in untreated.index:\n",
    "    fh.write(row+'\\n')\n",
    "#     if path.exists(\"data/samples/\"+row+\".fastq\"):\n",
    "#         print(row,path.exists(\"data/samples/\"+row+\".fastq\"))\n",
    "#         system(\"mv data/samples/%s.fastq data/samples/untreated/\" %(row))\n",
    "#         count+=1\n",
    "fh.close()\n",
    "# count"
   ]
  },
  {
   "cell_type": "code",
   "execution_count": 2,
   "metadata": {},
   "outputs": [],
   "source": [
    "from sys import path as spath\n",
    "spath.append(\"/mnt/research/germs/shane/antibioticResistance/scripts/\")\n",
    "from CRISPRtools import *\n",
    "from os import chdir\n",
    "\n",
    "chdir(\"/mnt/research/germs/shane/antibioticResistance/data\")\n"
   ]
  },
  {
   "cell_type": "code",
   "execution_count": 2,
   "metadata": {},
   "outputs": [
    {
     "name": "stdout",
     "output_type": "stream",
     "text": [
      "total 2.5G\n",
      "drwxr-s--- 2 dooleys1 germs 8.0K Sep 16 21:49 .\n",
      "drwxr-s--- 6 dooleys1 germs 8.0K Sep 16 21:26 ..\n",
      "-rw-r----- 1 dooleys1 germs 882M Sep 16 20:58 TreatedAssembly.fa\n",
      "-rw-r----- 1 dooleys1 germs 256M Sep 16 21:40 TreatedAssembly_filter_gt2k.fa\n",
      "-rw-r----- 1 dooleys1 germs  58K Sep 16 21:48 TreatedAssembly_filter_gt2k.pcr\n",
      "-rw-r----- 1 dooleys1 germs 1.1G Sep 16 11:59 UntreatedAssembly.fa\n",
      "-rw-r----- 1 dooleys1 germs 318M Sep 16 21:46 UntreatedAssembly_filter_gt2k.fa\n",
      "-rw-r----- 1 dooleys1 germs  85K Sep 16 21:49 UntreatedAssembly_filter_gt2k.pcr\n",
      "-rw-r----- 1 dooleys1 germs 521K Sep 16 12:10 UntreatedAssembly.mnout\n"
     ]
    }
   ],
   "source": [
    "%%bash\n",
    "ls -alh assemblies"
   ]
  },
  {
   "cell_type": "code",
   "execution_count": 8,
   "metadata": {},
   "outputs": [
    {
     "name": "stdout",
     "output_type": "stream",
     "text": [
      "count    34.000000\n",
      "mean      6.176471\n",
      "std       4.365641\n",
      "min       3.000000\n",
      "25%       3.250000\n",
      "50%       5.000000\n",
      "75%       8.000000\n",
      "max      26.000000\n",
      "dtype: float64\n"
     ]
    },
    {
     "data": {
      "image/png": "[encoded data removed]",
      "text/plain": [
       "<Figure size 432x288 with 1 Axes>"
      ]
     },
     "metadata": {
      "needs_background": "light"
     },
     "output_type": "display_data"
    }
   ],
   "source": [
    "treatedCRs.plot.hist();\n",
    "print(treatedCRs.describe())"
   ]
  },
  {
   "cell_type": "code",
   "execution_count": null,
   "metadata": {},
   "outputs": [],
   "source": [
    "# What is the coverage over the CRISPRs"
   ]
  },
  {
   "cell_type": "code",
   "execution_count": 41,
   "metadata": {},
   "outputs": [],
   "source": [
    "from glob import glob\n",
    "from os import chdir, system\n",
    "chdir(\"/mnt/gs18/scratch/users/dooleys1/antibioticResistance/trimmed\")\n",
    "treated = glob(\"treated/*.gz\")\n",
    "untreated = glob(\"untreated/*.gz\")\n",
    "chdir(\"combined\")\n",
    "for samp in treated: system(\"ln -s ../%s %s\" % (samp,samp.replace(\"treated/\",\"\")))\n",
    "for samp in untreated: system(\"ln -s ../%s %s\" % (samp,samp.replace(\"untreated/\",\"\")))\n"
   ]
  }
 ],
 "metadata": {
  "kernelspec": {
   "display_name": "Python 3",
   "language": "python",
   "name": "python3"
  },
  "language_info": {
   "codemirror_mode": {
    "name": "ipython",
    "version": 3
   },
   "file_extension": ".py",
   "mimetype": "text/x-python",
   "name": "python",
   "nbconvert_exporter": "python",
   "pygments_lexer": "ipython3",
   "version": "3.6.7"
  }
 },
 "nbformat": 4,
 "nbformat_minor": 2
}
