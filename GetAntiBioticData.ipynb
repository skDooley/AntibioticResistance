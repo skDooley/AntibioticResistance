{
 "cells": [
  {
   "cell_type": "code",
   "execution_count": 1,
   "metadata": {},
   "outputs": [
    {
     "data": {
      "text/html": [
       "<div>\n",
       "<style scoped>\n",
       "    .dataframe tbody tr th:only-of-type {\n",
       "        vertical-align: middle;\n",
       "    }\n",
       "\n",
       "    .dataframe tbody tr th {\n",
       "        vertical-align: top;\n",
       "    }\n",
       "\n",
       "    .dataframe thead th {\n",
       "        text-align: right;\n",
       "    }\n",
       "</style>\n",
       "<table border=\"1\" class=\"dataframe\">\n",
       "  <thead>\n",
       "    <tr style=\"text-align: right;\">\n",
       "      <th></th>\n",
       "      <th>Assay Type</th>\n",
       "      <th>AvgSpotLen</th>\n",
       "      <th>BioProject</th>\n",
       "      <th>BioSample</th>\n",
       "      <th>BioSampleModel</th>\n",
       "      <th>Center Name</th>\n",
       "      <th>Consent</th>\n",
       "      <th>DATASTORE filetype</th>\n",
       "      <th>DATASTORE provider</th>\n",
       "      <th>DATASTORE region</th>\n",
       "      <th>...</th>\n",
       "      <th>samp_size</th>\n",
       "      <th>samp_store_dur</th>\n",
       "      <th>specific_host</th>\n",
       "      <th>sub_species</th>\n",
       "      <th>chem_administration</th>\n",
       "      <th>collection_date</th>\n",
       "      <th>env_biome</th>\n",
       "      <th>env_feature</th>\n",
       "      <th>env_material</th>\n",
       "      <th>host</th>\n",
       "    </tr>\n",
       "    <tr>\n",
       "      <th>Run</th>\n",
       "      <th></th>\n",
       "      <th></th>\n",
       "      <th></th>\n",
       "      <th></th>\n",
       "      <th></th>\n",
       "      <th></th>\n",
       "      <th></th>\n",
       "      <th></th>\n",
       "      <th></th>\n",
       "      <th></th>\n",
       "      <th></th>\n",
       "      <th></th>\n",
       "      <th></th>\n",
       "      <th></th>\n",
       "      <th></th>\n",
       "      <th></th>\n",
       "      <th></th>\n",
       "      <th></th>\n",
       "      <th></th>\n",
       "      <th></th>\n",
       "      <th></th>\n",
       "    </tr>\n",
       "  </thead>\n",
       "  <tbody>\n",
       "    <tr>\n",
       "      <th>SRR5368775</th>\n",
       "      <td>WGS</td>\n",
       "      <td>757</td>\n",
       "      <td>PRJNA237795</td>\n",
       "      <td>SAMN06627626</td>\n",
       "      <td>MIMS.me,MIGS/MIMS/MIMARKS.host-associated</td>\n",
       "      <td>IOWA STATE UNIVERSITY</td>\n",
       "      <td>public</td>\n",
       "      <td>sra,unknown_contigs</td>\n",
       "      <td>gs,ncbi,s3</td>\n",
       "      <td>gs.US,ncbi.public,s3.us-east-1</td>\n",
       "      <td>...</td>\n",
       "      <td>NaN</td>\n",
       "      <td>NaN</td>\n",
       "      <td>NaN</td>\n",
       "      <td>NaN</td>\n",
       "      <td>none</td>\n",
       "      <td>11-Jun-12</td>\n",
       "      <td>swine intestinal tract</td>\n",
       "      <td>none</td>\n",
       "      <td>freshly voided feces</td>\n",
       "      <td>Sus scrofa domesticus</td>\n",
       "    </tr>\n",
       "    <tr>\n",
       "      <th>SRR5368779</th>\n",
       "      <td>WGS</td>\n",
       "      <td>763</td>\n",
       "      <td>PRJNA237795</td>\n",
       "      <td>SAMN06627624</td>\n",
       "      <td>MIMS.me,MIGS/MIMS/MIMARKS.host-associated</td>\n",
       "      <td>IOWA STATE UNIVERSITY</td>\n",
       "      <td>public</td>\n",
       "      <td>sra,unknown_contigs</td>\n",
       "      <td>gs,ncbi,s3</td>\n",
       "      <td>gs.US,ncbi.public,s3.us-east-1</td>\n",
       "      <td>...</td>\n",
       "      <td>NaN</td>\n",
       "      <td>NaN</td>\n",
       "      <td>NaN</td>\n",
       "      <td>NaN</td>\n",
       "      <td>none</td>\n",
       "      <td>6-Jun-12</td>\n",
       "      <td>swine intestinal tract</td>\n",
       "      <td>none</td>\n",
       "      <td>freshly voided feces</td>\n",
       "      <td>Sus scrofa domesticus</td>\n",
       "    </tr>\n",
       "    <tr>\n",
       "      <th>SRR5368781</th>\n",
       "      <td>WGS</td>\n",
       "      <td>768</td>\n",
       "      <td>PRJNA237795</td>\n",
       "      <td>SAMN06627623</td>\n",
       "      <td>MIMS.me,MIGS/MIMS/MIMARKS.host-associated</td>\n",
       "      <td>IOWA STATE UNIVERSITY</td>\n",
       "      <td>public</td>\n",
       "      <td>sra,unknown_contigs</td>\n",
       "      <td>gs,ncbi,s3</td>\n",
       "      <td>gs.US,ncbi.public,s3.us-east-1</td>\n",
       "      <td>...</td>\n",
       "      <td>NaN</td>\n",
       "      <td>NaN</td>\n",
       "      <td>NaN</td>\n",
       "      <td>NaN</td>\n",
       "      <td>none</td>\n",
       "      <td>5-Jun-12</td>\n",
       "      <td>swine intestinal tract</td>\n",
       "      <td>none</td>\n",
       "      <td>freshly voided feces</td>\n",
       "      <td>Sus scrofa domesticus</td>\n",
       "    </tr>\n",
       "    <tr>\n",
       "      <th>SRR5368784</th>\n",
       "      <td>WGS</td>\n",
       "      <td>742</td>\n",
       "      <td>PRJNA237795</td>\n",
       "      <td>SAMN02645155</td>\n",
       "      <td>MIMS.me,MIGS/MIMS/MIMARKS.host-associated</td>\n",
       "      <td>IOWA STATE UNIVERSITY</td>\n",
       "      <td>public</td>\n",
       "      <td>sra,unknown_contigs</td>\n",
       "      <td>gs,ncbi,s3</td>\n",
       "      <td>gs.US,ncbi.public,s3.us-east-1</td>\n",
       "      <td>...</td>\n",
       "      <td>65 grams feces</td>\n",
       "      <td>37 to 6 months</td>\n",
       "      <td>198.0</td>\n",
       "      <td>domesticus</td>\n",
       "      <td>NaN</td>\n",
       "      <td>NaN</td>\n",
       "      <td>NaN</td>\n",
       "      <td>NaN</td>\n",
       "      <td>NaN</td>\n",
       "      <td>NaN</td>\n",
       "    </tr>\n",
       "    <tr>\n",
       "      <th>SRR5368787</th>\n",
       "      <td>WGS</td>\n",
       "      <td>733</td>\n",
       "      <td>PRJNA237795</td>\n",
       "      <td>SAMN02645154</td>\n",
       "      <td>MIMS.me,MIGS/MIMS/MIMARKS.host-associated</td>\n",
       "      <td>IOWA STATE UNIVERSITY</td>\n",
       "      <td>public</td>\n",
       "      <td>sra,unknown_contigs</td>\n",
       "      <td>gs,ncbi,s3</td>\n",
       "      <td>gs.US,ncbi.public,s3.us-east-1</td>\n",
       "      <td>...</td>\n",
       "      <td>53 grams feces</td>\n",
       "      <td>25 to 6 months</td>\n",
       "      <td>198.0</td>\n",
       "      <td>domesticus</td>\n",
       "      <td>NaN</td>\n",
       "      <td>NaN</td>\n",
       "      <td>NaN</td>\n",
       "      <td>NaN</td>\n",
       "      <td>NaN</td>\n",
       "      <td>NaN</td>\n",
       "    </tr>\n",
       "  </tbody>\n",
       "</table>\n",
       "<p>5 rows × 58 columns</p>\n",
       "</div>"
      ],
      "text/plain": [
       "           Assay Type  AvgSpotLen   BioProject     BioSample  \\\n",
       "Run                                                            \n",
       "SRR5368775        WGS         757  PRJNA237795  SAMN06627626   \n",
       "SRR5368779        WGS         763  PRJNA237795  SAMN06627624   \n",
       "SRR5368781        WGS         768  PRJNA237795  SAMN06627623   \n",
       "SRR5368784        WGS         742  PRJNA237795  SAMN02645155   \n",
       "SRR5368787        WGS         733  PRJNA237795  SAMN02645154   \n",
       "\n",
       "                                       BioSampleModel            Center Name  \\\n",
       "Run                                                                            \n",
       "SRR5368775  MIMS.me,MIGS/MIMS/MIMARKS.host-associated  IOWA STATE UNIVERSITY   \n",
       "SRR5368779  MIMS.me,MIGS/MIMS/MIMARKS.host-associated  IOWA STATE UNIVERSITY   \n",
       "SRR5368781  MIMS.me,MIGS/MIMS/MIMARKS.host-associated  IOWA STATE UNIVERSITY   \n",
       "SRR5368784  MIMS.me,MIGS/MIMS/MIMARKS.host-associated  IOWA STATE UNIVERSITY   \n",
       "SRR5368787  MIMS.me,MIGS/MIMS/MIMARKS.host-associated  IOWA STATE UNIVERSITY   \n",
       "\n",
       "           Consent   DATASTORE filetype DATASTORE provider  \\\n",
       "Run                                                          \n",
       "SRR5368775  public  sra,unknown_contigs         gs,ncbi,s3   \n",
       "SRR5368779  public  sra,unknown_contigs         gs,ncbi,s3   \n",
       "SRR5368781  public  sra,unknown_contigs         gs,ncbi,s3   \n",
       "SRR5368784  public  sra,unknown_contigs         gs,ncbi,s3   \n",
       "SRR5368787  public  sra,unknown_contigs         gs,ncbi,s3   \n",
       "\n",
       "                          DATASTORE region  ...       samp_size  \\\n",
       "Run                                         ...                   \n",
       "SRR5368775  gs.US,ncbi.public,s3.us-east-1  ...             NaN   \n",
       "SRR5368779  gs.US,ncbi.public,s3.us-east-1  ...             NaN   \n",
       "SRR5368781  gs.US,ncbi.public,s3.us-east-1  ...             NaN   \n",
       "SRR5368784  gs.US,ncbi.public,s3.us-east-1  ...  65 grams feces   \n",
       "SRR5368787  gs.US,ncbi.public,s3.us-east-1  ...  53 grams feces   \n",
       "\n",
       "            samp_store_dur specific_host sub_species  chem_administration  \\\n",
       "Run                                                                         \n",
       "SRR5368775             NaN           NaN         NaN                 none   \n",
       "SRR5368779             NaN           NaN         NaN                 none   \n",
       "SRR5368781             NaN           NaN         NaN                 none   \n",
       "SRR5368784  37 to 6 months         198.0  domesticus                  NaN   \n",
       "SRR5368787  25 to 6 months         198.0  domesticus                  NaN   \n",
       "\n",
       "           collection_date               env_biome env_feature  \\\n",
       "Run                                                              \n",
       "SRR5368775       11-Jun-12  swine intestinal tract        none   \n",
       "SRR5368779        6-Jun-12  swine intestinal tract        none   \n",
       "SRR5368781        5-Jun-12  swine intestinal tract        none   \n",
       "SRR5368784             NaN                     NaN         NaN   \n",
       "SRR5368787             NaN                     NaN         NaN   \n",
       "\n",
       "                    env_material                   host  \n",
       "Run                                                      \n",
       "SRR5368775  freshly voided feces  Sus scrofa domesticus  \n",
       "SRR5368779  freshly voided feces  Sus scrofa domesticus  \n",
       "SRR5368781  freshly voided feces  Sus scrofa domesticus  \n",
       "SRR5368784                   NaN                    NaN  \n",
       "SRR5368787                   NaN                    NaN  \n",
       "\n",
       "[5 rows x 58 columns]"
      ]
     },
     "execution_count": 1,
     "metadata": {},
     "output_type": "execute_result"
    }
   ],
   "source": [
    "%matplotlib inline\n",
    "from pandas import read_csv\n",
    "metadata = read_csv(\"data/Metadata.csv\")\n",
    "metadata = metadata[metadata[\"Assay Type\"] == \"WGS\"]\n",
    "metadata.set_index(\"Run\",inplace=True)\n",
    "# metadata.drop(\"AvgSpotLen\",inplace=True)\n",
    "#,\"BioSample\",\"BioSampleModel\",\"Center Name\",\"Consent\",\\\n",
    "#                \"DATASTORE filetype\",\"DATASTORE provider\",\"DATASTORE region\",\\\n",
    "#                \"geo_loc_name\",\"host_body_product\"\n",
    "metadata.head()\n"
   ]
  },
  {
   "cell_type": "code",
   "execution_count": 2,
   "metadata": {},
   "outputs": [
    {
     "data": {
      "text/plain": [
       "((23, 58), (24, 58), (47, 58))"
      ]
     },
     "execution_count": 2,
     "metadata": {},
     "output_type": "execute_result"
    }
   ],
   "source": [
    "treated = metadata[metadata[\"perturbation\"]==\"medicated\"]\n",
    "\n",
    "untreated = metadata[metadata[\"perturbation\"]==\"non-medicated\"]\n",
    "treated.shape,untreated.shape,metadata.shape"
   ]
  },
  {
   "cell_type": "code",
   "execution_count": 34,
   "metadata": {},
   "outputs": [
    {
     "data": {
      "image/png": "[encoded data removed]",
      "text/plain": [
       "<Figure size 432x288 with 1 Axes>"
      ]
     },
     "metadata": {
      "needs_background": "light"
     },
     "output_type": "display_data"
    }
   ],
   "source": [
    "dist=[]\n",
    "for row in treated.index:\n",
    "    nlines = len(open(\"data/samples/treated/%s.fastq\" % (row)).readlines())\n",
    "#     print(nlines)\n",
    "    dist.append(nlines)\n",
    "\n",
    "# for row in untreated.index:\n",
    "#     fh.write(row+'\\n')\n",
    "#     if path.exists(\"data/samples/\"+row+\".fastq\"):\n",
    "#         print(row,path.exists(\"data/samples/\"+row+\".fastq\"))\n",
    "#         system(\"mv data/samples/%s.fastq data/samples/untreated/\" %(row))\n",
    "#         count+=1\n",
    "from pandas import Series\n",
    "dist = Series(dist)\n",
    "dist.plot.bar();"
   ]
  },
  {
   "cell_type": "code",
   "execution_count": 3,
   "metadata": {},
   "outputs": [],
   "source": [
    "from os import system,path\n",
    "count = 0\n",
    "fh = open(\"data/SampleManifestWGS_Treated.txt\",'w')\n",
    "for row in treated.index:\n",
    "    fh.write(row+'\\n')\n",
    "#     if path.exists(\"data/samples/\"+row+\".fastq\"):\n",
    "#         system(\"mv data/samples/%s.fastq data/samples/treated/\"%(row))\n",
    "#         print(row,path.exists(\"data/samples/\"+row+\".fastq\"))\n",
    "#         count+=1\n",
    "fh.close()\n",
    "fh = open(\"data/SampleManifestWGS_Untreated.txt\",'w')\n",
    "for row in untreated.index:\n",
    "    fh.write(row+'\\n')\n",
    "#     if path.exists(\"data/samples/\"+row+\".fastq\"):\n",
    "#         print(row,path.exists(\"data/samples/\"+row+\".fastq\"))\n",
    "#         system(\"mv data/samples/%s.fastq data/samples/untreated/\" %(row))\n",
    "#         count+=1\n",
    "fh.close()\n",
    "# count"
   ]
  },
  {
   "cell_type": "code",
   "execution_count": 2,
   "metadata": {},
   "outputs": [],
   "source": [
    "from sys import path as spath\n",
    "spath.append(\"/mnt/research/germs/shane/antibioticResistance/scripts/\")\n",
    "from CRISPRtools import *\n",
    "from os import chdir\n",
    "\n",
    "chdir(\"/mnt/research/germs/shane/antibioticResistance/data\")\n"
   ]
  },
  {
   "cell_type": "code",
   "execution_count": 2,
   "metadata": {},
   "outputs": [
    {
     "name": "stdout",
     "output_type": "stream",
     "text": [
      "total 2.5G\n",
      "drwxr-s--- 2 dooleys1 germs 8.0K Sep 16 21:49 .\n",
      "drwxr-s--- 6 dooleys1 germs 8.0K Sep 16 21:26 ..\n",
      "-rw-r----- 1 dooleys1 germs 882M Sep 16 20:58 TreatedAssembly.fa\n",
      "-rw-r----- 1 dooleys1 germs 256M Sep 16 21:40 TreatedAssembly_filter_gt2k.fa\n",
      "-rw-r----- 1 dooleys1 germs  58K Sep 16 21:48 TreatedAssembly_filter_gt2k.pcr\n",
      "-rw-r----- 1 dooleys1 germs 1.1G Sep 16 11:59 UntreatedAssembly.fa\n",
      "-rw-r----- 1 dooleys1 germs 318M Sep 16 21:46 UntreatedAssembly_filter_gt2k.fa\n",
      "-rw-r----- 1 dooleys1 germs  85K Sep 16 21:49 UntreatedAssembly_filter_gt2k.pcr\n",
      "-rw-r----- 1 dooleys1 germs 521K Sep 16 12:10 UntreatedAssembly.mnout\n"
     ]
    }
   ],
   "source": [
    "%%bash\n",
    "ls -alh assemblies"
   ]
  },
  {
   "cell_type": "code",
   "execution_count": 4,
   "metadata": {},
   "outputs": [],
   "source": [
    "untreadCRISPRs = PilerCRReader(\"assemblies/UntreatedAssembly_filter_gt2k.pcr\")\n",
    "treadCRISPRs = PilerCRReader(\"assemblies/TreatedAssembly_filter_gt2k.pcr\")"
   ]
  },
  {
   "cell_type": "code",
   "execution_count": 5,
   "metadata": {},
   "outputs": [],
   "source": [
    "untreatedCRs = []\n",
    "for seqID,crisprs in untreadCRISPRs.items(): untreatedCRs.append(len(crisprs.repeatCoords))\n",
    "treatedCRs = []\n",
    "for seqID,crisprs in treadCRISPRs.items(): treatedCRs.append(len(crisprs.repeatCoords))"
   ]
  },
  {
   "cell_type": "code",
   "execution_count": 7,
   "metadata": {},
   "outputs": [
    {
     "name": "stdout",
     "output_type": "stream",
     "text": [
      "count    48.000000\n",
      "mean      6.687500\n",
      "std       7.032315\n",
      "min       3.000000\n",
      "25%       3.000000\n",
      "50%       4.500000\n",
      "75%       6.250000\n",
      "max      42.000000\n",
      "dtype: float64\n"
     ]
    },
    {
     "data": {
      "image/png": "[encoded data removed]",
      "text/plain": [
       "<Figure size 432x288 with 1 Axes>"
      ]
     },
     "metadata": {
      "needs_background": "light"
     },
     "output_type": "display_data"
    }
   ],
   "source": [
    "from pandas import Series\n",
    "untreatedCRs=Series(untreatedCRs)\n",
    "treatedCRs=Series(treatedCRs)\n",
    "untreatedCRs.plot.hist();\n",
    "print(untreatedCRs.describe())"
   ]
  },
  {
   "cell_type": "code",
   "execution_count": 8,
   "metadata": {},
   "outputs": [
    {
     "name": "stdout",
     "output_type": "stream",
     "text": [
      "count    34.000000\n",
      "mean      6.176471\n",
      "std       4.365641\n",
      "min       3.000000\n",
      "25%       3.250000\n",
      "50%       5.000000\n",
      "75%       8.000000\n",
      "max      26.000000\n",
      "dtype: float64\n"
     ]
    },
    {
     "data": {
      "image/png": "[encoded data removed]",
      "text/plain": [
       "<Figure size 432x288 with 1 Axes>"
      ]
     },
     "metadata": {
      "needs_background": "light"
     },
     "output_type": "display_data"
    }
   ],
   "source": [
    "treatedCRs.plot.hist();\n",
    "print(treatedCRs.describe())"
   ]
  }
 ],
 "metadata": {
  "kernelspec": {
   "display_name": "Python 3",
   "language": "python",
   "name": "python3"
  },
  "language_info": {
   "codemirror_mode": {
    "name": "ipython",
    "version": 3
   },
   "file_extension": ".py",
   "mimetype": "text/x-python",
   "name": "python",
   "nbconvert_exporter": "python",
   "pygments_lexer": "ipython3",
   "version": "3.6.7"
  }
 },
 "nbformat": 4,
 "nbformat_minor": 2
}
