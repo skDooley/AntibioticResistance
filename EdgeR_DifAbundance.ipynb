{
 "cells": [
  {
   "cell_type": "code",
   "execution_count": 1,
   "metadata": {},
   "outputs": [
    {
     "name": "stderr",
     "output_type": "stream",
     "text": [
      "Loading required package: limma\n",
      "\n",
      "Warning message:\n",
      "“package ‘ggplot2’ was built under R version 4.0.1”\n",
      "Warning message:\n",
      "“package ‘ggpubr’ was built under R version 4.0.2”\n"
     ]
    }
   ],
   "source": [
    "#Load required libraries\n",
    "library(edgeR)\n",
    "library(ggplot2)\n",
    "library(RColorBrewer)\n",
    "library(rafalib)\n",
    "library(ggpubr)"
   ]
  },
  {
   "cell_type": "code",
   "execution_count": 2,
   "metadata": {},
   "outputs": [],
   "source": [
    "# Functions (taken from script in kraken2_clasification github)\n",
    "\n",
    "# simple reader for a kraken report file\n",
    "kraken_file_to_df <- function(fname){\n",
    "    if (!file.exists(fname)){\n",
    "        stop(paste('File does not exist:', fname))\n",
    "    }\n",
    "    df <- read.table(fname, sep='\\t', quote='', header = F,\n",
    "                     col.names=c('pct', 'reads.below','reads.direct','tax.level','taxid','name'))\n",
    "    # trim whitespace, ensure names.\n",
    "    # if no name, set it to the taxid\n",
    "    for (i in 1:nrow(df)){\n",
    "        if (trimws(df[i, 'name']) == ''){\n",
    "            df[i, 'name'] <- df[i, 'taxid']\n",
    "        }\n",
    "    }\n",
    "    return(df)\n",
    "}\n",
    "\n",
    "# combine a list of dataframes from reading Kraken reports and\n",
    "# merge into a large matrix of read counts\n",
    "# names will be taken from the names of the list\n",
    "# output will have taxonmic name in rows, sample in columns\n",
    "merge_kraken_df_list <- function(df.list, reads.col='reads.below'){\n",
    "    # if(length(df.list) <2){\n",
    "    #     stop('Must be a list longer than 1 - TODO implement this with one element')}\n",
    "    if(is.null(names(df.list))){\n",
    "        warning('Names of list is null, colnames of result will be empty')}\n",
    "\n",
    "    keep.cols <- c('taxid', reads.col)\n",
    "    df.list.simple <- lapply(df.list, function(x) x[, keep.cols])\n",
    "\n",
    "    # merge on the taxid column\n",
    "    merge.colname <- 'taxid'\n",
    "    # Reduce to merge list of data frames into one\n",
    "    merge.temp <- suppressWarnings(Reduce(function(x,y) merge(x, y, all=TRUE, by=merge.colname, sort=F), df.list.simple))\n",
    "    rownames(merge.temp) <- merge.temp[,1]\n",
    "    merge.mat <- as.matrix(merge.temp[,c(-1),drop=FALSE])\n",
    "    colnames(merge.mat) <- names(df.list)\n",
    "    merge.mat[is.na(merge.mat)] <- 0\n",
    "    return(merge.mat)\n",
    "}\n",
    "\n",
    "# function to plot gene expression with associated metadata\n",
    "plot_taxa <- function(gene){\n",
    "    nm <- metadata\n",
    "    nm$gene <- lcpm[gene, nm$Run]\n",
    "    g1 <- ggplot(nm, aes(x=perturbation, y=gene)) +\n",
    "        geom_boxplot() +\n",
    "        theme_bw() +\n",
    "        stat_compare_means() +\n",
    "        ggtitle(paste('Expression of TaxID', gene)) +\n",
    "        ylab('log CPM')\n",
    "\n",
    "    g2 <- ggplot(nm, aes(x=collection_date, y=gene)) +\n",
    "        geom_boxplot() +\n",
    "        theme_bw() +\n",
    "        stat_compare_means() +\n",
    "        ggtitle(paste('Expression of TaxID', gene)) +\n",
    "        ylab('log CPM')\n",
    "    ggarrange(g1,g2)\n",
    "\n",
    "}"
   ]
  },
  {
   "cell_type": "code",
   "execution_count": 3,
   "metadata": {},
   "outputs": [
    {
     "data": {
      "text/html": [
       "<table>\n",
       "<caption>A data.frame: 6 × 24</caption>\n",
       "<thead>\n",
       "\t<tr><th></th><th scope=col>Run</th><th scope=col>Assay.Type</th><th scope=col>AvgSpotLen</th><th scope=col>BioProject</th><th scope=col>BioSample</th><th scope=col>Experiment</th><th scope=col>Host_Age</th><th scope=col>host_body_temp</th><th scope=col>host_family_relationship</th><th scope=col>host_sex</th><th scope=col>⋯</th><th scope=col>perturbation</th><th scope=col>sample_acc</th><th scope=col>Sample.Name</th><th scope=col>SRA.Study</th><th scope=col>collection_date</th><th scope=col>env_package</th><th scope=col>samp_size</th><th scope=col>samp_unit</th><th scope=col>samp_store_dur</th><th scope=col>specific_host</th></tr>\n",
       "\t<tr><th></th><th scope=col>&lt;chr&gt;</th><th scope=col>&lt;chr&gt;</th><th scope=col>&lt;int&gt;</th><th scope=col>&lt;chr&gt;</th><th scope=col>&lt;chr&gt;</th><th scope=col>&lt;chr&gt;</th><th scope=col>&lt;chr&gt;</th><th scope=col>&lt;int&gt;</th><th scope=col>&lt;chr&gt;</th><th scope=col>&lt;chr&gt;</th><th scope=col>⋯</th><th scope=col>&lt;chr&gt;</th><th scope=col>&lt;chr&gt;</th><th scope=col>&lt;chr&gt;</th><th scope=col>&lt;chr&gt;</th><th scope=col>&lt;chr&gt;</th><th scope=col>&lt;chr&gt;</th><th scope=col>&lt;int&gt;</th><th scope=col>&lt;chr&gt;</th><th scope=col>&lt;chr&gt;</th><th scope=col>&lt;chr&gt;</th></tr>\n",
       "</thead>\n",
       "<tbody>\n",
       "\t<tr><th scope=row>1</th><td>SRR5368907</td><td>RNA-Seq</td><td>100</td><td>PRJNA237795</td><td>SAMN02645017</td><td>SRX2664163</td><td>41 days</td><td>39</td><td>A</td><td>female</td><td>⋯</td><td>medicated    </td><td>SRS560593</td><td>187_1.sff</td><td>SRP038757</td><td>6/5/12 </td><td>MIGS/MIMS/MIMARKS.host-associated</td><td>1</td><td>grams feces</td><td>1 to 6 months</td><td>Pig_187</td></tr>\n",
       "\t<tr><th scope=row>2</th><td>SRR5368905</td><td>RNA-Seq</td><td> 99</td><td>PRJNA237795</td><td>SAMN02645019</td><td>SRX2664161</td><td>42 days</td><td>39</td><td>A</td><td>female</td><td>⋯</td><td>medicated    </td><td>SRS560594</td><td>187_2.sff</td><td>SRP038757</td><td>6/6/12 </td><td>MIGS/MIMS/MIMARKS.host-associated</td><td>1</td><td>grams feces</td><td>1 to 6 months</td><td>Pig_187</td></tr>\n",
       "\t<tr><th scope=row>3</th><td>SRR5368902</td><td>RNA-Seq</td><td>100</td><td>PRJNA237795</td><td>SAMN02645023</td><td>SRX2664158</td><td>35 days</td><td>39</td><td>A</td><td>female</td><td>⋯</td><td>medicated    </td><td>SRS560599</td><td>187_5.sff</td><td>SRP038757</td><td>5/30/12</td><td>MIGS/MIMS/MIMARKS.host-associated</td><td>1</td><td>grams feces</td><td>1 to 6 months</td><td>Pig_187</td></tr>\n",
       "\t<tr><th scope=row>4</th><td>SRR5368899</td><td>RNA-Seq</td><td> 99</td><td>PRJNA237795</td><td>SAMN02645024</td><td>SRX2664155</td><td>47 days</td><td>39</td><td>A</td><td>female</td><td>⋯</td><td>medicated    </td><td>SRS560598</td><td>187_7.sff</td><td>SRP038757</td><td>6/11/12</td><td>MIGS/MIMS/MIMARKS.host-associated</td><td>1</td><td>grams feces</td><td>1 to 6 months</td><td>Pig_187</td></tr>\n",
       "\t<tr><th scope=row>5</th><td>SRR5368896</td><td>RNA-Seq</td><td>100</td><td>PRJNA237795</td><td>SAMN02645029</td><td>SRX2664152</td><td>41 days</td><td>39</td><td>A</td><td>female</td><td>⋯</td><td>non-medicated</td><td>SRS560604</td><td>188_1.sff</td><td>SRP038757</td><td>6/5/12 </td><td>MIGS/MIMS/MIMARKS.host-associated</td><td>1</td><td>grams feces</td><td>1 to 6 months</td><td>Pig_188</td></tr>\n",
       "\t<tr><th scope=row>6</th><td>SRR5368894</td><td>RNA-Seq</td><td>100</td><td>PRJNA237795</td><td>SAMN02645031</td><td>SRX2664150</td><td>42 days</td><td>39</td><td>A</td><td>female</td><td>⋯</td><td>non-medicated</td><td>SRS560606</td><td>188_2.sff</td><td>SRP038757</td><td>6/6/12 </td><td>MIGS/MIMS/MIMARKS.host-associated</td><td>1</td><td>grams feces</td><td>1 to 6 months</td><td>Pig_188</td></tr>\n",
       "</tbody>\n",
       "</table>\n"
      ],
      "text/latex": [
       "A data.frame: 6 × 24\n",
       "\\begin{tabular}{r|lllllllllllllllllllll}\n",
       "  & Run & Assay.Type & AvgSpotLen & BioProject & BioSample & Experiment & Host\\_Age & host\\_body\\_temp & host\\_family\\_relationship & host\\_sex & ⋯ & perturbation & sample\\_acc & Sample.Name & SRA.Study & collection\\_date & env\\_package & samp\\_size & samp\\_unit & samp\\_store\\_dur & specific\\_host\\\\\n",
       "  & <chr> & <chr> & <int> & <chr> & <chr> & <chr> & <chr> & <int> & <chr> & <chr> & ⋯ & <chr> & <chr> & <chr> & <chr> & <chr> & <chr> & <int> & <chr> & <chr> & <chr>\\\\\n",
       "\\hline\n",
       "\t1 & SRR5368907 & RNA-Seq & 100 & PRJNA237795 & SAMN02645017 & SRX2664163 & 41 days & 39 & A & female & ⋯ & medicated     & SRS560593 & 187\\_1.sff & SRP038757 & 6/5/12  & MIGS/MIMS/MIMARKS.host-associated & 1 & grams feces & 1 to 6 months & Pig\\_187\\\\\n",
       "\t2 & SRR5368905 & RNA-Seq &  99 & PRJNA237795 & SAMN02645019 & SRX2664161 & 42 days & 39 & A & female & ⋯ & medicated     & SRS560594 & 187\\_2.sff & SRP038757 & 6/6/12  & MIGS/MIMS/MIMARKS.host-associated & 1 & grams feces & 1 to 6 months & Pig\\_187\\\\\n",
       "\t3 & SRR5368902 & RNA-Seq & 100 & PRJNA237795 & SAMN02645023 & SRX2664158 & 35 days & 39 & A & female & ⋯ & medicated     & SRS560599 & 187\\_5.sff & SRP038757 & 5/30/12 & MIGS/MIMS/MIMARKS.host-associated & 1 & grams feces & 1 to 6 months & Pig\\_187\\\\\n",
       "\t4 & SRR5368899 & RNA-Seq &  99 & PRJNA237795 & SAMN02645024 & SRX2664155 & 47 days & 39 & A & female & ⋯ & medicated     & SRS560598 & 187\\_7.sff & SRP038757 & 6/11/12 & MIGS/MIMS/MIMARKS.host-associated & 1 & grams feces & 1 to 6 months & Pig\\_187\\\\\n",
       "\t5 & SRR5368896 & RNA-Seq & 100 & PRJNA237795 & SAMN02645029 & SRX2664152 & 41 days & 39 & A & female & ⋯ & non-medicated & SRS560604 & 188\\_1.sff & SRP038757 & 6/5/12  & MIGS/MIMS/MIMARKS.host-associated & 1 & grams feces & 1 to 6 months & Pig\\_188\\\\\n",
       "\t6 & SRR5368894 & RNA-Seq & 100 & PRJNA237795 & SAMN02645031 & SRX2664150 & 42 days & 39 & A & female & ⋯ & non-medicated & SRS560606 & 188\\_2.sff & SRP038757 & 6/6/12  & MIGS/MIMS/MIMARKS.host-associated & 1 & grams feces & 1 to 6 months & Pig\\_188\\\\\n",
       "\\end{tabular}\n"
      ],
      "text/markdown": [
       "\n",
       "A data.frame: 6 × 24\n",
       "\n",
       "| <!--/--> | Run &lt;chr&gt; | Assay.Type &lt;chr&gt; | AvgSpotLen &lt;int&gt; | BioProject &lt;chr&gt; | BioSample &lt;chr&gt; | Experiment &lt;chr&gt; | Host_Age &lt;chr&gt; | host_body_temp &lt;int&gt; | host_family_relationship &lt;chr&gt; | host_sex &lt;chr&gt; | ⋯ ⋯ | perturbation &lt;chr&gt; | sample_acc &lt;chr&gt; | Sample.Name &lt;chr&gt; | SRA.Study &lt;chr&gt; | collection_date &lt;chr&gt; | env_package &lt;chr&gt; | samp_size &lt;int&gt; | samp_unit &lt;chr&gt; | samp_store_dur &lt;chr&gt; | specific_host &lt;chr&gt; |\n",
       "|---|---|---|---|---|---|---|---|---|---|---|---|---|---|---|---|---|---|---|---|---|---|\n",
       "| 1 | SRR5368907 | RNA-Seq | 100 | PRJNA237795 | SAMN02645017 | SRX2664163 | 41 days | 39 | A | female | ⋯ | medicated     | SRS560593 | 187_1.sff | SRP038757 | 6/5/12  | MIGS/MIMS/MIMARKS.host-associated | 1 | grams feces | 1 to 6 months | Pig_187 |\n",
       "| 2 | SRR5368905 | RNA-Seq |  99 | PRJNA237795 | SAMN02645019 | SRX2664161 | 42 days | 39 | A | female | ⋯ | medicated     | SRS560594 | 187_2.sff | SRP038757 | 6/6/12  | MIGS/MIMS/MIMARKS.host-associated | 1 | grams feces | 1 to 6 months | Pig_187 |\n",
       "| 3 | SRR5368902 | RNA-Seq | 100 | PRJNA237795 | SAMN02645023 | SRX2664158 | 35 days | 39 | A | female | ⋯ | medicated     | SRS560599 | 187_5.sff | SRP038757 | 5/30/12 | MIGS/MIMS/MIMARKS.host-associated | 1 | grams feces | 1 to 6 months | Pig_187 |\n",
       "| 4 | SRR5368899 | RNA-Seq |  99 | PRJNA237795 | SAMN02645024 | SRX2664155 | 47 days | 39 | A | female | ⋯ | medicated     | SRS560598 | 187_7.sff | SRP038757 | 6/11/12 | MIGS/MIMS/MIMARKS.host-associated | 1 | grams feces | 1 to 6 months | Pig_187 |\n",
       "| 5 | SRR5368896 | RNA-Seq | 100 | PRJNA237795 | SAMN02645029 | SRX2664152 | 41 days | 39 | A | female | ⋯ | non-medicated | SRS560604 | 188_1.sff | SRP038757 | 6/5/12  | MIGS/MIMS/MIMARKS.host-associated | 1 | grams feces | 1 to 6 months | Pig_188 |\n",
       "| 6 | SRR5368894 | RNA-Seq | 100 | PRJNA237795 | SAMN02645031 | SRX2664150 | 42 days | 39 | A | female | ⋯ | non-medicated | SRS560606 | 188_2.sff | SRP038757 | 6/6/12  | MIGS/MIMS/MIMARKS.host-associated | 1 | grams feces | 1 to 6 months | Pig_188 |\n",
       "\n"
      ],
      "text/plain": [
       "  Run        Assay.Type AvgSpotLen BioProject  BioSample    Experiment Host_Age\n",
       "1 SRR5368907 RNA-Seq    100        PRJNA237795 SAMN02645017 SRX2664163 41 days \n",
       "2 SRR5368905 RNA-Seq     99        PRJNA237795 SAMN02645019 SRX2664161 42 days \n",
       "3 SRR5368902 RNA-Seq    100        PRJNA237795 SAMN02645023 SRX2664158 35 days \n",
       "4 SRR5368899 RNA-Seq     99        PRJNA237795 SAMN02645024 SRX2664155 47 days \n",
       "5 SRR5368896 RNA-Seq    100        PRJNA237795 SAMN02645029 SRX2664152 41 days \n",
       "6 SRR5368894 RNA-Seq    100        PRJNA237795 SAMN02645031 SRX2664150 42 days \n",
       "  host_body_temp host_family_relationship host_sex ⋯ perturbation  sample_acc\n",
       "1 39             A                        female   ⋯ medicated     SRS560593 \n",
       "2 39             A                        female   ⋯ medicated     SRS560594 \n",
       "3 39             A                        female   ⋯ medicated     SRS560599 \n",
       "4 39             A                        female   ⋯ medicated     SRS560598 \n",
       "5 39             A                        female   ⋯ non-medicated SRS560604 \n",
       "6 39             A                        female   ⋯ non-medicated SRS560606 \n",
       "  Sample.Name SRA.Study collection_date env_package                      \n",
       "1 187_1.sff   SRP038757 6/5/12          MIGS/MIMS/MIMARKS.host-associated\n",
       "2 187_2.sff   SRP038757 6/6/12          MIGS/MIMS/MIMARKS.host-associated\n",
       "3 187_5.sff   SRP038757 5/30/12         MIGS/MIMS/MIMARKS.host-associated\n",
       "4 187_7.sff   SRP038757 6/11/12         MIGS/MIMS/MIMARKS.host-associated\n",
       "5 188_1.sff   SRP038757 6/5/12          MIGS/MIMS/MIMARKS.host-associated\n",
       "6 188_2.sff   SRP038757 6/6/12          MIGS/MIMS/MIMARKS.host-associated\n",
       "  samp_size samp_unit   samp_store_dur specific_host\n",
       "1 1         grams feces 1 to 6 months  Pig_187      \n",
       "2 1         grams feces 1 to 6 months  Pig_187      \n",
       "3 1         grams feces 1 to 6 months  Pig_187      \n",
       "4 1         grams feces 1 to 6 months  Pig_187      \n",
       "5 1         grams feces 1 to 6 months  Pig_188      \n",
       "6 1         grams feces 1 to 6 months  Pig_188      "
      ]
     },
     "metadata": {},
     "output_type": "display_data"
    }
   ],
   "source": [
    "#Read metadata\n",
    "setwd(\"data\")\n",
    "metadata <- read.table('tables/MetadataRNASeq.csv', sep=',', quote = '', header=T)\n",
    "head(metadata)"
   ]
  },
  {
   "cell_type": "code",
   "execution_count": 5,
   "metadata": {},
   "outputs": [],
   "source": [
    "#For each sample (\"Run\") grab the report from Kraken and read the file\n",
    "f.ext <- '.Cas9_ORFs.kreport'\n",
    "classification.folder <- 'tables/allCounts'\n",
    "flist <- sapply(metadata$Run, function(x) file.path(classification.folder, paste(x, f.ext, sep='')))\n",
    "names(flist) <- metadata$Run\n",
    "if (!(all(file.exists(flist)))){\n",
    "    # print which files don't exist\n",
    "    message('The follwing files do not exist:')\n",
    "    print(flist[!sapply(flist, file.exists)])\n",
    "    stop(\"Some classification files do not exist!\")\n",
    "}\n",
    "df.list <- lapply(flist, function(x) kraken_file_to_df(x))\n",
    "ex.mat <- merge_kraken_df_list(df.list, reads.col = 'reads.direct')\n",
    "                  "
   ]
  },
  {
   "cell_type": "code",
   "execution_count": 5,
   "metadata": {},
   "outputs": [],
   "source": [
    "# Extract the taxa classification counts and norm by library size\n",
    "ex.mat.classified <- ex.mat[-1, ]\n",
    "ex.totals <- colSums(ex.mat)\n",
    "ex.classified.totals <- colSums(ex.mat.classified)\n",
    "ex.classified.frac <- ex.classified.totals/ex.totals"
   ]
  },
  {
   "cell_type": "code",
   "execution_count": 6,
   "metadata": {},
   "outputs": [],
   "source": [
    "#Make some plots to show differences in covariates\n",
    "\n",
    "metadata$ex.classified.frac <- ex.classified.frac[metadata$Run]\n",
    "# metadata$ex.classified.frac <- ex.totals[metadata$Run]\n",
    "g1 <- ggplot(metadata, aes(x=perturbation, y=ex.classified.frac)) +\n",
    "    geom_boxplot() +\n",
    "    theme_bw() +\n",
    "    stat_compare_means() +\n",
    "    ylab('Fraction of reads classified')\n",
    "g2 <- ggplot(metadata, aes(x=perturbation, y=ex.totals)) +\n",
    "    geom_boxplot() +\n",
    "    theme_bw() +\n",
    "    stat_compare_means() +\n",
    "    ylab('Total reads')\n",
    "\n",
    "g3 <- ggplot(metadata, aes(x=host_sex, y=ex.classified.frac)) +\n",
    "    geom_boxplot() +\n",
    "    theme_bw() +\n",
    "    stat_compare_means()+\n",
    "    ylab('Fraction of reads classified')\n",
    "g4 <- ggplot(metadata, aes(x=host_sex, y=ex.totals)) +\n",
    "    geom_boxplot() +\n",
    "    theme_bw() +\n",
    "    stat_compare_means()+\n",
    "    ylab('Total reads')\n",
    "\n",
    "g5 <- ggplot(metadata, aes(x=specific_host, y=ex.classified.frac)) +\n",
    "    geom_boxplot() +\n",
    "    theme_bw() +\n",
    "    stat_compare_means()+\n",
    "    ylab('Fraction of reads classified')\n",
    "g6 <- ggplot(metadata, aes(x=specific_host, y=ex.totals)) +\n",
    "    geom_boxplot() +\n",
    "    theme_bw() +\n",
    "    stat_compare_means()+\n",
    "    ylab('Total reads')\n",
    "\n",
    "g7 <- ggplot(metadata, aes(x=host_family_relationship, y=ex.classified.frac)) +\n",
    "    geom_boxplot() +\n",
    "    theme_bw() +\n",
    "    stat_compare_means()+\n",
    "    ylab('Fraction of reads classified')\n",
    "g8 <- ggplot(metadata, aes(x=host_family_relationship, y=ex.totals)) +\n",
    "    geom_boxplot() +\n",
    "    theme_bw() +\n",
    "    stat_compare_means()+\n",
    "    ylab('Total reads')\n",
    "\n",
    "g9 <- ggplot(metadata, aes(x=collection_date, y=ex.classified.frac)) +\n",
    "    geom_boxplot() +\n",
    "    theme_bw() +\n",
    "    stat_compare_means()+\n",
    "    ylab('Fraction of reads classified')\n",
    "g10 <- ggplot(metadata, aes(x=collection_date, y=ex.totals)) +\n",
    "    geom_boxplot() +\n",
    "    theme_bw() +\n",
    "    stat_compare_means()+\n",
    "    ylab('Total reads')"
   ]
  },
  {
   "cell_type": "code",
   "execution_count": 19,
   "metadata": {},
   "outputs": [
    {
     "data": {
      "image/png": "[encoded data removed]",
      "text/plain": [
       "plot without title"
      ]
     },
     "metadata": {
      "image/png": {
       "height": 420,
       "width": 420
      }
     },
     "output_type": "display_data"
    }
   ],
   "source": [
    "ggarrange(g1,g2,ncol=1,nrow=2)"
   ]
  },
  {
   "cell_type": "code",
   "execution_count": 20,
   "metadata": {},
   "outputs": [
    {
     "data": {
      "image/png": "[encoded data removed]",
      "text/plain": [
       "plot without title"
      ]
     },
     "metadata": {
      "image/png": {
       "height": 420,
       "width": 420
      }
     },
     "output_type": "display_data"
    }
   ],
   "source": [
    "ggarrange(g3,g4,ncol=1,nrow=2)"
   ]
  },
  {
   "cell_type": "code",
   "execution_count": 21,
   "metadata": {},
   "outputs": [
    {
     "data": {
      "image/png": "[encoded data removed]",
      "text/plain": [
       "plot without title"
      ]
     },
     "metadata": {
      "image/png": {
       "height": 420,
       "width": 420
      }
     },
     "output_type": "display_data"
    }
   ],
   "source": [
    "ggarrange(g5,g6,ncol=1,nrow=2)"
   ]
  },
  {
   "cell_type": "code",
   "execution_count": 22,
   "metadata": {},
   "outputs": [
    {
     "data": {
      "image/png": "[encoded data removed]",
      "text/plain": [
       "plot without title"
      ]
     },
     "metadata": {
      "image/png": {
       "height": 420,
       "width": 420
      }
     },
     "output_type": "display_data"
    }
   ],
   "source": [
    "ggarrange(g7,g8,ncol=1,nrow=2)"
   ]
  },
  {
   "cell_type": "code",
   "execution_count": 23,
   "metadata": {},
   "outputs": [
    {
     "data": {
      "image/png": "[encoded data removed]",
      "text/plain": [
       "plot without title"
      ]
     },
     "metadata": {
      "image/png": {
       "height": 420,
       "width": 420
      }
     },
     "output_type": "display_data"
    }
   ],
   "source": [
    "ggarrange(g9,g10,ncol=1,nrow=2)"
   ]
  },
  {
   "cell_type": "code",
   "execution_count": 7,
   "metadata": {},
   "outputs": [
    {
     "data": {
      "text/html": [
       "<strong>png:</strong> 2"
      ],
      "text/latex": [
       "\\textbf{png:} 2"
      ],
      "text/markdown": [
       "**png:** 2"
      ],
      "text/plain": [
       "png \n",
       "  2 "
      ]
     },
     "metadata": {},
     "output_type": "display_data"
    },
    {
     "data": {
      "text/html": [
       "<strong>png:</strong> 2"
      ],
      "text/latex": [
       "\\textbf{png:} 2"
      ],
      "text/markdown": [
       "**png:** 2"
      ],
      "text/plain": [
       "png \n",
       "  2 "
      ]
     },
     "metadata": {},
     "output_type": "display_data"
    },
    {
     "data": {
      "text/html": [
       "<strong>png:</strong> 2"
      ],
      "text/latex": [
       "\\textbf{png:} 2"
      ],
      "text/markdown": [
       "**png:** 2"
      ],
      "text/plain": [
       "png \n",
       "  2 "
      ]
     },
     "metadata": {},
     "output_type": "display_data"
    },
    {
     "data": {
      "text/html": [
       "<strong>png:</strong> 2"
      ],
      "text/latex": [
       "\\textbf{png:} 2"
      ],
      "text/markdown": [
       "**png:** 2"
      ],
      "text/plain": [
       "png \n",
       "  2 "
      ]
     },
     "metadata": {},
     "output_type": "display_data"
    },
    {
     "data": {
      "text/html": [
       "<strong>png:</strong> 2"
      ],
      "text/latex": [
       "\\textbf{png:} 2"
      ],
      "text/markdown": [
       "**png:** 2"
      ],
      "text/plain": [
       "png \n",
       "  2 "
      ]
     },
     "metadata": {},
     "output_type": "display_data"
    }
   ],
   "source": [
    "#Save plots to files\n",
    "pdf('figures/Cas9_Treatment_boxplots.pdf')\n",
    "ggarrange(g1,g2,ncol=1,nrow=2)\n",
    "dev.off()\n",
    "pdf('figures/Cas9_HostSex_boxplots.pdf')\n",
    "ggarrange(g3,g4,ncol=1,nrow=2)\n",
    "dev.off()\n",
    "pdf('figures/Cas9_PigID_boxplots.pdf')\n",
    "ggarrange(g5,g6,ncol=1,nrow=2)\n",
    "dev.off()\n",
    "pdf('figures/Cas9_Parent_boxplots.pdf')\n",
    "ggarrange(g7,g8,ncol=1,nrow=2)\n",
    "dev.off()\n",
    "pdf('figures/Cas9_sampleDate_boxplots.pdf')\n",
    "ggarrange(g9,g10,ncol=1,nrow=2)\n",
    "dev.off()"
   ]
  },
  {
   "cell_type": "code",
   "execution_count": 8,
   "metadata": {},
   "outputs": [
    {
     "data": {
      "text/plain": [
       "\n",
       "Call:\n",
       "lm(formula = ex.classified.frac ~ perturbation + host_sex + host_family_relationship + \n",
       "    collection_date + specific_host, data = metadata)\n",
       "\n",
       "Residuals:\n",
       "       Min         1Q     Median         3Q        Max \n",
       "-2.534e-05 -7.219e-06 -2.791e-06  5.409e-06  5.842e-05 \n",
       "\n",
       "Coefficients: (3 not defined because of singularities)\n",
       "                            Estimate Std. Error t value Pr(>|t|)   \n",
       "(Intercept)                2.708e-05  9.607e-06   2.819  0.00833 **\n",
       "perturbationnon-medicated -1.012e-05  1.308e-05  -0.774  0.44484   \n",
       "host_sexmale              -9.487e-07  1.308e-05  -0.073  0.94264   \n",
       "host_family_relationshipB -1.531e-06  1.308e-05  -0.117  0.90755   \n",
       "collection_date6/11/12    -3.684e-06  7.152e-06  -0.515  0.61020   \n",
       "collection_date6/5/12     -7.680e-06  7.366e-06  -1.043  0.30522   \n",
       "collection_date6/6/12      1.445e-05  7.152e-06   2.020  0.05213 . \n",
       "specific_hostPig_188       1.033e-06  1.777e-05   0.058  0.95403   \n",
       "specific_hostPig_189       5.041e-06  1.777e-05   0.284  0.77854   \n",
       "specific_hostPig_190      -3.082e-06  1.854e-05  -0.166  0.86903   \n",
       "specific_hostPig_191      -1.071e-06  1.777e-05  -0.060  0.95230   \n",
       "specific_hostPig_192      -2.335e-06  1.777e-05  -0.131  0.89630   \n",
       "specific_hostPig_193       6.448e-07  2.447e-05   0.026  0.97914   \n",
       "specific_hostPig_194      -1.461e-05  1.845e-05  -0.792  0.43440   \n",
       "specific_hostPig_195      -1.185e-05  1.308e-05  -0.906  0.37177   \n",
       "specific_hostPig_196              NA         NA      NA       NA   \n",
       "specific_hostPig_197       2.178e-06  1.308e-05   0.167  0.86883   \n",
       "specific_hostPig_198              NA         NA      NA       NA   \n",
       "specific_hostPig_200              NA         NA      NA       NA   \n",
       "---\n",
       "Signif. codes:  0 ‘***’ 0.001 ‘**’ 0.01 ‘*’ 0.05 ‘.’ 0.1 ‘ ’ 1\n",
       "\n",
       "Residual standard error: 1.701e-05 on 31 degrees of freedom\n",
       "Multiple R-squared:  0.3679,\tAdjusted R-squared:  0.0621 \n",
       "F-statistic: 1.203 on 15 and 31 DF,  p-value: 0.3203\n"
      ]
     },
     "metadata": {},
     "output_type": "display_data"
    }
   ],
   "source": [
    "# linear model looking for differences with covariates\n",
    "fit <- lm(ex.classified.frac~perturbation + host_sex + host_family_relationship + collection_date + specific_host, data=metadata)\n",
    "summary(fit)"
   ]
  },
  {
   "cell_type": "code",
   "execution_count": 9,
   "metadata": {},
   "outputs": [
    {
     "data": {
      "text/html": [
       "<style>\n",
       ".list-inline {list-style: none; margin:0; padding: 0}\n",
       ".list-inline>li {display: inline-block}\n",
       ".list-inline>li:not(:last-child)::after {content: \"\\00b7\"; padding: 0 .5ex}\n",
       "</style>\n",
       "<ol class=list-inline><li>920</li><li>47</li></ol>\n"
      ],
      "text/latex": [
       "\\begin{enumerate*}\n",
       "\\item 920\n",
       "\\item 47\n",
       "\\end{enumerate*}\n"
      ],
      "text/markdown": [
       "1. 920\n",
       "2. 47\n",
       "\n",
       "\n"
      ],
      "text/plain": [
       "[1] 920  47"
      ]
     },
     "metadata": {},
     "output_type": "display_data"
    },
    {
     "data": {
      "text/html": [
       "<style>\n",
       ".list-inline {list-style: none; margin:0; padding: 0}\n",
       ".list-inline>li {display: inline-block}\n",
       ".list-inline>li:not(:last-child)::after {content: \"\\00b7\"; padding: 0 .5ex}\n",
       "</style>\n",
       "<ol class=list-inline><li>4</li><li>47</li></ol>\n"
      ],
      "text/latex": [
       "\\begin{enumerate*}\n",
       "\\item 4\n",
       "\\item 47\n",
       "\\end{enumerate*}\n"
      ],
      "text/markdown": [
       "1. 4\n",
       "2. 47\n",
       "\n",
       "\n"
      ],
      "text/plain": [
       "[1]  4 47"
      ]
     },
     "metadata": {},
     "output_type": "display_data"
    }
   ],
   "source": [
    "# subset expression data to set remove low counts\n",
    "keep.exprs <- filterByExpr(ex.mat.classified, group=metadata$perturbation,  min.count=5, min.total.count = 10)\n",
    "ex.mat.classified.filt <- ex.mat.classified[keep.exprs,]\n",
    "dim(ex.mat.classified)\n",
    "dim(ex.mat.classified.filt)"
   ]
  },
  {
   "cell_type": "code",
   "execution_count": 35,
   "metadata": {},
   "outputs": [],
   "source": [
    "#although there are only 4 taxIDs that have more than 10 reads classified to them I am going to norm to counts per million\n",
    "cpm <- cpm(ex.mat.classified.filt, log=FALSE)\n",
    "lcpm <- cpm(ex.mat.classified.filt, log=TRUE)"
   ]
  },
  {
   "cell_type": "code",
   "execution_count": 38,
   "metadata": {},
   "outputs": [
    {
     "data": {
      "text/html": [
       "<table>\n",
       "<caption>A matrix: 4 × 47 of type dbl</caption>\n",
       "<thead>\n",
       "\t<tr><th></th><th scope=col>SRR5368907</th><th scope=col>SRR5368905</th><th scope=col>SRR5368902</th><th scope=col>SRR5368899</th><th scope=col>SRR5368896</th><th scope=col>SRR5368894</th><th scope=col>SRR5368891</th><th scope=col>SRR5368888</th><th scope=col>SRR5368885</th><th scope=col>SRR5368883</th><th scope=col>⋯</th><th scope=col>SRR5368800</th><th scope=col>SRR5368798</th><th scope=col>SRR5368795</th><th scope=col>SRR5368792</th><th scope=col>SRR5368789</th><th scope=col>SRR5368786</th><th scope=col>SRR5368783</th><th scope=col>SRR5368780</th><th scope=col>SRR5368778</th><th scope=col>SRR5368774</th></tr>\n",
       "</thead>\n",
       "<tbody>\n",
       "\t<tr><th scope=row>1358</th><td>976545.842</td><td>985614.745</td><td>961472.603</td><td>974148.061</td><td>773109.2</td><td>923076.923</td><td>905381.944</td><td>976897.69</td><td>977272.727</td><td>937459.070</td><td>⋯</td><td>951972.556</td><td>958263.773</td><td>986486.486</td><td>886486.486</td><td>986731.001</td><td>994123.4084</td><td>976331.36</td><td>949886.105</td><td>942738.589</td><td>964539.007</td></tr>\n",
       "\t<tr><th scope=row>2255</th><td>  6396.588</td><td>  2922.005</td><td>  2568.493</td><td>     0.000</td><td>100840.3</td><td> 57525.084</td><td>  8680.556</td><td>  6600.66</td><td>  7575.758</td><td>  1309.758</td><td>⋯</td><td> 20583.190</td><td>  7512.521</td><td>  2252.252</td><td>     0.000</td><td>  7237.636</td><td>   979.4319</td><td>  1479.29</td><td>  1138.952</td><td>  5809.129</td><td> 14184.397</td></tr>\n",
       "\t<tr><th scope=row>1403</th><td> 17057.569</td><td> 10339.402</td><td> 32534.247</td><td> 24676.851</td><td>126050.4</td><td> 12709.030</td><td> 75520.833</td><td>  3300.33</td><td> 15151.515</td><td> 58939.096</td><td>⋯</td><td> 22298.456</td><td> 29215.359</td><td>  1126.126</td><td>  2702.703</td><td>  6031.363</td><td>     0.0000</td><td> 22189.35</td><td>  3416.856</td><td> 34024.896</td><td> 14184.397</td></tr>\n",
       "\t<tr><th scope=row>1078</th><td>     0.000</td><td>  1123.848</td><td>  3424.658</td><td>  1175.088</td><td>     0.0</td><td>  6688.963</td><td> 10416.667</td><td> 13201.32</td><td>     0.000</td><td>  2292.076</td><td>⋯</td><td>  5145.798</td><td>  5008.347</td><td> 10135.135</td><td>110810.811</td><td>     0.000</td><td>  4897.1596</td><td>     0.00</td><td> 45558.087</td><td> 17427.386</td><td>  7092.199</td></tr>\n",
       "</tbody>\n",
       "</table>\n"
      ],
      "text/latex": [
       "A matrix: 4 × 47 of type dbl\n",
       "\\begin{tabular}{r|lllllllllllllllllllll}\n",
       "  & SRR5368907 & SRR5368905 & SRR5368902 & SRR5368899 & SRR5368896 & SRR5368894 & SRR5368891 & SRR5368888 & SRR5368885 & SRR5368883 & ⋯ & SRR5368800 & SRR5368798 & SRR5368795 & SRR5368792 & SRR5368789 & SRR5368786 & SRR5368783 & SRR5368780 & SRR5368778 & SRR5368774\\\\\n",
       "\\hline\n",
       "\t1358 & 976545.842 & 985614.745 & 961472.603 & 974148.061 & 773109.2 & 923076.923 & 905381.944 & 976897.69 & 977272.727 & 937459.070 & ⋯ & 951972.556 & 958263.773 & 986486.486 & 886486.486 & 986731.001 & 994123.4084 & 976331.36 & 949886.105 & 942738.589 & 964539.007\\\\\n",
       "\t2255 &   6396.588 &   2922.005 &   2568.493 &      0.000 & 100840.3 &  57525.084 &   8680.556 &   6600.66 &   7575.758 &   1309.758 & ⋯ &  20583.190 &   7512.521 &   2252.252 &      0.000 &   7237.636 &    979.4319 &   1479.29 &   1138.952 &   5809.129 &  14184.397\\\\\n",
       "\t1403 &  17057.569 &  10339.402 &  32534.247 &  24676.851 & 126050.4 &  12709.030 &  75520.833 &   3300.33 &  15151.515 &  58939.096 & ⋯ &  22298.456 &  29215.359 &   1126.126 &   2702.703 &   6031.363 &      0.0000 &  22189.35 &   3416.856 &  34024.896 &  14184.397\\\\\n",
       "\t1078 &      0.000 &   1123.848 &   3424.658 &   1175.088 &      0.0 &   6688.963 &  10416.667 &  13201.32 &      0.000 &   2292.076 & ⋯ &   5145.798 &   5008.347 &  10135.135 & 110810.811 &      0.000 &   4897.1596 &      0.00 &  45558.087 &  17427.386 &   7092.199\\\\\n",
       "\\end{tabular}\n"
      ],
      "text/markdown": [
       "\n",
       "A matrix: 4 × 47 of type dbl\n",
       "\n",
       "| <!--/--> | SRR5368907 | SRR5368905 | SRR5368902 | SRR5368899 | SRR5368896 | SRR5368894 | SRR5368891 | SRR5368888 | SRR5368885 | SRR5368883 | ⋯ | SRR5368800 | SRR5368798 | SRR5368795 | SRR5368792 | SRR5368789 | SRR5368786 | SRR5368783 | SRR5368780 | SRR5368778 | SRR5368774 |\n",
       "|---|---|---|---|---|---|---|---|---|---|---|---|---|---|---|---|---|---|---|---|---|---|\n",
       "| 1358 | 976545.842 | 985614.745 | 961472.603 | 974148.061 | 773109.2 | 923076.923 | 905381.944 | 976897.69 | 977272.727 | 937459.070 | ⋯ | 951972.556 | 958263.773 | 986486.486 | 886486.486 | 986731.001 | 994123.4084 | 976331.36 | 949886.105 | 942738.589 | 964539.007 |\n",
       "| 2255 |   6396.588 |   2922.005 |   2568.493 |      0.000 | 100840.3 |  57525.084 |   8680.556 |   6600.66 |   7575.758 |   1309.758 | ⋯ |  20583.190 |   7512.521 |   2252.252 |      0.000 |   7237.636 |    979.4319 |   1479.29 |   1138.952 |   5809.129 |  14184.397 |\n",
       "| 1403 |  17057.569 |  10339.402 |  32534.247 |  24676.851 | 126050.4 |  12709.030 |  75520.833 |   3300.33 |  15151.515 |  58939.096 | ⋯ |  22298.456 |  29215.359 |   1126.126 |   2702.703 |   6031.363 |      0.0000 |  22189.35 |   3416.856 |  34024.896 |  14184.397 |\n",
       "| 1078 |      0.000 |   1123.848 |   3424.658 |   1175.088 |      0.0 |   6688.963 |  10416.667 |  13201.32 |      0.000 |   2292.076 | ⋯ |   5145.798 |   5008.347 |  10135.135 | 110810.811 |      0.000 |   4897.1596 |      0.00 |  45558.087 |  17427.386 |   7092.199 |\n",
       "\n"
      ],
      "text/plain": [
       "     SRR5368907 SRR5368905 SRR5368902 SRR5368899 SRR5368896 SRR5368894\n",
       "1358 976545.842 985614.745 961472.603 974148.061 773109.2   923076.923\n",
       "2255   6396.588   2922.005   2568.493      0.000 100840.3    57525.084\n",
       "1403  17057.569  10339.402  32534.247  24676.851 126050.4    12709.030\n",
       "1078      0.000   1123.848   3424.658   1175.088      0.0     6688.963\n",
       "     SRR5368891 SRR5368888 SRR5368885 SRR5368883 ⋯ SRR5368800 SRR5368798\n",
       "1358 905381.944 976897.69  977272.727 937459.070 ⋯ 951972.556 958263.773\n",
       "2255   8680.556   6600.66    7575.758   1309.758 ⋯  20583.190   7512.521\n",
       "1403  75520.833   3300.33   15151.515  58939.096 ⋯  22298.456  29215.359\n",
       "1078  10416.667  13201.32       0.000   2292.076 ⋯   5145.798   5008.347\n",
       "     SRR5368795 SRR5368792 SRR5368789 SRR5368786  SRR5368783 SRR5368780\n",
       "1358 986486.486 886486.486 986731.001 994123.4084 976331.36  949886.105\n",
       "2255   2252.252      0.000   7237.636    979.4319   1479.29    1138.952\n",
       "1403   1126.126   2702.703   6031.363      0.0000  22189.35    3416.856\n",
       "1078  10135.135 110810.811      0.000   4897.1596      0.00   45558.087\n",
       "     SRR5368778 SRR5368774\n",
       "1358 942738.589 964539.007\n",
       "2255   5809.129  14184.397\n",
       "1403  34024.896  14184.397\n",
       "1078  17427.386   7092.199"
      ]
     },
     "metadata": {},
     "output_type": "display_data"
    }
   ],
   "source": [
    "cpm"
   ]
  },
  {
   "cell_type": "code",
   "execution_count": 12,
   "metadata": {},
   "outputs": [
    {
     "name": "stderr",
     "output_type": "stream",
     "text": [
      "Warning message in brewer.pal(2, \"Set1\"):\n",
      "“minimal value for n is 3, returning requested palette with 3 different levels\n",
      "”\n"
     ]
    },
    {
     "data": {
      "text/html": [
       "<strong>png:</strong> 2"
      ],
      "text/latex": [
       "\\textbf{png:} 2"
      ],
      "text/markdown": [
       "**png:** 2"
      ],
      "text/plain": [
       "png \n",
       "  2 "
      ]
     },
     "metadata": {},
     "output_type": "display_data"
    }
   ],
   "source": [
    "# NMDS to look at samples by collection date\n",
    "group.to.color <- brewer.pal(2, \"Set1\")[1:2]\n",
    "names(group.to.color) <- unique(metadata$perturbation)\n",
    "col.group <- group.to.color[metadata$perturbation]\n",
    "date.to.color <- brewer.pal(4, \"Set1\")\n",
    "names(date.to.color) <- unique(metadata$collection_date)\n",
    "col.date <- date.to.color[metadata$collection_date]\n",
    "\n",
    "pdf('figures/Cas9_MDS.pdf', height=6, width=10)\n",
    "mypar(1,2)\n",
    "plotMDS(lcpm, labels=1:nrow(metadata), col=col.group)\n",
    "title(main=\"Treatment\")\n",
    "legend('topright', legend = names(date.to.color), fill = group.to.color)\n",
    "plotMDS(lcpm, labels=1:nrow(metadata), col=col.date, xlim=c(-4,4.5), ylim=c(-2,1.7))\n",
    "title(main=\"Collection Date\")\n",
    "legend('topright', legend = names(date.to.color), fill = date.to.color)\n",
    "dev.off()"
   ]
  },
  {
   "cell_type": "code",
   "execution_count": 40,
   "metadata": {},
   "outputs": [
    {
     "data": {
      "text/html": [
       "<style>\n",
       ".list-inline {list-style: none; margin:0; padding: 0}\n",
       ".list-inline>li {display: inline-block}\n",
       ".list-inline>li:not(:last-child)::after {content: \"\\00b7\"; padding: 0 .5ex}\n",
       "</style>\n",
       "<ol class=list-inline><li>'6/5/12'</li><li>'6/6/12'</li><li>'5/30/12'</li><li>'6/11/12'</li><li>'6/5/12'</li><li>'6/6/12'</li><li>'5/30/12'</li><li>'6/11/12'</li><li>'6/5/12'</li><li>'6/6/12'</li><li>'5/30/12'</li><li>'6/11/12'</li><li>'6/5/12'</li><li>'6/6/12'</li><li>'5/30/12'</li><li>'6/11/12'</li><li>'6/5/12'</li><li>'6/6/12'</li><li>'5/30/12'</li><li>'6/11/12'</li><li>'6/5/12'</li><li>'6/6/12'</li><li>'5/30/12'</li><li>'6/11/12'</li><li>'5/30/12'</li><li>'6/5/12'</li><li>'6/6/12'</li><li>'5/30/12'</li><li>'6/11/12'</li><li>'6/5/12'</li><li>'6/6/12'</li><li>'5/30/12'</li><li>'6/11/12'</li><li>'6/5/12'</li><li>'6/6/12'</li><li>'5/30/12'</li><li>'6/11/12'</li><li>'6/5/12'</li><li>'6/6/12'</li><li>'5/30/12'</li><li>'6/11/12'</li><li>'6/6/12'</li><li>'5/30/12'</li><li>'6/11/12'</li><li>'6/5/12'</li><li>'6/6/12'</li><li>'6/11/12'</li></ol>\n"
      ],
      "text/latex": [
       "\\begin{enumerate*}\n",
       "\\item '6/5/12'\n",
       "\\item '6/6/12'\n",
       "\\item '5/30/12'\n",
       "\\item '6/11/12'\n",
       "\\item '6/5/12'\n",
       "\\item '6/6/12'\n",
       "\\item '5/30/12'\n",
       "\\item '6/11/12'\n",
       "\\item '6/5/12'\n",
       "\\item '6/6/12'\n",
       "\\item '5/30/12'\n",
       "\\item '6/11/12'\n",
       "\\item '6/5/12'\n",
       "\\item '6/6/12'\n",
       "\\item '5/30/12'\n",
       "\\item '6/11/12'\n",
       "\\item '6/5/12'\n",
       "\\item '6/6/12'\n",
       "\\item '5/30/12'\n",
       "\\item '6/11/12'\n",
       "\\item '6/5/12'\n",
       "\\item '6/6/12'\n",
       "\\item '5/30/12'\n",
       "\\item '6/11/12'\n",
       "\\item '5/30/12'\n",
       "\\item '6/5/12'\n",
       "\\item '6/6/12'\n",
       "\\item '5/30/12'\n",
       "\\item '6/11/12'\n",
       "\\item '6/5/12'\n",
       "\\item '6/6/12'\n",
       "\\item '5/30/12'\n",
       "\\item '6/11/12'\n",
       "\\item '6/5/12'\n",
       "\\item '6/6/12'\n",
       "\\item '5/30/12'\n",
       "\\item '6/11/12'\n",
       "\\item '6/5/12'\n",
       "\\item '6/6/12'\n",
       "\\item '5/30/12'\n",
       "\\item '6/11/12'\n",
       "\\item '6/6/12'\n",
       "\\item '5/30/12'\n",
       "\\item '6/11/12'\n",
       "\\item '6/5/12'\n",
       "\\item '6/6/12'\n",
       "\\item '6/11/12'\n",
       "\\end{enumerate*}\n"
      ],
      "text/markdown": [
       "1. '6/5/12'\n",
       "2. '6/6/12'\n",
       "3. '5/30/12'\n",
       "4. '6/11/12'\n",
       "5. '6/5/12'\n",
       "6. '6/6/12'\n",
       "7. '5/30/12'\n",
       "8. '6/11/12'\n",
       "9. '6/5/12'\n",
       "10. '6/6/12'\n",
       "11. '5/30/12'\n",
       "12. '6/11/12'\n",
       "13. '6/5/12'\n",
       "14. '6/6/12'\n",
       "15. '5/30/12'\n",
       "16. '6/11/12'\n",
       "17. '6/5/12'\n",
       "18. '6/6/12'\n",
       "19. '5/30/12'\n",
       "20. '6/11/12'\n",
       "21. '6/5/12'\n",
       "22. '6/6/12'\n",
       "23. '5/30/12'\n",
       "24. '6/11/12'\n",
       "25. '5/30/12'\n",
       "26. '6/5/12'\n",
       "27. '6/6/12'\n",
       "28. '5/30/12'\n",
       "29. '6/11/12'\n",
       "30. '6/5/12'\n",
       "31. '6/6/12'\n",
       "32. '5/30/12'\n",
       "33. '6/11/12'\n",
       "34. '6/5/12'\n",
       "35. '6/6/12'\n",
       "36. '5/30/12'\n",
       "37. '6/11/12'\n",
       "38. '6/5/12'\n",
       "39. '6/6/12'\n",
       "40. '5/30/12'\n",
       "41. '6/11/12'\n",
       "42. '6/6/12'\n",
       "43. '5/30/12'\n",
       "44. '6/11/12'\n",
       "45. '6/5/12'\n",
       "46. '6/6/12'\n",
       "47. '6/11/12'\n",
       "\n",
       "\n"
      ],
      "text/plain": [
       " [1] \"6/5/12\"  \"6/6/12\"  \"5/30/12\" \"6/11/12\" \"6/5/12\"  \"6/6/12\"  \"5/30/12\"\n",
       " [8] \"6/11/12\" \"6/5/12\"  \"6/6/12\"  \"5/30/12\" \"6/11/12\" \"6/5/12\"  \"6/6/12\" \n",
       "[15] \"5/30/12\" \"6/11/12\" \"6/5/12\"  \"6/6/12\"  \"5/30/12\" \"6/11/12\" \"6/5/12\" \n",
       "[22] \"6/6/12\"  \"5/30/12\" \"6/11/12\" \"5/30/12\" \"6/5/12\"  \"6/6/12\"  \"5/30/12\"\n",
       "[29] \"6/11/12\" \"6/5/12\"  \"6/6/12\"  \"5/30/12\" \"6/11/12\" \"6/5/12\"  \"6/6/12\" \n",
       "[36] \"5/30/12\" \"6/11/12\" \"6/5/12\"  \"6/6/12\"  \"5/30/12\" \"6/11/12\" \"6/6/12\" \n",
       "[43] \"5/30/12\" \"6/11/12\" \"6/5/12\"  \"6/6/12\"  \"6/11/12\""
      ]
     },
     "metadata": {},
     "output_type": "display_data"
    }
   ],
   "source": [
    "metadata$collection_date"
   ]
  },
  {
   "cell_type": "code",
   "execution_count": 13,
   "metadata": {},
   "outputs": [
    {
     "data": {
      "text/plain": [
       "       (Intercept) metadata$perturbationnon-medicated\n",
       "Down             0                                  0\n",
       "NotSig           0                                  3\n",
       "Up               4                                  1\n",
       "       metadata$collection_date6/11/12 metadata$collection_date6/5/12\n",
       "Down                                 0                              0\n",
       "NotSig                               4                              4\n",
       "Up                                   0                              0\n",
       "       metadata$collection_date6/6/12\n",
       "Down                                0\n",
       "NotSig                              4\n",
       "Up                                  0"
      ]
     },
     "metadata": {},
     "output_type": "display_data"
    }
   ],
   "source": [
    "## DIFFERENTIAL EXPRESSION\n",
    "# design matrix for diffex\n",
    "design <- model.matrix(~metadata$perturbation + metadata$collection_date)\n",
    "# calculate differential expression\n",
    "lfit <- lmFit(lcpm, design)\n",
    "# emprical bayes\n",
    "efit <- eBayes(lfit)\n",
    "# number of differentially expressed genes\n",
    "summary(decideTests(efit))"
   ]
  },
  {
   "cell_type": "code",
   "execution_count": 14,
   "metadata": {},
   "outputs": [],
   "source": [
    "diffex.perturbation <- topTreat(efit, coef='metadata$perturbationnon-medicated', number=Inf)\n",
    "diffex.cd <- topTreat(efit, coef='metadata$collection_date6/11/12', number=Inf)\n",
    "\n",
    "diffex.perturbation$taxa <- rownames(diffex.perturbation)\n",
    "diffex.perturbation <- diffex.perturbation[,c('taxa', \"logFC\", \"AveExpr\", \"t\", \"P.Value\", \"adj.P.Val\", \"B\")]\n",
    "diffex.cd$taxa <- rownames(diffex.cd)\n",
    "diffex.cd <- diffex.cd[,c('taxa', \"logFC\", \"AveExpr\", \"t\", \"P.Value\", \"adj.P.Val\", \"B\")]"
   ]
  },
  {
   "cell_type": "code",
   "execution_count": 16,
   "metadata": {},
   "outputs": [
    {
     "data": {
      "text/html": [
       "<strong>png:</strong> 2"
      ],
      "text/latex": [
       "\\textbf{png:} 2"
      ],
      "text/markdown": [
       "**png:** 2"
      ],
      "text/plain": [
       "png \n",
       "  2 "
      ]
     },
     "metadata": {},
     "output_type": "display_data"
    }
   ],
   "source": [
    "# plot the top number of each\n",
    "n <- 4\n",
    "pdf('figures/Cas9_top10DiffexPerturbation.pdf', height=4, width=6)\n",
    "for (i in 1:n){\n",
    "    print(plot_taxa(diffex.perturbation[i, 'taxa']))\n",
    "}\n",
    "dev.off()"
   ]
  },
  {
   "cell_type": "code",
   "execution_count": 18,
   "metadata": {},
   "outputs": [
    {
     "data": {
      "text/html": [
       "<strong>png:</strong> 2"
      ],
      "text/latex": [
       "\\textbf{png:} 2"
      ],
      "text/markdown": [
       "**png:** 2"
      ],
      "text/plain": [
       "png \n",
       "  2 "
      ]
     },
     "metadata": {},
     "output_type": "display_data"
    }
   ],
   "source": [
    "pdf('figures/Cas9_topDiffex_sampleDate.pdf', height=4, width=6)\n",
    "for (i in 1:n){\n",
    "    print(plot_taxa(diffex.cd[i, 'taxa']))\n",
    "}\n",
    "dev.off()\n",
    "\n",
    "# write out tables\n",
    "write.table(diffex.perturbation, 'tables/Cas9_diffex_perturbation.tsv', sep='\\t', quote=F, col.names = T, row.names = F)\n",
    "# write.table(diffex.age, 'tables/Cas9_diffex_age.tsv', sep='\\t', quote=F, col.names = T, row.names = F)\n",
    "\n",
    "# wite expression matrices\n",
    "write.table(ex.mat.classified, 'tables/Cas9_expression_matrix.tsv', sep='\\t', quote=F, col.names = T, row.names = T)\n",
    "write.table(ex.mat.classified.filt, 'tables/cas9_expression_matrix_filtered.tsv', sep='\\t', quote=F, col.names = T, row.names = T)"
   ]
  },
  {
   "cell_type": "code",
   "execution_count": null,
   "metadata": {},
   "outputs": [],
   "source": []
  }
 ],
 "metadata": {
  "kernelspec": {
   "display_name": "R",
   "language": "R",
   "name": "ir"
  },
  "language_info": {
   "codemirror_mode": "r",
   "file_extension": ".r",
   "mimetype": "text/x-r-source",
   "name": "R",
   "pygments_lexer": "r",
   "version": "4.0.0"
  },
  "widgets": {
   "application/vnd.jupyter.widget-state+json": {
    "state": {},
    "version_major": 2,
    "version_minor": 0
   }
  }
 },
 "nbformat": 4,
 "nbformat_minor": 4
}
