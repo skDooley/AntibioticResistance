{
 "cells": [
  {
   "cell_type": "code",
   "execution_count": 1,
   "metadata": {},
   "outputs": [
    {
     "name": "stderr",
     "output_type": "stream",
     "text": [
      "Loading required package: limma\n",
      "\n",
      "Warning message:\n",
      "“package ‘ggplot2’ was built under R version 4.0.1”\n",
      "Warning message:\n",
      "“package ‘ggpubr’ was built under R version 4.0.2”\n"
     ]
    }
   ],
   "source": [
    "#Load required libraries\n",
    "library(edgeR)\n",
    "library(ggplot2)\n",
    "library(RColorBrewer)\n",
    "library(rafalib)\n",
    "library(ggpubr)"
   ]
  },
  {
   "cell_type": "code",
   "execution_count": 2,
   "metadata": {},
   "outputs": [],
   "source": [
    "# Functions (taken from script in kraken2_clasification github)\n",
    "\n",
    "# simple reader for a kraken report file\n",
    "kraken_file_to_df <- function(fname){\n",
    "    if (!file.exists(fname)){\n",
    "        stop(paste('File does not exist:', fname))\n",
    "    }\n",
    "    df <- read.table(fname, sep='\\t', quote='', header = F,\n",
    "                     col.names=c('pct', 'reads.below','reads.direct','tax.level','taxid','name'))\n",
    "    # trim whitespace, ensure names.\n",
    "    # if no name, set it to the taxid\n",
    "    for (i in 1:nrow(df)){\n",
    "        if (trimws(df[i, 'name']) == ''){\n",
    "            df[i, 'name'] <- df[i, 'taxid']\n",
    "        }\n",
    "    }\n",
    "    return(df)\n",
    "}\n",
    "\n",
    "# combine a list of dataframes from reading Kraken reports and\n",
    "# merge into a large matrix of read counts\n",
    "# names will be taken from the names of the list\n",
    "# output will have taxonmic name in rows, sample in columns\n",
    "merge_kraken_df_list <- function(df.list, reads.col='reads.below'){\n",
    "    # if(length(df.list) <2){\n",
    "    #     stop('Must be a list longer than 1 - TODO implement this with one element')}\n",
    "    if(is.null(names(df.list))){\n",
    "        warning('Names of list is null, colnames of result will be empty')}\n",
    "\n",
    "    keep.cols <- c('taxid', reads.col)\n",
    "    df.list.simple <- lapply(df.list, function(x) x[, keep.cols])\n",
    "\n",
    "    # merge on the taxid column\n",
    "    merge.colname <- 'taxid'\n",
    "    # Reduce to merge list of data frames into one\n",
    "    merge.temp <- suppressWarnings(Reduce(function(x,y) merge(x, y, all=TRUE, by=merge.colname, sort=F), df.list.simple))\n",
    "    rownames(merge.temp) <- merge.temp[,1]\n",
    "    merge.mat <- as.matrix(merge.temp[,c(-1),drop=FALSE])\n",
    "    colnames(merge.mat) <- names(df.list)\n",
    "    merge.mat[is.na(merge.mat)] <- 0\n",
    "    return(merge.mat)\n",
    "}\n",
    "\n",
    "# function to plot gene expression with associated metadata\n",
    "plot_taxa <- function(gene){\n",
    "    nm <- metadata\n",
    "    nm$gene <- lcpm[gene, nm$Run]\n",
    "    g1 <- ggplot(nm, aes(x=perturbation, y=gene)) +\n",
    "        geom_boxplot() +\n",
    "        theme_bw() +\n",
    "        stat_compare_means() +\n",
    "        ggtitle(paste('Expression of TaxID', gene)) +\n",
    "        ylab('log CPM')\n",
    "\n",
    "    g2 <- ggplot(nm, aes(x=collection_date, y=gene)) +\n",
    "        geom_boxplot() +\n",
    "        theme_bw() +\n",
    "        stat_compare_means() +\n",
    "        ggtitle(paste('Expression of TaxID', gene)) +\n",
    "        ylab('log CPM')\n",
    "    ggarrange(g1,g2)\n",
    "\n",
    "}"
   ]
  },
  {
   "cell_type": "code",
   "execution_count": 3,
   "metadata": {},
   "outputs": [
    {
     "data": {
      "text/html": [
       "<table>\n",
       "<caption>A data.frame: 6 × 24</caption>\n",
       "<thead>\n",
       "\t<tr><th></th><th scope=col>Run</th><th scope=col>Assay.Type</th><th scope=col>AvgSpotLen</th><th scope=col>BioProject</th><th scope=col>BioSample</th><th scope=col>Experiment</th><th scope=col>Host_Age</th><th scope=col>host_body_temp</th><th scope=col>host_family_relationship</th><th scope=col>host_sex</th><th scope=col>⋯</th><th scope=col>perturbation</th><th scope=col>sample_acc</th><th scope=col>Sample.Name</th><th scope=col>SRA.Study</th><th scope=col>collection_date</th><th scope=col>env_package</th><th scope=col>samp_size</th><th scope=col>samp_unit</th><th scope=col>samp_store_dur</th><th scope=col>specific_host</th></tr>\n",
       "\t<tr><th></th><th scope=col>&lt;chr&gt;</th><th scope=col>&lt;chr&gt;</th><th scope=col>&lt;int&gt;</th><th scope=col>&lt;chr&gt;</th><th scope=col>&lt;chr&gt;</th><th scope=col>&lt;chr&gt;</th><th scope=col>&lt;chr&gt;</th><th scope=col>&lt;int&gt;</th><th scope=col>&lt;chr&gt;</th><th scope=col>&lt;chr&gt;</th><th scope=col>⋯</th><th scope=col>&lt;chr&gt;</th><th scope=col>&lt;chr&gt;</th><th scope=col>&lt;chr&gt;</th><th scope=col>&lt;chr&gt;</th><th scope=col>&lt;chr&gt;</th><th scope=col>&lt;chr&gt;</th><th scope=col>&lt;int&gt;</th><th scope=col>&lt;chr&gt;</th><th scope=col>&lt;chr&gt;</th><th scope=col>&lt;chr&gt;</th></tr>\n",
       "</thead>\n",
       "<tbody>\n",
       "\t<tr><th scope=row>1</th><td>SRR5368907</td><td>RNA-Seq</td><td>100</td><td>PRJNA237795</td><td>SAMN02645017</td><td>SRX2664163</td><td>41 days</td><td>39</td><td>A</td><td>female</td><td>⋯</td><td>medicated    </td><td>SRS560593</td><td>187_1.sff</td><td>SRP038757</td><td>6/5/12 </td><td>MIGS/MIMS/MIMARKS.host-associated</td><td>1</td><td>grams feces</td><td>1 to 6 months</td><td>Pig_187</td></tr>\n",
       "\t<tr><th scope=row>2</th><td>SRR5368905</td><td>RNA-Seq</td><td> 99</td><td>PRJNA237795</td><td>SAMN02645019</td><td>SRX2664161</td><td>42 days</td><td>39</td><td>A</td><td>female</td><td>⋯</td><td>medicated    </td><td>SRS560594</td><td>187_2.sff</td><td>SRP038757</td><td>6/6/12 </td><td>MIGS/MIMS/MIMARKS.host-associated</td><td>1</td><td>grams feces</td><td>1 to 6 months</td><td>Pig_187</td></tr>\n",
       "\t<tr><th scope=row>3</th><td>SRR5368902</td><td>RNA-Seq</td><td>100</td><td>PRJNA237795</td><td>SAMN02645023</td><td>SRX2664158</td><td>35 days</td><td>39</td><td>A</td><td>female</td><td>⋯</td><td>medicated    </td><td>SRS560599</td><td>187_5.sff</td><td>SRP038757</td><td>5/30/12</td><td>MIGS/MIMS/MIMARKS.host-associated</td><td>1</td><td>grams feces</td><td>1 to 6 months</td><td>Pig_187</td></tr>\n",
       "\t<tr><th scope=row>4</th><td>SRR5368899</td><td>RNA-Seq</td><td> 99</td><td>PRJNA237795</td><td>SAMN02645024</td><td>SRX2664155</td><td>47 days</td><td>39</td><td>A</td><td>female</td><td>⋯</td><td>medicated    </td><td>SRS560598</td><td>187_7.sff</td><td>SRP038757</td><td>6/11/12</td><td>MIGS/MIMS/MIMARKS.host-associated</td><td>1</td><td>grams feces</td><td>1 to 6 months</td><td>Pig_187</td></tr>\n",
       "\t<tr><th scope=row>5</th><td>SRR5368896</td><td>RNA-Seq</td><td>100</td><td>PRJNA237795</td><td>SAMN02645029</td><td>SRX2664152</td><td>41 days</td><td>39</td><td>A</td><td>female</td><td>⋯</td><td>non-medicated</td><td>SRS560604</td><td>188_1.sff</td><td>SRP038757</td><td>6/5/12 </td><td>MIGS/MIMS/MIMARKS.host-associated</td><td>1</td><td>grams feces</td><td>1 to 6 months</td><td>Pig_188</td></tr>\n",
       "\t<tr><th scope=row>6</th><td>SRR5368894</td><td>RNA-Seq</td><td>100</td><td>PRJNA237795</td><td>SAMN02645031</td><td>SRX2664150</td><td>42 days</td><td>39</td><td>A</td><td>female</td><td>⋯</td><td>non-medicated</td><td>SRS560606</td><td>188_2.sff</td><td>SRP038757</td><td>6/6/12 </td><td>MIGS/MIMS/MIMARKS.host-associated</td><td>1</td><td>grams feces</td><td>1 to 6 months</td><td>Pig_188</td></tr>\n",
       "</tbody>\n",
       "</table>\n"
      ],
      "text/latex": [
       "A data.frame: 6 × 24\n",
       "\\begin{tabular}{r|lllllllllllllllllllll}\n",
       "  & Run & Assay.Type & AvgSpotLen & BioProject & BioSample & Experiment & Host\\_Age & host\\_body\\_temp & host\\_family\\_relationship & host\\_sex & ⋯ & perturbation & sample\\_acc & Sample.Name & SRA.Study & collection\\_date & env\\_package & samp\\_size & samp\\_unit & samp\\_store\\_dur & specific\\_host\\\\\n",
       "  & <chr> & <chr> & <int> & <chr> & <chr> & <chr> & <chr> & <int> & <chr> & <chr> & ⋯ & <chr> & <chr> & <chr> & <chr> & <chr> & <chr> & <int> & <chr> & <chr> & <chr>\\\\\n",
       "\\hline\n",
       "\t1 & SRR5368907 & RNA-Seq & 100 & PRJNA237795 & SAMN02645017 & SRX2664163 & 41 days & 39 & A & female & ⋯ & medicated     & SRS560593 & 187\\_1.sff & SRP038757 & 6/5/12  & MIGS/MIMS/MIMARKS.host-associated & 1 & grams feces & 1 to 6 months & Pig\\_187\\\\\n",
       "\t2 & SRR5368905 & RNA-Seq &  99 & PRJNA237795 & SAMN02645019 & SRX2664161 & 42 days & 39 & A & female & ⋯ & medicated     & SRS560594 & 187\\_2.sff & SRP038757 & 6/6/12  & MIGS/MIMS/MIMARKS.host-associated & 1 & grams feces & 1 to 6 months & Pig\\_187\\\\\n",
       "\t3 & SRR5368902 & RNA-Seq & 100 & PRJNA237795 & SAMN02645023 & SRX2664158 & 35 days & 39 & A & female & ⋯ & medicated     & SRS560599 & 187\\_5.sff & SRP038757 & 5/30/12 & MIGS/MIMS/MIMARKS.host-associated & 1 & grams feces & 1 to 6 months & Pig\\_187\\\\\n",
       "\t4 & SRR5368899 & RNA-Seq &  99 & PRJNA237795 & SAMN02645024 & SRX2664155 & 47 days & 39 & A & female & ⋯ & medicated     & SRS560598 & 187\\_7.sff & SRP038757 & 6/11/12 & MIGS/MIMS/MIMARKS.host-associated & 1 & grams feces & 1 to 6 months & Pig\\_187\\\\\n",
       "\t5 & SRR5368896 & RNA-Seq & 100 & PRJNA237795 & SAMN02645029 & SRX2664152 & 41 days & 39 & A & female & ⋯ & non-medicated & SRS560604 & 188\\_1.sff & SRP038757 & 6/5/12  & MIGS/MIMS/MIMARKS.host-associated & 1 & grams feces & 1 to 6 months & Pig\\_188\\\\\n",
       "\t6 & SRR5368894 & RNA-Seq & 100 & PRJNA237795 & SAMN02645031 & SRX2664150 & 42 days & 39 & A & female & ⋯ & non-medicated & SRS560606 & 188\\_2.sff & SRP038757 & 6/6/12  & MIGS/MIMS/MIMARKS.host-associated & 1 & grams feces & 1 to 6 months & Pig\\_188\\\\\n",
       "\\end{tabular}\n"
      ],
      "text/markdown": [
       "\n",
       "A data.frame: 6 × 24\n",
       "\n",
       "| <!--/--> | Run &lt;chr&gt; | Assay.Type &lt;chr&gt; | AvgSpotLen &lt;int&gt; | BioProject &lt;chr&gt; | BioSample &lt;chr&gt; | Experiment &lt;chr&gt; | Host_Age &lt;chr&gt; | host_body_temp &lt;int&gt; | host_family_relationship &lt;chr&gt; | host_sex &lt;chr&gt; | ⋯ ⋯ | perturbation &lt;chr&gt; | sample_acc &lt;chr&gt; | Sample.Name &lt;chr&gt; | SRA.Study &lt;chr&gt; | collection_date &lt;chr&gt; | env_package &lt;chr&gt; | samp_size &lt;int&gt; | samp_unit &lt;chr&gt; | samp_store_dur &lt;chr&gt; | specific_host &lt;chr&gt; |\n",
       "|---|---|---|---|---|---|---|---|---|---|---|---|---|---|---|---|---|---|---|---|---|---|\n",
       "| 1 | SRR5368907 | RNA-Seq | 100 | PRJNA237795 | SAMN02645017 | SRX2664163 | 41 days | 39 | A | female | ⋯ | medicated     | SRS560593 | 187_1.sff | SRP038757 | 6/5/12  | MIGS/MIMS/MIMARKS.host-associated | 1 | grams feces | 1 to 6 months | Pig_187 |\n",
       "| 2 | SRR5368905 | RNA-Seq |  99 | PRJNA237795 | SAMN02645019 | SRX2664161 | 42 days | 39 | A | female | ⋯ | medicated     | SRS560594 | 187_2.sff | SRP038757 | 6/6/12  | MIGS/MIMS/MIMARKS.host-associated | 1 | grams feces | 1 to 6 months | Pig_187 |\n",
       "| 3 | SRR5368902 | RNA-Seq | 100 | PRJNA237795 | SAMN02645023 | SRX2664158 | 35 days | 39 | A | female | ⋯ | medicated     | SRS560599 | 187_5.sff | SRP038757 | 5/30/12 | MIGS/MIMS/MIMARKS.host-associated | 1 | grams feces | 1 to 6 months | Pig_187 |\n",
       "| 4 | SRR5368899 | RNA-Seq |  99 | PRJNA237795 | SAMN02645024 | SRX2664155 | 47 days | 39 | A | female | ⋯ | medicated     | SRS560598 | 187_7.sff | SRP038757 | 6/11/12 | MIGS/MIMS/MIMARKS.host-associated | 1 | grams feces | 1 to 6 months | Pig_187 |\n",
       "| 5 | SRR5368896 | RNA-Seq | 100 | PRJNA237795 | SAMN02645029 | SRX2664152 | 41 days | 39 | A | female | ⋯ | non-medicated | SRS560604 | 188_1.sff | SRP038757 | 6/5/12  | MIGS/MIMS/MIMARKS.host-associated | 1 | grams feces | 1 to 6 months | Pig_188 |\n",
       "| 6 | SRR5368894 | RNA-Seq | 100 | PRJNA237795 | SAMN02645031 | SRX2664150 | 42 days | 39 | A | female | ⋯ | non-medicated | SRS560606 | 188_2.sff | SRP038757 | 6/6/12  | MIGS/MIMS/MIMARKS.host-associated | 1 | grams feces | 1 to 6 months | Pig_188 |\n",
       "\n"
      ],
      "text/plain": [
       "  Run        Assay.Type AvgSpotLen BioProject  BioSample    Experiment Host_Age\n",
       "1 SRR5368907 RNA-Seq    100        PRJNA237795 SAMN02645017 SRX2664163 41 days \n",
       "2 SRR5368905 RNA-Seq     99        PRJNA237795 SAMN02645019 SRX2664161 42 days \n",
       "3 SRR5368902 RNA-Seq    100        PRJNA237795 SAMN02645023 SRX2664158 35 days \n",
       "4 SRR5368899 RNA-Seq     99        PRJNA237795 SAMN02645024 SRX2664155 47 days \n",
       "5 SRR5368896 RNA-Seq    100        PRJNA237795 SAMN02645029 SRX2664152 41 days \n",
       "6 SRR5368894 RNA-Seq    100        PRJNA237795 SAMN02645031 SRX2664150 42 days \n",
       "  host_body_temp host_family_relationship host_sex ⋯ perturbation  sample_acc\n",
       "1 39             A                        female   ⋯ medicated     SRS560593 \n",
       "2 39             A                        female   ⋯ medicated     SRS560594 \n",
       "3 39             A                        female   ⋯ medicated     SRS560599 \n",
       "4 39             A                        female   ⋯ medicated     SRS560598 \n",
       "5 39             A                        female   ⋯ non-medicated SRS560604 \n",
       "6 39             A                        female   ⋯ non-medicated SRS560606 \n",
       "  Sample.Name SRA.Study collection_date env_package                      \n",
       "1 187_1.sff   SRP038757 6/5/12          MIGS/MIMS/MIMARKS.host-associated\n",
       "2 187_2.sff   SRP038757 6/6/12          MIGS/MIMS/MIMARKS.host-associated\n",
       "3 187_5.sff   SRP038757 5/30/12         MIGS/MIMS/MIMARKS.host-associated\n",
       "4 187_7.sff   SRP038757 6/11/12         MIGS/MIMS/MIMARKS.host-associated\n",
       "5 188_1.sff   SRP038757 6/5/12          MIGS/MIMS/MIMARKS.host-associated\n",
       "6 188_2.sff   SRP038757 6/6/12          MIGS/MIMS/MIMARKS.host-associated\n",
       "  samp_size samp_unit   samp_store_dur specific_host\n",
       "1 1         grams feces 1 to 6 months  Pig_187      \n",
       "2 1         grams feces 1 to 6 months  Pig_187      \n",
       "3 1         grams feces 1 to 6 months  Pig_187      \n",
       "4 1         grams feces 1 to 6 months  Pig_187      \n",
       "5 1         grams feces 1 to 6 months  Pig_188      \n",
       "6 1         grams feces 1 to 6 months  Pig_188      "
      ]
     },
     "metadata": {},
     "output_type": "display_data"
    }
   ],
   "source": [
    "#Read metadata\n",
    "setwd(\"data\")\n",
    "metadata <- read.table('tables/MetadataRNASeq.csv', sep=',', quote = '', header=T)\n",
    "head(metadata)"
   ]
  },
  {
   "cell_type": "code",
   "execution_count": 4,
   "metadata": {},
   "outputs": [],
   "source": [
    "#For each sample (\"Run\") grab the report from Kraken and read the file\n",
    "f.ext <- '.Cas12_Operons.kreport'\n",
    "classification.folder <- 'tables/allCounts'\n",
    "flist <- sapply(metadata$Run, function(x) file.path(classification.folder, paste(x, f.ext, sep='')))\n",
    "names(flist) <- metadata$Run\n",
    "if (!(all(file.exists(flist)))){\n",
    "    # print which files don't exist\n",
    "    message('The follwing files do not exist:')\n",
    "    print(flist[!sapply(flist, file.exists)])\n",
    "    stop(\"Some classification files do not exist!\")\n",
    "}\n",
    "df.list <- lapply(flist, function(x) kraken_file_to_df(x))\n",
    "ex.mat <- merge_kraken_df_list(df.list, reads.col = 'reads.direct')\n",
    "                  "
   ]
  },
  {
   "cell_type": "code",
   "execution_count": 5,
   "metadata": {},
   "outputs": [],
   "source": [
    "# Extract the taxa classification counts and norm by library size\n",
    "ex.mat.classified <- ex.mat[-1, ]\n",
    "ex.totals <- colSums(ex.mat)\n",
    "ex.classified.totals <- colSums(ex.mat.classified)\n",
    "ex.classified.frac <- ex.classified.totals/ex.totals"
   ]
  },
  {
   "cell_type": "code",
   "execution_count": 6,
   "metadata": {},
   "outputs": [],
   "source": [
    "#Make some plots to show differences in covariates\n",
    "\n",
    "metadata$ex.classified.frac <- ex.classified.frac[metadata$Run]\n",
    "# metadata$ex.classified.frac <- ex.totals[metadata$Run]\n",
    "g1 <- ggplot(metadata, aes(x=perturbation, y=ex.classified.frac)) +\n",
    "    geom_boxplot() +\n",
    "    theme_bw() +\n",
    "    stat_compare_means() +\n",
    "    ylab('Fraction of reads classified')\n",
    "g2 <- ggplot(metadata, aes(x=perturbation, y=ex.totals)) +\n",
    "    geom_boxplot() +\n",
    "    theme_bw() +\n",
    "    stat_compare_means() +\n",
    "    ylab('Total reads')\n",
    "\n",
    "g3 <- ggplot(metadata, aes(x=host_sex, y=ex.classified.frac)) +\n",
    "    geom_boxplot() +\n",
    "    theme_bw() +\n",
    "    stat_compare_means()+\n",
    "    ylab('Fraction of reads classified')\n",
    "g4 <- ggplot(metadata, aes(x=host_sex, y=ex.totals)) +\n",
    "    geom_boxplot() +\n",
    "    theme_bw() +\n",
    "    stat_compare_means()+\n",
    "    ylab('Total reads')\n",
    "\n",
    "g5 <- ggplot(metadata, aes(x=specific_host, y=ex.classified.frac)) +\n",
    "    geom_boxplot() +\n",
    "    theme_bw() +\n",
    "    stat_compare_means()+\n",
    "    ylab('Fraction of reads classified')\n",
    "g6 <- ggplot(metadata, aes(x=specific_host, y=ex.totals)) +\n",
    "    geom_boxplot() +\n",
    "    theme_bw() +\n",
    "    stat_compare_means()+\n",
    "    ylab('Total reads')\n",
    "\n",
    "g7 <- ggplot(metadata, aes(x=host_family_relationship, y=ex.classified.frac)) +\n",
    "    geom_boxplot() +\n",
    "    theme_bw() +\n",
    "    stat_compare_means()+\n",
    "    ylab('Fraction of reads classified')\n",
    "g8 <- ggplot(metadata, aes(x=host_family_relationship, y=ex.totals)) +\n",
    "    geom_boxplot() +\n",
    "    theme_bw() +\n",
    "    stat_compare_means()+\n",
    "    ylab('Total reads')\n",
    "\n",
    "g9 <- ggplot(metadata, aes(x=collection_date, y=ex.classified.frac)) +\n",
    "    geom_boxplot() +\n",
    "    theme_bw() +\n",
    "    stat_compare_means()+\n",
    "    ylab('Fraction of reads classified')\n",
    "g10 <- ggplot(metadata, aes(x=collection_date, y=ex.totals)) +\n",
    "    geom_boxplot() +\n",
    "    theme_bw() +\n",
    "    stat_compare_means()+\n",
    "    ylab('Total reads')"
   ]
  },
  {
   "cell_type": "code",
   "execution_count": 7,
   "metadata": {},
   "outputs": [
    {
     "data": {
      "image/png": "[encoded data removed]",
      "text/plain": [
       "plot without title"
      ]
     },
     "metadata": {
      "image/png": {
       "height": 420,
       "width": 420
      }
     },
     "output_type": "display_data"
    }
   ],
   "source": [
    "ggarrange(g1,g2,ncol=1,nrow=2)"
   ]
  },
  {
   "cell_type": "code",
   "execution_count": 8,
   "metadata": {},
   "outputs": [
    {
     "data": {
      "image/png": "[encoded data removed]",
      "text/plain": [
       "plot without title"
      ]
     },
     "metadata": {
      "image/png": {
       "height": 420,
       "width": 420
      }
     },
     "output_type": "display_data"
    }
   ],
   "source": [
    "ggarrange(g3,g4,ncol=1,nrow=2)"
   ]
  },
  {
   "cell_type": "code",
   "execution_count": 9,
   "metadata": {},
   "outputs": [
    {
     "data": {
      "image/png": "[encoded data removed]",
      "text/plain": [
       "plot without title"
      ]
     },
     "metadata": {
      "image/png": {
       "height": 420,
       "width": 420
      }
     },
     "output_type": "display_data"
    }
   ],
   "source": [
    "ggarrange(g5,g6,ncol=1,nrow=2)"
   ]
  },
  {
   "cell_type": "code",
   "execution_count": 10,
   "metadata": {},
   "outputs": [
    {
     "data": {
      "image/png": "[encoded data removed]",
      "text/plain": [
       "plot without title"
      ]
     },
     "metadata": {
      "image/png": {
       "height": 420,
       "width": 420
      }
     },
     "output_type": "display_data"
    }
   ],
   "source": [
    "ggarrange(g7,g8,ncol=1,nrow=2)"
   ]
  },
  {
   "cell_type": "code",
   "execution_count": 11,
   "metadata": {},
   "outputs": [
    {
     "data": {
      "image/png": "[encoded data removed]",
      "text/plain": [
       "plot without title"
      ]
     },
     "metadata": {
      "image/png": {
       "height": 420,
       "width": 420
      }
     },
     "output_type": "display_data"
    }
   ],
   "source": [
    "ggarrange(g9,g10,ncol=1,nrow=2)"
   ]
  },
  {
   "cell_type": "code",
   "execution_count": 13,
   "metadata": {},
   "outputs": [
    {
     "data": {
      "text/html": [
       "<strong>png:</strong> 2"
      ],
      "text/latex": [
       "\\textbf{png:} 2"
      ],
      "text/markdown": [
       "**png:** 2"
      ],
      "text/plain": [
       "png \n",
       "  2 "
      ]
     },
     "metadata": {},
     "output_type": "display_data"
    },
    {
     "data": {
      "text/html": [
       "<strong>png:</strong> 2"
      ],
      "text/latex": [
       "\\textbf{png:} 2"
      ],
      "text/markdown": [
       "**png:** 2"
      ],
      "text/plain": [
       "png \n",
       "  2 "
      ]
     },
     "metadata": {},
     "output_type": "display_data"
    },
    {
     "data": {
      "text/html": [
       "<strong>png:</strong> 2"
      ],
      "text/latex": [
       "\\textbf{png:} 2"
      ],
      "text/markdown": [
       "**png:** 2"
      ],
      "text/plain": [
       "png \n",
       "  2 "
      ]
     },
     "metadata": {},
     "output_type": "display_data"
    },
    {
     "data": {
      "text/html": [
       "<strong>png:</strong> 2"
      ],
      "text/latex": [
       "\\textbf{png:} 2"
      ],
      "text/markdown": [
       "**png:** 2"
      ],
      "text/plain": [
       "png \n",
       "  2 "
      ]
     },
     "metadata": {},
     "output_type": "display_data"
    },
    {
     "data": {
      "text/html": [
       "<strong>png:</strong> 2"
      ],
      "text/latex": [
       "\\textbf{png:} 2"
      ],
      "text/markdown": [
       "**png:** 2"
      ],
      "text/plain": [
       "png \n",
       "  2 "
      ]
     },
     "metadata": {},
     "output_type": "display_data"
    }
   ],
   "source": [
    "#Save plots to files\n",
    "pdf('figures/Cas12_Treatment_boxplots.pdf')\n",
    "ggarrange(g1,g2,ncol=1,nrow=2)\n",
    "dev.off()\n",
    "pdf('figures/Cas12_HostSex_boxplots.pdf')\n",
    "ggarrange(g3,g4,ncol=1,nrow=2)\n",
    "dev.off()\n",
    "pdf('figures/Cas12_PigID_boxplots.pdf')\n",
    "ggarrange(g5,g6,ncol=1,nrow=2)\n",
    "dev.off()\n",
    "pdf('figures/Cas12_Parent_boxplots.pdf')\n",
    "ggarrange(g7,g8,ncol=1,nrow=2)\n",
    "dev.off()\n",
    "pdf('figures/Cas12_sampleDate_boxplots.pdf')\n",
    "ggarrange(g9,g10,ncol=1,nrow=2)\n",
    "dev.off()"
   ]
  },
  {
   "cell_type": "code",
   "execution_count": 14,
   "metadata": {},
   "outputs": [
    {
     "data": {
      "text/plain": [
       "\n",
       "Call:\n",
       "lm(formula = ex.classified.frac ~ perturbation + host_sex + host_family_relationship + \n",
       "    collection_date + specific_host, data = metadata)\n",
       "\n",
       "Residuals:\n",
       "      Min        1Q    Median        3Q       Max \n",
       "-0.058362 -0.015084 -0.000748  0.023325  0.038926 \n",
       "\n",
       "Coefficients: (3 not defined because of singularities)\n",
       "                           Estimate Std. Error t value Pr(>|t|)    \n",
       "(Intercept)                0.021530   0.016326   1.319  0.19690    \n",
       "perturbationnon-medicated  0.007620   0.022223   0.343  0.73402    \n",
       "host_sexmale               0.033845   0.022223   1.523  0.13791    \n",
       "host_family_relationshipB -0.044530   0.022223  -2.004  0.05390 .  \n",
       "collection_date6/11/12     0.086517   0.012154   7.118 5.35e-08 ***\n",
       "collection_date6/5/12      0.067194   0.012518   5.368 7.48e-06 ***\n",
       "collection_date6/6/12     -0.001639   0.012154  -0.135  0.89362    \n",
       "specific_hostPig_188       0.005052   0.030195   0.167  0.86820    \n",
       "specific_hostPig_189      -0.019408   0.030195  -0.643  0.52510    \n",
       "specific_hostPig_190      -0.056274   0.031502  -1.786  0.08382 .  \n",
       "specific_hostPig_191      -0.019289   0.030195  -0.639  0.52764    \n",
       "specific_hostPig_192      -0.086168   0.030195  -2.854  0.00763 ** \n",
       "specific_hostPig_193      -0.058556   0.041581  -1.408  0.16901    \n",
       "specific_hostPig_194       0.010603   0.031355   0.338  0.73753    \n",
       "specific_hostPig_195       0.039846   0.022223   1.793  0.08274 .  \n",
       "specific_hostPig_196             NA         NA      NA       NA    \n",
       "specific_hostPig_197      -0.018262   0.022223  -0.822  0.41749    \n",
       "specific_hostPig_198             NA         NA      NA       NA    \n",
       "specific_hostPig_200             NA         NA      NA       NA    \n",
       "---\n",
       "Signif. codes:  0 ‘***’ 0.001 ‘**’ 0.01 ‘*’ 0.05 ‘.’ 0.1 ‘ ’ 1\n",
       "\n",
       "Residual standard error: 0.02891 on 31 degrees of freedom\n",
       "Multiple R-squared:  0.7875,\tAdjusted R-squared:  0.6847 \n",
       "F-statistic:  7.66 on 15 and 31 DF,  p-value: 1.024e-06\n"
      ]
     },
     "metadata": {},
     "output_type": "display_data"
    }
   ],
   "source": [
    "# linear model looking for differences with covariates\n",
    "fit <- lm(ex.classified.frac~perturbation + host_sex + host_family_relationship + collection_date + specific_host, data=metadata)\n",
    "summary(fit)"
   ]
  },
  {
   "cell_type": "code",
   "execution_count": 16,
   "metadata": {},
   "outputs": [
    {
     "data": {
      "text/html": [
       "<style>\n",
       ".list-inline {list-style: none; margin:0; padding: 0}\n",
       ".list-inline>li {display: inline-block}\n",
       ".list-inline>li:not(:last-child)::after {content: \"\\00b7\"; padding: 0 .5ex}\n",
       "</style>\n",
       "<ol class=list-inline><li>2634</li><li>47</li></ol>\n"
      ],
      "text/latex": [
       "\\begin{enumerate*}\n",
       "\\item 2634\n",
       "\\item 47\n",
       "\\end{enumerate*}\n"
      ],
      "text/markdown": [
       "1. 2634\n",
       "2. 47\n",
       "\n",
       "\n"
      ],
      "text/plain": [
       "[1] 2634   47"
      ]
     },
     "metadata": {},
     "output_type": "display_data"
    },
    {
     "data": {
      "text/html": [
       "<style>\n",
       ".list-inline {list-style: none; margin:0; padding: 0}\n",
       ".list-inline>li {display: inline-block}\n",
       ".list-inline>li:not(:last-child)::after {content: \"\\00b7\"; padding: 0 .5ex}\n",
       "</style>\n",
       "<ol class=list-inline><li>126</li><li>47</li></ol>\n"
      ],
      "text/latex": [
       "\\begin{enumerate*}\n",
       "\\item 126\n",
       "\\item 47\n",
       "\\end{enumerate*}\n"
      ],
      "text/markdown": [
       "1. 126\n",
       "2. 47\n",
       "\n",
       "\n"
      ],
      "text/plain": [
       "[1] 126  47"
      ]
     },
     "metadata": {},
     "output_type": "display_data"
    }
   ],
   "source": [
    "# subset expression data to set remove low counts (Cas9)\n",
    "keep.exprs <- filterByExpr(ex.mat.classified, group=metadata$perturbation,  min.count=5, min.total.count = 10)\n",
    "ex.mat.classified.filt <- ex.mat.classified[keep.exprs,]\n",
    "dim(ex.mat.classified)\n",
    "dim(ex.mat.classified.filt)"
   ]
  },
  {
   "cell_type": "code",
   "execution_count": 15,
   "metadata": {},
   "outputs": [
    {
     "data": {
      "text/html": [
       "<style>\n",
       ".list-inline {list-style: none; margin:0; padding: 0}\n",
       ".list-inline>li {display: inline-block}\n",
       ".list-inline>li:not(:last-child)::after {content: \"\\00b7\"; padding: 0 .5ex}\n",
       "</style>\n",
       "<ol class=list-inline><li>2051</li><li>47</li></ol>\n"
      ],
      "text/latex": [
       "\\begin{enumerate*}\n",
       "\\item 2051\n",
       "\\item 47\n",
       "\\end{enumerate*}\n"
      ],
      "text/markdown": [
       "1. 2051\n",
       "2. 47\n",
       "\n",
       "\n"
      ],
      "text/plain": [
       "[1] 2051   47"
      ]
     },
     "metadata": {},
     "output_type": "display_data"
    },
    {
     "data": {
      "text/html": [
       "<style>\n",
       ".list-inline {list-style: none; margin:0; padding: 0}\n",
       ".list-inline>li {display: inline-block}\n",
       ".list-inline>li:not(:last-child)::after {content: \"\\00b7\"; padding: 0 .5ex}\n",
       "</style>\n",
       "<ol class=list-inline><li>107</li><li>47</li></ol>\n"
      ],
      "text/latex": [
       "\\begin{enumerate*}\n",
       "\\item 107\n",
       "\\item 47\n",
       "\\end{enumerate*}\n"
      ],
      "text/markdown": [
       "1. 107\n",
       "2. 47\n",
       "\n",
       "\n"
      ],
      "text/plain": [
       "[1] 107  47"
      ]
     },
     "metadata": {},
     "output_type": "display_data"
    }
   ],
   "source": [
    "# subset expression data to set remove low counts (Cas12)\n",
    "keep.exprs <- filterByExpr(ex.mat.classified, group=metadata$perturbation,  min.count=5, min.total.count = 10)\n",
    "ex.mat.classified.filt <- ex.mat.classified[keep.exprs,]\n",
    "dim(ex.mat.classified)\n",
    "dim(ex.mat.classified.filt)"
   ]
  },
  {
   "cell_type": "code",
   "execution_count": 16,
   "metadata": {},
   "outputs": [],
   "source": [
    "# norm to counts per million\n",
    "cpm <- cpm(ex.mat.classified.filt, log=FALSE)\n",
    "lcpm <- cpm(ex.mat.classified.filt, log=TRUE)"
   ]
  },
  {
   "cell_type": "code",
   "execution_count": 18,
   "metadata": {},
   "outputs": [
    {
     "name": "stderr",
     "output_type": "stream",
     "text": [
      "Warning message in brewer.pal(2, \"Set1\"):\n",
      "“minimal value for n is 3, returning requested palette with 3 different levels\n",
      "”\n"
     ]
    },
    {
     "data": {
      "text/html": [
       "<strong>png:</strong> 2"
      ],
      "text/latex": [
       "\\textbf{png:} 2"
      ],
      "text/markdown": [
       "**png:** 2"
      ],
      "text/plain": [
       "png \n",
       "  2 "
      ]
     },
     "metadata": {},
     "output_type": "display_data"
    }
   ],
   "source": [
    "# NMDS to look at samples by collection date\n",
    "group.to.color <- brewer.pal(2, \"Set1\")[1:2]\n",
    "names(group.to.color) <- unique(metadata$perturbation)\n",
    "col.group <- group.to.color[metadata$perturbation]\n",
    "date.to.color <- brewer.pal(4, \"Set1\")\n",
    "names(date.to.color) <- unique(metadata$collection_date)\n",
    "col.date <- date.to.color[metadata$collection_date]\n",
    "\n",
    "pdf('figures/Cas12_MDS.png', height=6, width=10)\n",
    "mypar(1,2)\n",
    "plotMDS(lcpm, labels=1:nrow(metadata), col=col.group)\n",
    "title(main=\"Treatment\")\n",
    "legend('topright', legend = names(date.to.color), fill = group.to.color)\n",
    "plotMDS(lcpm, labels=1:nrow(metadata), col=col.date, xlim=c(-4,4.5), ylim=c(-2,1.7))\n",
    "title(main=\"Collection Date\")\n",
    "legend('topright', legend = names(date.to.color), fill = date.to.color)\n",
    "dev.off()"
   ]
  },
  {
   "cell_type": "code",
   "execution_count": 20,
   "metadata": {},
   "outputs": [
    {
     "data": {
      "text/plain": [
       "       (Intercept) metadata$perturbationnon-medicated\n",
       "Down             0                                  0\n",
       "NotSig           0                                126\n",
       "Up             126                                  0\n",
       "       metadata$collection_date6/11/12 metadata$collection_date6/5/12\n",
       "Down                               109                            108\n",
       "NotSig                              10                             11\n",
       "Up                                   7                              7\n",
       "       metadata$collection_date6/6/12\n",
       "Down                                6\n",
       "NotSig                            106\n",
       "Up                                 14"
      ]
     },
     "metadata": {},
     "output_type": "display_data"
    }
   ],
   "source": [
    "## DIFFERENTIAL EXPRESSION Cas9\n",
    "# design matrix for diffex\n",
    "design <- model.matrix(~metadata$perturbation + metadata$collection_date)\n",
    "# calculate differential ex\n",
    "lfit <- lmFit(lcpm, design)\n",
    "# emprical bayes\n",
    "efit <- eBayes(lfit)\n",
    "# number of differentially expressed genes\n",
    "summary(decideTests(efit))"
   ]
  },
  {
   "cell_type": "code",
   "execution_count": 19,
   "metadata": {},
   "outputs": [
    {
     "data": {
      "text/plain": [
       "       (Intercept) metadata$perturbationnon-medicated\n",
       "Down             0                                  0\n",
       "NotSig           0                                107\n",
       "Up             107                                  0\n",
       "       metadata$collection_date6/11/12 metadata$collection_date6/5/12\n",
       "Down                                92                             89\n",
       "NotSig                               7                             10\n",
       "Up                                   8                              8\n",
       "       metadata$collection_date6/6/12\n",
       "Down                                8\n",
       "NotSig                             90\n",
       "Up                                  9"
      ]
     },
     "metadata": {},
     "output_type": "display_data"
    }
   ],
   "source": [
    "## DIFFERENTIAL EXPRESSION Cas12\n",
    "# design matrix for diffex\n",
    "design <- model.matrix(~metadata$perturbation + metadata$collection_date)\n",
    "# calculate differential ex\n",
    "lfit <- lmFit(lcpm, design)\n",
    "# emprical bayes\n",
    "efit <- eBayes(lfit)\n",
    "# number of differentially expressed genes\n",
    "summary(decideTests(efit))"
   ]
  },
  {
   "cell_type": "code",
   "execution_count": 21,
   "metadata": {},
   "outputs": [],
   "source": [
    "diffex.perturbation <- topTreat(efit, coef='metadata$perturbationnon-medicated', number=Inf)\n",
    "diffex.cd <- topTreat(efit, coef='metadata$collection_date6/11/12', number=Inf)\n",
    "\n",
    "diffex.perturbation$taxa <- rownames(diffex.perturbation)\n",
    "diffex.perturbation <- diffex.perturbation[,c('taxa', \"logFC\", \"AveExpr\", \"t\", \"P.Value\", \"adj.P.Val\", \"B\")]\n",
    "diffex.cd$taxa <- rownames(diffex.cd)\n",
    "diffex.cd <- diffex.cd[,c('taxa', \"logFC\", \"AveExpr\", \"t\", \"P.Value\", \"adj.P.Val\", \"B\")]"
   ]
  },
  {
   "cell_type": "code",
   "execution_count": 22,
   "metadata": {},
   "outputs": [
    {
     "data": {
      "text/html": [
       "<strong>png:</strong> 2"
      ],
      "text/latex": [
       "\\textbf{png:} 2"
      ],
      "text/markdown": [
       "**png:** 2"
      ],
      "text/plain": [
       "png \n",
       "  2 "
      ]
     },
     "metadata": {},
     "output_type": "display_data"
    }
   ],
   "source": [
    "# plot the top number of each\n",
    "n <- 4\n",
    "pdf('figures/Cas9_top10DiffexPerturbation.pdf', height=4, width=6)\n",
    "for (i in 1:n){\n",
    "    print(plot_taxa(diffex.perturbation[i, 'taxa']))\n",
    "}\n",
    "dev.off()"
   ]
  },
  {
   "cell_type": "code",
   "execution_count": 23,
   "metadata": {},
   "outputs": [
    {
     "data": {
      "text/html": [
       "<strong>png:</strong> 2"
      ],
      "text/latex": [
       "\\textbf{png:} 2"
      ],
      "text/markdown": [
       "**png:** 2"
      ],
      "text/plain": [
       "png \n",
       "  2 "
      ]
     },
     "metadata": {},
     "output_type": "display_data"
    }
   ],
   "source": [
    "pdf('figures/Cas9_topDiffex_sampleDate.pdf', height=4, width=6)\n",
    "for (i in 1:n){\n",
    "    print(plot_taxa(diffex.cd[i, 'taxa']))\n",
    "}\n",
    "dev.off()\n",
    "\n",
    "# write out tables\n",
    "write.table(diffex.perturbation, 'tables/Cas9_diffex_perturbation.tsv', sep='\\t', quote=F, col.names = T, row.names = F)\n",
    "# write.table(diffex.age, 'tables/Cas9_diffex_age.tsv', sep='\\t', quote=F, col.names = T, row.names = F)\n",
    "\n",
    "# wite expression matrices\n",
    "write.table(ex.mat.classified, 'tables/Cas9_expression_matrix.tsv', sep='\\t', quote=F, col.names = T, row.names = T)\n",
    "write.table(ex.mat.classified.filt, 'tables/cas9_expression_matrix_filtered.tsv', sep='\\t', quote=F, col.names = T, row.names = T)"
   ]
  },
  {
   "cell_type": "code",
   "execution_count": null,
   "metadata": {},
   "outputs": [],
   "source": []
  }
 ],
 "metadata": {
  "kernelspec": {
   "display_name": "R",
   "language": "R",
   "name": "ir"
  },
  "language_info": {
   "codemirror_mode": "r",
   "file_extension": ".r",
   "mimetype": "text/x-r-source",
   "name": "R",
   "pygments_lexer": "r",
   "version": "4.0.0"
  },
  "widgets": {
   "application/vnd.jupyter.widget-state+json": {
    "state": {},
    "version_major": 2,
    "version_minor": 0
   }
  }
 },
 "nbformat": 4,
 "nbformat_minor": 4
}
