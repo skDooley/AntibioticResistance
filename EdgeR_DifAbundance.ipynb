{
 "cells": [
  {
   "cell_type": "code",
   "execution_count": 1,
   "metadata": {},
   "outputs": [
    {
     "name": "stderr",
     "output_type": "stream",
     "text": [
      "Loading required package: limma\n",
      "Warning message:\n",
      "\"package 'ggplot2' was built under R version 3.6.3\"Warning message:\n",
      "\"package 'RColorBrewer' was built under R version 3.6.3\""
     ]
    }
   ],
   "source": [
    "#Load required libraries\n",
    "library(edgeR)\n",
    "library(ggplot2)\n",
    "library(RColorBrewer)\n",
    "library(rafalib)\n",
    "library(ggpubr)"
   ]
  },
  {
   "cell_type": "code",
   "execution_count": 2,
   "metadata": {},
   "outputs": [],
   "source": [
    "# Functions (taken from script in kraken2_clasification github)\n",
    "\n",
    "# simple reader for a kraken report file\n",
    "kraken_file_to_df <- function(fname){\n",
    "    if (!file.exists(fname)){\n",
    "        stop(paste('File does not exist:', fname))\n",
    "    }\n",
    "    df <- read.table(fname, sep='\\t', quote='', header = F, stringsAsFactors = F,\n",
    "                     col.names=c('pct', 'reads.below','reads.direct','tax.level','taxid','name'))\n",
    "    # trim whitespace, ensure names.\n",
    "    # if no name, set it to the taxid\n",
    "    for (i in 1:nrow(df)){\n",
    "        if (trimws(df[i, 'name']) == ''){\n",
    "            df[i, 'name'] <- df[i, 'taxid']\n",
    "        }\n",
    "    }\n",
    "    return(df)\n",
    "}\n",
    "\n",
    "# combine a list of dataframes from reading Kraken reports and\n",
    "# merge into a large matrix of read counts\n",
    "# names will be taken from the names of the list\n",
    "# output will have taxonmic name in rows, sample in columns\n",
    "merge_kraken_df_list <- function(df.list, reads.col='reads.below'){\n",
    "    # if(length(df.list) <2){\n",
    "    #     stop('Must be a list longer than 1 - TODO implement this with one element')}\n",
    "    if(is.null(names(df.list))){\n",
    "        warning('Names of list is null, colnames of result will be empty')}\n",
    "\n",
    "    keep.cols <- c('taxid', reads.col)\n",
    "    df.list.simple <- lapply(df.list, function(x) x[, keep.cols])\n",
    "\n",
    "    # merge on the taxid column\n",
    "    merge.colname <- 'taxid'\n",
    "    # Reduce to merge list of data frames into one\n",
    "    merge.temp <- suppressWarnings(Reduce(function(x,y) merge(x, y, all=TRUE, by=merge.colname, sort=F), df.list.simple))\n",
    "    rownames(merge.temp) <- merge.temp[,1]\n",
    "    merge.mat <- as.matrix(merge.temp[,c(-1),drop=FALSE])\n",
    "    colnames(merge.mat) <- names(df.list)\n",
    "    merge.mat[is.na(merge.mat)] <- 0\n",
    "    return(merge.mat)\n",
    "}\n",
    "\n",
    "# function to plot gene expression with associated metadata\n",
    "plot_taxa <- function(gene){\n",
    "    nm <- metadata\n",
    "    nm$gene <- lcpm[gene, nm$Run]\n",
    "    g1 <- ggplot(nm, aes(x=perturbation, y=gene)) +\n",
    "        geom_boxplot() +\n",
    "        theme_bw() +\n",
    "        stat_compare_means() +\n",
    "        ggtitle(paste('Expression of TaxID', gene)) +\n",
    "        ylab('log CPM')\n",
    "\n",
    "    g2 <- ggplot(nm, aes(x=collection_date, y=gene)) +\n",
    "        geom_boxplot() +\n",
    "        theme_bw() +\n",
    "        stat_compare_means() +\n",
    "        ggtitle(paste('Expression of TaxID', gene)) +\n",
    "        ylab('log CPM')\n",
    "    ggarrange(g1,g2)\n",
    "\n",
    "}"
   ]
  },
  {
   "cell_type": "code",
   "execution_count": 3,
   "metadata": {},
   "outputs": [
    {
     "data": {
      "text/html": [
       "<table>\n",
       "<caption>A data.frame: 6 × 24</caption>\n",
       "<thead>\n",
       "\t<tr><th></th><th scope=col>Run</th><th scope=col>Assay.Type</th><th scope=col>AvgSpotLen</th><th scope=col>BioProject</th><th scope=col>BioSample</th><th scope=col>Experiment</th><th scope=col>Host_Age</th><th scope=col>host_body_temp</th><th scope=col>host_family_relationship</th><th scope=col>host_sex</th><th scope=col>⋯</th><th scope=col>perturbation</th><th scope=col>sample_acc</th><th scope=col>Sample.Name</th><th scope=col>SRA.Study</th><th scope=col>collection_date</th><th scope=col>env_package</th><th scope=col>samp_size</th><th scope=col>samp_unit</th><th scope=col>samp_store_dur</th><th scope=col>specific_host</th></tr>\n",
       "\t<tr><th></th><th scope=col>&lt;fct&gt;</th><th scope=col>&lt;fct&gt;</th><th scope=col>&lt;int&gt;</th><th scope=col>&lt;fct&gt;</th><th scope=col>&lt;fct&gt;</th><th scope=col>&lt;fct&gt;</th><th scope=col>&lt;fct&gt;</th><th scope=col>&lt;int&gt;</th><th scope=col>&lt;fct&gt;</th><th scope=col>&lt;fct&gt;</th><th scope=col>⋯</th><th scope=col>&lt;fct&gt;</th><th scope=col>&lt;fct&gt;</th><th scope=col>&lt;fct&gt;</th><th scope=col>&lt;fct&gt;</th><th scope=col>&lt;fct&gt;</th><th scope=col>&lt;fct&gt;</th><th scope=col>&lt;int&gt;</th><th scope=col>&lt;fct&gt;</th><th scope=col>&lt;fct&gt;</th><th scope=col>&lt;fct&gt;</th></tr>\n",
       "</thead>\n",
       "<tbody>\n",
       "\t<tr><th scope=row>1</th><td>SRR5368774</td><td>RNA-Seq</td><td> 99</td><td>PRJNA237795</td><td>SAMN06627626</td><td>SRX2664030</td><td>47 days</td><td>39</td><td>B</td><td>male  </td><td>⋯</td><td>non-medicated</td><td>SRS2065942</td><td>200_7.sff</td><td>SRP038757</td><td>6/11/12</td><td>MIGS/MIMS/MIMARKS.host-associated</td><td> 1</td><td>grams feces</td><td>1 to 6 months </td><td>Pig_200</td></tr>\n",
       "\t<tr><th scope=row>2</th><td>SRR5368778</td><td>RNA-Seq</td><td> 99</td><td>PRJNA237795</td><td>SAMN06627624</td><td>SRX2664034</td><td>42 days</td><td>39</td><td>B</td><td>male  </td><td>⋯</td><td>non-medicated</td><td>SRS2065944</td><td>200_2.sff</td><td>SRP038757</td><td>6/6/12 </td><td>MIGS/MIMS/MIMARKS.host-associated</td><td> 1</td><td>grams feces</td><td>1 to 6 months </td><td>Pig_200</td></tr>\n",
       "\t<tr><th scope=row>3</th><td>SRR5368780</td><td>RNA-Seq</td><td> 99</td><td>PRJNA237795</td><td>SAMN06627623</td><td>SRX2664036</td><td>41 days</td><td>39</td><td>B</td><td>male  </td><td>⋯</td><td>non-medicated</td><td>SRS2065945</td><td>200_1.sff</td><td>SRP038757</td><td>6/5/12 </td><td>MIGS/MIMS/MIMARKS.host-associated</td><td> 1</td><td>grams feces</td><td>1 to 6 months </td><td>Pig_200</td></tr>\n",
       "\t<tr><th scope=row>4</th><td>SRR5368783</td><td>RNA-Seq</td><td>101</td><td>PRJNA237795</td><td>SAMN02645155</td><td>SRX2664039</td><td>47 days</td><td>39</td><td>B</td><td>female</td><td>⋯</td><td>medicated    </td><td>SRS560730 </td><td>198_7.sff</td><td>SRP038757</td><td>6/11/12</td><td>MIGS/MIMS/MIMARKS.host-associated</td><td>65</td><td>grams feces</td><td>37 to 6 months</td><td>Pig_198</td></tr>\n",
       "\t<tr><th scope=row>5</th><td>SRR5368786</td><td>RNA-Seq</td><td>100</td><td>PRJNA237795</td><td>SAMN02645154</td><td>SRX2664042</td><td>35 days</td><td>39</td><td>B</td><td>female</td><td>⋯</td><td>medicated    </td><td>SRS560729 </td><td>198_5.sff</td><td>SRP038757</td><td>5/30/12</td><td>MIGS/MIMS/MIMARKS.host-associated</td><td>53</td><td>grams feces</td><td>25 to 6 months</td><td>Pig_198</td></tr>\n",
       "\t<tr><th scope=row>6</th><td>SRR5368789</td><td>RNA-Seq</td><td> 99</td><td>PRJNA237795</td><td>SAMN02645150</td><td>SRX2664045</td><td>42 days</td><td>39</td><td>B</td><td>female</td><td>⋯</td><td>medicated    </td><td>SRS560725 </td><td>198_2.sff</td><td>SRP038757</td><td>6/6/12 </td><td>MIGS/MIMS/MIMARKS.host-associated</td><td>17</td><td>grams feces</td><td>1 to 6 months </td><td>Pig_198</td></tr>\n",
       "</tbody>\n",
       "</table>\n"
      ],
      "text/latex": [
       "A data.frame: 6 × 24\n",
       "\\begin{tabular}{r|lllllllllllllllllllll}\n",
       "  & Run & Assay.Type & AvgSpotLen & BioProject & BioSample & Experiment & Host\\_Age & host\\_body\\_temp & host\\_family\\_relationship & host\\_sex & ⋯ & perturbation & sample\\_acc & Sample.Name & SRA.Study & collection\\_date & env\\_package & samp\\_size & samp\\_unit & samp\\_store\\_dur & specific\\_host\\\\\n",
       "  & <fct> & <fct> & <int> & <fct> & <fct> & <fct> & <fct> & <int> & <fct> & <fct> & ⋯ & <fct> & <fct> & <fct> & <fct> & <fct> & <fct> & <int> & <fct> & <fct> & <fct>\\\\\n",
       "\\hline\n",
       "\t1 & SRR5368774 & RNA-Seq &  99 & PRJNA237795 & SAMN06627626 & SRX2664030 & 47 days & 39 & B & male   & ⋯ & non-medicated & SRS2065942 & 200\\_7.sff & SRP038757 & 6/11/12 & MIGS/MIMS/MIMARKS.host-associated &  1 & grams feces & 1 to 6 months  & Pig\\_200\\\\\n",
       "\t2 & SRR5368778 & RNA-Seq &  99 & PRJNA237795 & SAMN06627624 & SRX2664034 & 42 days & 39 & B & male   & ⋯ & non-medicated & SRS2065944 & 200\\_2.sff & SRP038757 & 6/6/12  & MIGS/MIMS/MIMARKS.host-associated &  1 & grams feces & 1 to 6 months  & Pig\\_200\\\\\n",
       "\t3 & SRR5368780 & RNA-Seq &  99 & PRJNA237795 & SAMN06627623 & SRX2664036 & 41 days & 39 & B & male   & ⋯ & non-medicated & SRS2065945 & 200\\_1.sff & SRP038757 & 6/5/12  & MIGS/MIMS/MIMARKS.host-associated &  1 & grams feces & 1 to 6 months  & Pig\\_200\\\\\n",
       "\t4 & SRR5368783 & RNA-Seq & 101 & PRJNA237795 & SAMN02645155 & SRX2664039 & 47 days & 39 & B & female & ⋯ & medicated     & SRS560730  & 198\\_7.sff & SRP038757 & 6/11/12 & MIGS/MIMS/MIMARKS.host-associated & 65 & grams feces & 37 to 6 months & Pig\\_198\\\\\n",
       "\t5 & SRR5368786 & RNA-Seq & 100 & PRJNA237795 & SAMN02645154 & SRX2664042 & 35 days & 39 & B & female & ⋯ & medicated     & SRS560729  & 198\\_5.sff & SRP038757 & 5/30/12 & MIGS/MIMS/MIMARKS.host-associated & 53 & grams feces & 25 to 6 months & Pig\\_198\\\\\n",
       "\t6 & SRR5368789 & RNA-Seq &  99 & PRJNA237795 & SAMN02645150 & SRX2664045 & 42 days & 39 & B & female & ⋯ & medicated     & SRS560725  & 198\\_2.sff & SRP038757 & 6/6/12  & MIGS/MIMS/MIMARKS.host-associated & 17 & grams feces & 1 to 6 months  & Pig\\_198\\\\\n",
       "\\end{tabular}\n"
      ],
      "text/markdown": [
       "\n",
       "A data.frame: 6 × 24\n",
       "\n",
       "| <!--/--> | Run &lt;fct&gt; | Assay.Type &lt;fct&gt; | AvgSpotLen &lt;int&gt; | BioProject &lt;fct&gt; | BioSample &lt;fct&gt; | Experiment &lt;fct&gt; | Host_Age &lt;fct&gt; | host_body_temp &lt;int&gt; | host_family_relationship &lt;fct&gt; | host_sex &lt;fct&gt; | ⋯ ⋯ | perturbation &lt;fct&gt; | sample_acc &lt;fct&gt; | Sample.Name &lt;fct&gt; | SRA.Study &lt;fct&gt; | collection_date &lt;fct&gt; | env_package &lt;fct&gt; | samp_size &lt;int&gt; | samp_unit &lt;fct&gt; | samp_store_dur &lt;fct&gt; | specific_host &lt;fct&gt; |\n",
       "|---|---|---|---|---|---|---|---|---|---|---|---|---|---|---|---|---|---|---|---|---|---|\n",
       "| 1 | SRR5368774 | RNA-Seq |  99 | PRJNA237795 | SAMN06627626 | SRX2664030 | 47 days | 39 | B | male   | ⋯ | non-medicated | SRS2065942 | 200_7.sff | SRP038757 | 6/11/12 | MIGS/MIMS/MIMARKS.host-associated |  1 | grams feces | 1 to 6 months  | Pig_200 |\n",
       "| 2 | SRR5368778 | RNA-Seq |  99 | PRJNA237795 | SAMN06627624 | SRX2664034 | 42 days | 39 | B | male   | ⋯ | non-medicated | SRS2065944 | 200_2.sff | SRP038757 | 6/6/12  | MIGS/MIMS/MIMARKS.host-associated |  1 | grams feces | 1 to 6 months  | Pig_200 |\n",
       "| 3 | SRR5368780 | RNA-Seq |  99 | PRJNA237795 | SAMN06627623 | SRX2664036 | 41 days | 39 | B | male   | ⋯ | non-medicated | SRS2065945 | 200_1.sff | SRP038757 | 6/5/12  | MIGS/MIMS/MIMARKS.host-associated |  1 | grams feces | 1 to 6 months  | Pig_200 |\n",
       "| 4 | SRR5368783 | RNA-Seq | 101 | PRJNA237795 | SAMN02645155 | SRX2664039 | 47 days | 39 | B | female | ⋯ | medicated     | SRS560730  | 198_7.sff | SRP038757 | 6/11/12 | MIGS/MIMS/MIMARKS.host-associated | 65 | grams feces | 37 to 6 months | Pig_198 |\n",
       "| 5 | SRR5368786 | RNA-Seq | 100 | PRJNA237795 | SAMN02645154 | SRX2664042 | 35 days | 39 | B | female | ⋯ | medicated     | SRS560729  | 198_5.sff | SRP038757 | 5/30/12 | MIGS/MIMS/MIMARKS.host-associated | 53 | grams feces | 25 to 6 months | Pig_198 |\n",
       "| 6 | SRR5368789 | RNA-Seq |  99 | PRJNA237795 | SAMN02645150 | SRX2664045 | 42 days | 39 | B | female | ⋯ | medicated     | SRS560725  | 198_2.sff | SRP038757 | 6/6/12  | MIGS/MIMS/MIMARKS.host-associated | 17 | grams feces | 1 to 6 months  | Pig_198 |\n",
       "\n"
      ],
      "text/plain": [
       "  Run        Assay.Type AvgSpotLen BioProject  BioSample    Experiment Host_Age\n",
       "1 SRR5368774 RNA-Seq     99        PRJNA237795 SAMN06627626 SRX2664030 47 days \n",
       "2 SRR5368778 RNA-Seq     99        PRJNA237795 SAMN06627624 SRX2664034 42 days \n",
       "3 SRR5368780 RNA-Seq     99        PRJNA237795 SAMN06627623 SRX2664036 41 days \n",
       "4 SRR5368783 RNA-Seq    101        PRJNA237795 SAMN02645155 SRX2664039 47 days \n",
       "5 SRR5368786 RNA-Seq    100        PRJNA237795 SAMN02645154 SRX2664042 35 days \n",
       "6 SRR5368789 RNA-Seq     99        PRJNA237795 SAMN02645150 SRX2664045 42 days \n",
       "  host_body_temp host_family_relationship host_sex <U+22EF>   perturbation \n",
       "1 39             B                        male     <U+22EF> non-medicated\n",
       "2 39             B                        male     <U+22EF> non-medicated\n",
       "3 39             B                        male     <U+22EF> non-medicated\n",
       "4 39             B                        female   <U+22EF> medicated    \n",
       "5 39             B                        female   <U+22EF> medicated    \n",
       "6 39             B                        female   <U+22EF> medicated    \n",
       "  sample_acc Sample.Name SRA.Study collection_date\n",
       "1 SRS2065942 200_7.sff   SRP038757 6/11/12        \n",
       "2 SRS2065944 200_2.sff   SRP038757 6/6/12         \n",
       "3 SRS2065945 200_1.sff   SRP038757 6/5/12         \n",
       "4 SRS560730  198_7.sff   SRP038757 6/11/12        \n",
       "5 SRS560729  198_5.sff   SRP038757 5/30/12        \n",
       "6 SRS560725  198_2.sff   SRP038757 6/6/12         \n",
       "  env_package                       samp_size samp_unit   samp_store_dur\n",
       "1 MIGS/MIMS/MIMARKS.host-associated  1        grams feces 1 to 6 months \n",
       "2 MIGS/MIMS/MIMARKS.host-associated  1        grams feces 1 to 6 months \n",
       "3 MIGS/MIMS/MIMARKS.host-associated  1        grams feces 1 to 6 months \n",
       "4 MIGS/MIMS/MIMARKS.host-associated 65        grams feces 37 to 6 months\n",
       "5 MIGS/MIMS/MIMARKS.host-associated 53        grams feces 25 to 6 months\n",
       "6 MIGS/MIMS/MIMARKS.host-associated 17        grams feces 1 to 6 months \n",
       "  specific_host\n",
       "1 Pig_200      \n",
       "2 Pig_200      \n",
       "3 Pig_200      \n",
       "4 Pig_198      \n",
       "5 Pig_198      \n",
       "6 Pig_198      "
      ]
     },
     "metadata": {},
     "output_type": "display_data"
    }
   ],
   "source": [
    "#Read metadata\n",
    "setwd(\"data\")\n",
    "metadata <- read.table('tables/MetadataRNASeq.csv', sep=',', quote = '', header=T)\n",
    "head(metadata)"
   ]
  },
  {
   "cell_type": "code",
   "execution_count": 4,
   "metadata": {},
   "outputs": [],
   "source": [
    "#For each sample (\"Run\") grab the report from Kraken and read the file\n",
    "f.ext <- '.Cas9_Operons.kreport'\n",
    "classification.folder <- 'tables/allCounts'\n",
    "flist <- sapply(metadata$Run, function(x) file.path(classification.folder, paste(x, f.ext, sep='')))             \n",
    "\n",
    "#check to make sure all files exist\n",
    "names(flist) <- metadata$Run\n",
    "if (!(all(file.exists(flist)))){\n",
    "    # print which files don't exist\n",
    "    message('The follwing files do not exist:')\n",
    "    print(flist[!sapply(flist, file.exists)])\n",
    "    stop(\"Some classification files do not exist!\")\n",
    "}\n",
    "\n",
    "df.list <- lapply(flist, function(x) kraken_file_to_df(x))            \n",
    "ex.mat <- merge_kraken_df_list(df.list, reads.col = 'reads.direct')               "
   ]
  },
  {
   "cell_type": "code",
   "execution_count": 5,
   "metadata": {},
   "outputs": [],
   "source": [
    "# Extract the taxa classification counts and norm by library size\n",
    "ex.mat.classified <- ex.mat[-1, ]\n",
    "ex.totals <- colSums(ex.mat)\n",
    "ex.classified.totals <- colSums(ex.mat.classified)\n",
    "ex.classified.frac <- ex.classified.totals/ex.totals"
   ]
  },
  {
   "cell_type": "code",
   "execution_count": 6,
   "metadata": {},
   "outputs": [],
   "source": [
    "#Make some plots to show differences in covariates\n",
    "metadata$ex.classified.frac <- ex.classified.frac[metadata$Run]\n",
    "# metadata$ex.classified.frac <- ex.totals[metadata$Run]\n",
    "g1 <- ggplot(metadata, aes(x=perturbation, y=ex.classified.frac)) + geom_boxplot() + theme_bw() + stat_compare_means() + ylab('Fraction of reads classified')\n",
    "g2 <- ggplot(metadata, aes(x=perturbation, y=ex.totals)) + geom_boxplot() + theme_bw() + stat_compare_means() + ylab('Total reads')\n",
    "g3 <- ggplot(metadata, aes(x=host_sex, y=ex.classified.frac)) + geom_boxplot() + theme_bw() + stat_compare_means() + ylab('Fraction of reads classified')\n",
    "g4 <- ggplot(metadata, aes(x=host_sex, y=ex.totals)) + geom_boxplot() + theme_bw() + stat_compare_means()+ ylab('Total reads')\n",
    "g5 <- ggplot(metadata, aes(x=specific_host, y=ex.classified.frac)) + geom_boxplot() + theme_bw() + stat_compare_means() + ylab('Fraction of reads classified')\n",
    "g6 <- ggplot(metadata, aes(x=specific_host, y=ex.totals)) + geom_boxplot() + theme_bw() + stat_compare_means() + ylab('Total reads')\n",
    "g7 <- ggplot(metadata, aes(x=host_family_relationship, y=ex.classified.frac)) + geom_boxplot() + theme_bw() + stat_compare_means() + ylab('Fraction of reads classified')\n",
    "g8 <- ggplot(metadata, aes(x=host_family_relationship, y=ex.totals)) + geom_boxplot() + theme_bw() + stat_compare_means()+ ylab('Total reads')\n",
    "g9 <- ggplot(metadata, aes(x=collection_date, y=ex.classified.frac)) + geom_boxplot() + theme_bw() + stat_compare_means()+ ylab('Fraction of reads classified')\n",
    "g10 <- ggplot(metadata, aes(x=collection_date, y=ex.totals)) + geom_boxplot() + theme_bw() + stat_compare_means()+ylab('Total reads')"
   ]
  },
  {
   "cell_type": "code",
   "execution_count": 7,
   "metadata": {},
   "outputs": [
    {
     "data": {
      "image/png": "[encoded data removed]",
      "text/plain": [
       "plot without title"
      ]
     },
     "metadata": {},
     "output_type": "display_data"
    }
   ],
   "source": [
    "ggarrange(g1,g2,ncol=1,nrow=2)"
   ]
  },
  {
   "cell_type": "code",
   "execution_count": 8,
   "metadata": {},
   "outputs": [
    {
     "data": {
      "image/png": "[encoded data removed]",
      "text/plain": [
       "plot without title"
      ]
     },
     "metadata": {},
     "output_type": "display_data"
    }
   ],
   "source": [
    "ggarrange(g3,g4,ncol=1,nrow=2)"
   ]
  },
  {
   "cell_type": "code",
   "execution_count": 9,
   "metadata": {},
   "outputs": [
    {
     "data": {
      "image/png": "[encoded data removed]",
      "text/plain": [
       "plot without title"
      ]
     },
     "metadata": {},
     "output_type": "display_data"
    }
   ],
   "source": [
    "ggarrange(g5,g6,ncol=1,nrow=2)"
   ]
  },
  {
   "cell_type": "code",
   "execution_count": 10,
   "metadata": {},
   "outputs": [
    {
     "data": {
      "image/png": "[encoded data removed]",
      "text/plain": [
       "plot without title"
      ]
     },
     "metadata": {},
     "output_type": "display_data"
    }
   ],
   "source": [
    "ggarrange(g7,g8,ncol=1,nrow=2)"
   ]
  },
  {
   "cell_type": "code",
   "execution_count": 11,
   "metadata": {},
   "outputs": [
    {
     "data": {
      "image/png": "[encoded data removed]",
      "text/plain": [
       "plot without title"
      ]
     },
     "metadata": {},
     "output_type": "display_data"
    }
   ],
   "source": [
    "ggarrange(g9,g10,ncol=1,nrow=2)"
   ]
  },
  {
   "cell_type": "code",
   "execution_count": 12,
   "metadata": {},
   "outputs": [
    {
     "data": {
      "text/html": [
       "<strong>png:</strong> 2"
      ],
      "text/latex": [
       "\\textbf{png:} 2"
      ],
      "text/markdown": [
       "**png:** 2"
      ],
      "text/plain": [
       "png \n",
       "  2 "
      ]
     },
     "metadata": {},
     "output_type": "display_data"
    },
    {
     "data": {
      "text/html": [
       "<strong>png:</strong> 2"
      ],
      "text/latex": [
       "\\textbf{png:} 2"
      ],
      "text/markdown": [
       "**png:** 2"
      ],
      "text/plain": [
       "png \n",
       "  2 "
      ]
     },
     "metadata": {},
     "output_type": "display_data"
    },
    {
     "data": {
      "text/html": [
       "<strong>png:</strong> 2"
      ],
      "text/latex": [
       "\\textbf{png:} 2"
      ],
      "text/markdown": [
       "**png:** 2"
      ],
      "text/plain": [
       "png \n",
       "  2 "
      ]
     },
     "metadata": {},
     "output_type": "display_data"
    },
    {
     "data": {
      "text/html": [
       "<strong>png:</strong> 2"
      ],
      "text/latex": [
       "\\textbf{png:} 2"
      ],
      "text/markdown": [
       "**png:** 2"
      ],
      "text/plain": [
       "png \n",
       "  2 "
      ]
     },
     "metadata": {},
     "output_type": "display_data"
    },
    {
     "data": {
      "text/html": [
       "<strong>png:</strong> 2"
      ],
      "text/latex": [
       "\\textbf{png:} 2"
      ],
      "text/markdown": [
       "**png:** 2"
      ],
      "text/plain": [
       "png \n",
       "  2 "
      ]
     },
     "metadata": {},
     "output_type": "display_data"
    }
   ],
   "source": [
    "#Save plots to files\n",
    "pdf('figures/Cas9_Treatment_boxplots.pdf')\n",
    "ggarrange(g1,g2,ncol=1,nrow=2)\n",
    "dev.off()\n",
    "pdf('figures/Cas9_HostSex_boxplots.pdf')\n",
    "ggarrange(g3,g4,ncol=1,nrow=2)\n",
    "dev.off()\n",
    "pdf('figures/Cas9_PigID_boxplots.pdf')\n",
    "ggarrange(g5,g6,ncol=1,nrow=2)\n",
    "dev.off()\n",
    "pdf('figures/Cas9_Parent_boxplots.pdf')\n",
    "ggarrange(g7,g8,ncol=1,nrow=2)\n",
    "dev.off()\n",
    "pdf('figures/Cas9_sampleDate_boxplots.pdf')\n",
    "ggarrange(g9,g10,ncol=1,nrow=2)\n",
    "dev.off()"
   ]
  },
  {
   "cell_type": "code",
   "execution_count": 7,
   "metadata": {},
   "outputs": [
    {
     "data": {
      "text/plain": [
       "\n",
       "Call:\n",
       "lm(formula = ex.classified.frac ~ perturbation + host_sex + host_family_relationship + \n",
       "    collection_date, data = metadata)\n",
       "\n",
       "Residuals:\n",
       "     Min       1Q   Median       3Q      Max \n",
       "-0.12778 -0.01098  0.00379  0.01103  0.10761 \n",
       "\n",
       "Coefficients:\n",
       "                            Estimate Std. Error t value Pr(>|t|)    \n",
       "(Intercept)                0.0133103  0.0201027   0.662    0.512    \n",
       "perturbationnon-medicated  0.0004523  0.0155112   0.029    0.977    \n",
       "host_sexmale               0.0025119  0.0155112   0.162    0.872    \n",
       "host_family_relationshipB -0.0146103  0.0155653  -0.939    0.354    \n",
       "collection_date6/11/12     0.1311759  0.0217140   6.041 4.14e-07 ***\n",
       "collection_date6/5/12      0.1148874  0.0221939   5.177 6.74e-06 ***\n",
       "collection_date6/6/12     -0.0005636  0.0217140  -0.026    0.979    \n",
       "---\n",
       "Signif. codes:  0 '***' 0.001 '**' 0.01 '*' 0.05 '.' 0.1 ' ' 1\n",
       "\n",
       "Residual standard error: 0.05309 on 40 degrees of freedom\n",
       "Multiple R-squared:  0.6187,\tAdjusted R-squared:  0.5615 \n",
       "F-statistic: 10.82 on 6 and 40 DF,  p-value: 3.962e-07\n"
      ]
     },
     "metadata": {},
     "output_type": "display_data"
    }
   ],
   "source": [
    "# linear model looking for covariates\n",
    "# fit <- lm(ex.classified.frac~perturbation + host_sex + host_family_relationship + collection_date + specific_host, data=metadata)\n",
    "fit <- lm(ex.classified.frac~perturbation + host_sex + host_family_relationship + collection_date, data=metadata)\n",
    "summary(fit)"
   ]
  },
  {
   "cell_type": "code",
   "execution_count": 8,
   "metadata": {},
   "outputs": [
    {
     "data": {
      "text/html": [
       "<style>\n",
       ".list-inline {list-style: none; margin:0; padding: 0}\n",
       ".list-inline>li {display: inline-block}\n",
       ".list-inline>li:not(:last-child)::after {content: \"\\00b7\"; padding: 0 .5ex}\n",
       "</style>\n",
       "<ol class=list-inline><li>2634</li><li>47</li></ol>\n"
      ],
      "text/latex": [
       "\\begin{enumerate*}\n",
       "\\item 2634\n",
       "\\item 47\n",
       "\\end{enumerate*}\n"
      ],
      "text/markdown": [
       "1. 2634\n",
       "2. 47\n",
       "\n",
       "\n"
      ],
      "text/plain": [
       "[1] 2634   47"
      ]
     },
     "metadata": {},
     "output_type": "display_data"
    },
    {
     "data": {
      "text/html": [
       "<style>\n",
       ".list-inline {list-style: none; margin:0; padding: 0}\n",
       ".list-inline>li {display: inline-block}\n",
       ".list-inline>li:not(:last-child)::after {content: \"\\00b7\"; padding: 0 .5ex}\n",
       "</style>\n",
       "<ol class=list-inline><li>126</li><li>47</li></ol>\n"
      ],
      "text/latex": [
       "\\begin{enumerate*}\n",
       "\\item 126\n",
       "\\item 47\n",
       "\\end{enumerate*}\n"
      ],
      "text/markdown": [
       "1. 126\n",
       "2. 47\n",
       "\n",
       "\n"
      ],
      "text/plain": [
       "[1] 126  47"
      ]
     },
     "metadata": {},
     "output_type": "display_data"
    }
   ],
   "source": [
    "# subset expression data to remove low counts (dimmensions for Cas9)\n",
    "keep.exprs <- filterByExpr(ex.mat.classified, group=metadata$perturbation,  min.count=5, min.total.count = 10)\n",
    "ex.mat.classified.filt <- ex.mat.classified[keep.exprs,]\n",
    "dim(ex.mat.classified)\n",
    "dim(ex.mat.classified.filt)"
   ]
  },
  {
   "cell_type": "code",
   "execution_count": 9,
   "metadata": {},
   "outputs": [],
   "source": [
    "# norm to counts per million\n",
    "cpm <- cpm(ex.mat.classified.filt, log=FALSE)\n",
    "lcpm <- cpm(ex.mat.classified.filt, log=TRUE)\n",
    "\n",
    "# lcpm = log(ex.mat.classified.filt)"
   ]
  },
  {
   "cell_type": "code",
   "execution_count": 10,
   "metadata": {},
   "outputs": [
    {
     "name": "stderr",
     "output_type": "stream",
     "text": [
      "Warning message in brewer.pal(2, \"Set1\"):\n",
      "\"minimal value for n is 3, returning requested palette with 3 different levels\n",
      "\""
     ]
    },
    {
     "data": {
      "text/html": [
       "<strong>png:</strong> 2"
      ],
      "text/latex": [
       "\\textbf{png:} 2"
      ],
      "text/markdown": [
       "**png:** 2"
      ],
      "text/plain": [
       "png \n",
       "  2 "
      ]
     },
     "metadata": {},
     "output_type": "display_data"
    }
   ],
   "source": [
    "# NMDS to look at samples by collection date\n",
    "group.to.color <- brewer.pal(2, \"Set1\")[1:2]\n",
    "names(group.to.color) <- unique(metadata$perturbation)\n",
    "col.group <- group.to.color[metadata$perturbation]\n",
    "date.to.color <- brewer.pal(4, \"Set1\")\n",
    "names(date.to.color) <- unique(metadata$collection_date)\n",
    "col.date <- date.to.color[metadata$collection_date]\n",
    "\n",
    "pdf('figures/Cas9_MDS.pdf', height=6, width=10)\n",
    "mypar(1,2)\n",
    "plotMDS(lcpm, labels=1:nrow(metadata), col=col.group)\n",
    "title(main=\"Treatment\")\n",
    "legend('topright', legend = names(date.to.color), fill = group.to.color)\n",
    "plotMDS(lcpm, labels=1:nrow(metadata), col=col.date, xlim=c(-4,4.5), ylim=c(-2,1.7))\n",
    "title(main=\"Collection Date\")\n",
    "legend('topright', legend = names(date.to.color), fill = date.to.color)\n",
    "dev.off()"
   ]
  },
  {
   "cell_type": "code",
   "execution_count": 11,
   "metadata": {},
   "outputs": [
    {
     "data": {
      "text/plain": [
       "       (Intercept) metadata$perturbationnon-medicated\n",
       "Down             0                                  0\n",
       "NotSig           0                                126\n",
       "Up             126                                  0\n",
       "       metadata$collection_date6/11/12 metadata$collection_date6/5/12\n",
       "Down                               109                            108\n",
       "NotSig                              10                             11\n",
       "Up                                   7                              7\n",
       "       metadata$collection_date6/6/12\n",
       "Down                                6\n",
       "NotSig                            106\n",
       "Up                                 14"
      ]
     },
     "metadata": {},
     "output_type": "display_data"
    }
   ],
   "source": [
    "## DIFFERENTIAL EXPRESSION Cas9\n",
    "# design matrix for diffex\n",
    "design <- model.matrix(~metadata$perturbation + metadata$collection_date)\n",
    "# calculate differential ex\n",
    "lfit <- lmFit(lcpm, design)\n",
    "# emprical bayes\n",
    "efit <- eBayes(lfit)\n",
    "# number of differentially expressed genes\n",
    "summary(decideTests(efit))"
   ]
  },
  {
   "cell_type": "code",
   "execution_count": 18,
   "metadata": {},
   "outputs": [
    {
     "data": {
      "text/plain": [
       "       (Intercept) metadata$perturbationnon-medicated\n",
       "Down             0                                  0\n",
       "NotSig           0                                126\n",
       "Up             126                                  0\n",
       "       metadata$collection_date6/11/12 metadata$collection_date6/5/12\n",
       "Down                               109                            108\n",
       "NotSig                              10                             11\n",
       "Up                                   7                              7\n",
       "       metadata$collection_date6/6/12\n",
       "Down                                6\n",
       "NotSig                            106\n",
       "Up                                 14"
      ]
     },
     "metadata": {},
     "output_type": "display_data"
    }
   ],
   "source": [
    "## DIFFERENTIAL EXPRESSION Cas12\n",
    "# design matrix for diffex\n",
    "design <- model.matrix(~metadata$perturbation + metadata$collection_date)\n",
    "# calculate differential ex\n",
    "lfit <- lmFit(lcpm, design)\n",
    "# emprical bayes\n",
    "efit <- eBayes(lfit)\n",
    "# number of differentially expressed genes\n",
    "summary(decideTests(efit))"
   ]
  },
  {
   "cell_type": "code",
   "execution_count": 13,
   "metadata": {},
   "outputs": [],
   "source": [
    "diffex.perturbation <- topTreat(efit, coef='metadata$perturbationnon-medicated', number=Inf)\n",
    "diffex.cd <- topTreat(efit, coef='metadata$collection_date6/11/12', number=Inf)\n",
    "\n",
    "diffex.perturbation$taxa <- rownames(diffex.perturbation)\n",
    "diffex.perturbation <- diffex.perturbation[,c('taxa', \"logFC\", \"AveExpr\", \"t\", \"P.Value\", \"adj.P.Val\", \"B\")]\n",
    "diffex.cd$taxa <- rownames(diffex.cd)\n",
    "diffex.cd <- diffex.cd[,c('taxa', \"logFC\", \"AveExpr\", \"t\", \"P.Value\", \"adj.P.Val\", \"B\")]"
   ]
  },
  {
   "cell_type": "code",
   "execution_count": 14,
   "metadata": {},
   "outputs": [
    {
     "data": {
      "text/html": [
       "<strong>png:</strong> 2"
      ],
      "text/latex": [
       "\\textbf{png:} 2"
      ],
      "text/markdown": [
       "**png:** 2"
      ],
      "text/plain": [
       "png \n",
       "  2 "
      ]
     },
     "metadata": {},
     "output_type": "display_data"
    }
   ],
   "source": [
    "# plot the top number of each\n",
    "n <- 4\n",
    "pdf('figures/Cas9_top10DiffexPerturbation.pdf', height=4, width=6)\n",
    "for (i in 1:n){\n",
    "    print(plot_taxa(diffex.perturbation[i, 'taxa']))\n",
    "}\n",
    "dev.off()"
   ]
  },
  {
   "cell_type": "code",
   "execution_count": null,
   "metadata": {},
   "outputs": [],
   "source": [
    "pdf('figures/Cas12_topDiffex_sampleDate.pdf', height=4, width=6)\n",
    "for (i in 1:n){\n",
    "    print(plot_taxa(diffex.cd[i, 'taxa']))\n",
    "}\n",
    "dev.off()"
   ]
  },
  {
   "cell_type": "code",
   "execution_count": 14,
   "metadata": {},
   "outputs": [],
   "source": [
    "# write out tables\n",
    "write.table(diffex.perturbation, 'tables/Cas9_diffex_perturbation.tsv', sep='\\t', quote=F, col.names = T, row.names = F)\n",
    "# write.table(diffex.age, 'tables/Cas9_diffex_age.tsv', sep='\\t', quote=F, col.names = T, row.names = F)\n",
    "\n",
    "# wite expression matrices\n",
    "write.table(ex.mat.classified, 'tables/Cas9_expression_matrix.tsv', sep='\\t', quote=F, col.names = T, row.names = T)\n",
    "write.table(ex.mat.classified.filt, 'tables/cas9_expression_matrix_filtered.tsv', sep='\\t', quote=F, col.names = T, row.names = T)"
   ]
  },
  {
   "cell_type": "code",
   "execution_count": null,
   "metadata": {},
   "outputs": [],
   "source": [
    "# write out tables\n",
    "write.table(diffex.perturbation, 'tables/Cas12_diffex_perturbation.tsv', sep='\\t', quote=F, col.names = T, row.names = F)\n",
    "# write.table(diffex.age, 'tables/Cas9_diffex_age.tsv', sep='\\t', quote=F, col.names = T, row.names = F)\n",
    "\n",
    "# wite expression matrices\n",
    "write.table(ex.mat.classified, 'tables/Cas12_expression_matrix.tsv', sep='\\t', quote=F, col.names = T, row.names = T)\n",
    "write.table(ex.mat.classified.filt, 'tables/cas12_expression_matrix_filtered.tsv', sep='\\t', quote=F, col.names = T, row.names = T)"
   ]
  },
  {
   "cell_type": "code",
   "execution_count": 16,
   "metadata": {},
   "outputs": [
    {
     "data": {
      "text/plain": [
       "An object of class \"MArrayLM\"\n",
       "$coefficients\n",
       "    (Intercept) metadata$perturbationnon-medicated\n",
       "200   15.432274                       -0.021638052\n",
       "382   13.008892                       -0.006443525\n",
       "405   13.562596                        0.082948676\n",
       "497   16.933528                        0.052071669\n",
       "579    3.223591                        0.039735692\n",
       "    metadata$collection_date6/11/12 metadata$collection_date6/5/12\n",
       "200                     -0.85787878                    -0.97673750\n",
       "382                     -0.30610334                    -0.21503284\n",
       "405                     -0.01043456                    -0.08600463\n",
       "497                      0.32365911                     0.30274885\n",
       "579                      4.15230957                     4.18242337\n",
       "    metadata$collection_date6/6/12\n",
       "200                   -0.674686877\n",
       "382                   -0.001046534\n",
       "405                    0.226530333\n",
       "497                   -0.111098197\n",
       "579                    1.293265351\n",
       "121 more rows ...\n",
       "\n",
       "$rank\n",
       "[1] 5\n",
       "\n",
       "$assign\n",
       "[1] 0 1 2 2 2\n",
       "\n",
       "$qr\n",
       "$qr\n",
       "  (Intercept) metadata$perturbationnon-medicated\n",
       "1   -6.855655                         -3.5007598\n",
       "2    0.145865                         -3.4270513\n",
       "3    0.145865                          0.1246166\n",
       "4    0.145865                         -0.1671794\n",
       "5    0.145865                         -0.1671794\n",
       "  metadata$collection_date6/11/12 metadata$collection_date6/5/12\n",
       "1                     -1.75037990                     -1.6045149\n",
       "2                      0.03725056                     -0.1117517\n",
       "3                      2.98911067                     -0.9381880\n",
       "4                     -0.19815315                     -2.7446032\n",
       "5                      0.13639451                     -0.1580291\n",
       "  metadata$collection_date6/6/12\n",
       "1                    -1.75037990\n",
       "2                     0.03725056\n",
       "3                    -1.02546133\n",
       "4                     1.37230160\n",
       "5                     2.44948974\n",
       "42 more rows ...\n",
       "\n",
       "$qraux\n",
       "[1] 1.145865 1.124617 1.102770 1.034762 1.166969\n",
       "\n",
       "$pivot\n",
       "[1] 1 2 3 4 5\n",
       "\n",
       "$tol\n",
       "[1] 1e-07\n",
       "\n",
       "$rank\n",
       "[1] 5\n",
       "\n",
       "\n",
       "$df.residual\n",
       "[1] 42 42 42 42 42\n",
       "121 more elements ...\n",
       "\n",
       "$sigma\n",
       "      200       382       405       497       579 \n",
       "0.4453286 0.3169962 0.4091879 0.2479784 1.8463477 \n",
       "121 more elements ...\n",
       "\n",
       "$cov.coefficients\n",
       "                                   (Intercept)\n",
       "(Intercept)                         0.10465116\n",
       "metadata$perturbationnon-medicated -0.04263566\n",
       "metadata$collection_date6/11/12    -0.08333333\n",
       "metadata$collection_date6/5/12     -0.08139535\n",
       "metadata$collection_date6/6/12     -0.08333333\n",
       "                                   metadata$perturbationnon-medicated\n",
       "(Intercept)                                             -4.263566e-02\n",
       "metadata$perturbationnon-medicated                       8.527132e-02\n",
       "metadata$collection_date6/11/12                          2.963486e-18\n",
       "metadata$collection_date6/5/12                          -3.875969e-03\n",
       "metadata$collection_date6/6/12                           8.962738e-18\n",
       "                                   metadata$collection_date6/11/12\n",
       "(Intercept)                                          -8.333333e-02\n",
       "metadata$perturbationnon-medicated                    2.963486e-18\n",
       "metadata$collection_date6/11/12                       1.666667e-01\n",
       "metadata$collection_date6/5/12                        8.333333e-02\n",
       "metadata$collection_date6/6/12                        8.333333e-02\n",
       "                                   metadata$collection_date6/5/12\n",
       "(Intercept)                                          -0.081395349\n",
       "metadata$perturbationnon-medicated                   -0.003875969\n",
       "metadata$collection_date6/11/12                       0.083333333\n",
       "metadata$collection_date6/5/12                        0.174418605\n",
       "metadata$collection_date6/6/12                        0.083333333\n",
       "                                   metadata$collection_date6/6/12\n",
       "(Intercept)                                         -8.333333e-02\n",
       "metadata$perturbationnon-medicated                   8.962738e-18\n",
       "metadata$collection_date6/11/12                      8.333333e-02\n",
       "metadata$collection_date6/5/12                       8.333333e-02\n",
       "metadata$collection_date6/6/12                       1.666667e-01\n",
       "\n",
       "$stdev.unscaled\n",
       "    (Intercept) metadata$perturbationnon-medicated\n",
       "200   0.3234983                          0.2920125\n",
       "382   0.3234983                          0.2920125\n",
       "405   0.3234983                          0.2920125\n",
       "497   0.3234983                          0.2920125\n",
       "579   0.3234983                          0.2920125\n",
       "    metadata$collection_date6/11/12 metadata$collection_date6/5/12\n",
       "200                       0.4082483                      0.4176345\n",
       "382                       0.4082483                      0.4176345\n",
       "405                       0.4082483                      0.4176345\n",
       "497                       0.4082483                      0.4176345\n",
       "579                       0.4082483                      0.4176345\n",
       "    metadata$collection_date6/6/12\n",
       "200                      0.4082483\n",
       "382                      0.4082483\n",
       "405                      0.4082483\n",
       "497                      0.4082483\n",
       "579                      0.4082483\n",
       "121 more rows ...\n",
       "\n",
       "$pivot\n",
       "[1] 1 2 3 4 5\n",
       "\n",
       "$Amean\n",
       "      200       382       405       497       579 \n",
       "14.801333 12.876853 13.639997 17.085244  5.613106 \n",
       "121 more elements ...\n",
       "\n",
       "$method\n",
       "[1] \"ls\"\n",
       "\n",
       "$design\n",
       "  (Intercept) metadata$perturbationnon-medicated\n",
       "1           1                                  1\n",
       "2           1                                  1\n",
       "3           1                                  1\n",
       "4           1                                  0\n",
       "5           1                                  0\n",
       "  metadata$collection_date6/11/12 metadata$collection_date6/5/12\n",
       "1                               1                              0\n",
       "2                               0                              0\n",
       "3                               0                              1\n",
       "4                               1                              0\n",
       "5                               0                              0\n",
       "  metadata$collection_date6/6/12\n",
       "1                              0\n",
       "2                              1\n",
       "3                              0\n",
       "4                              0\n",
       "5                              0\n",
       "42 more rows ...\n",
       "\n",
       "$df.prior\n",
       "[1] 3.138843\n",
       "\n",
       "$s2.prior\n",
       "[1] 1.551985\n",
       "\n",
       "$var.prior\n",
       "[1] 10.309375166  0.006443359 10.309375166 10.309375166  4.582736305\n",
       "\n",
       "$proportion\n",
       "[1] 0.01\n",
       "\n",
       "$s2.post\n",
       "      200       382       405       497       579 \n",
       "0.2924482 0.2014202 0.2637130 0.1651384 3.2798676 \n",
       "121 more elements ...\n",
       "\n",
       "$t\n",
       "    (Intercept) metadata$perturbationnon-medicated\n",
       "200   88.213162                        -0.13702259\n",
       "382   89.601796                        -0.04916663\n",
       "405   81.640385                         0.55314912\n",
       "497  128.810538                         0.43880947\n",
       "579    5.502242                         0.07513653\n",
       "    metadata$collection_date6/11/12 metadata$collection_date6/5/12\n",
       "200                     -3.88576961                     -4.3247097\n",
       "382                     -1.67067562                     -1.1472468\n",
       "405                     -0.04977187                     -0.4010141\n",
       "497                      1.95091989                      1.7838654\n",
       "579                      5.61613055                      5.5297237\n",
       "    metadata$collection_date6/6/12\n",
       "200                   -3.056000256\n",
       "382                   -0.005711856\n",
       "405                    1.080528545\n",
       "497                   -0.669666566\n",
       "579                    1.749182454\n",
       "121 more rows ...\n",
       "\n",
       "$df.total\n",
       "[1] 45.13884 45.13884 45.13884 45.13884 45.13884\n",
       "121 more elements ...\n",
       "\n",
       "$p.value\n",
       "     (Intercept) metadata$perturbationnon-medicated\n",
       "200 3.466479e-52                          0.8916223\n",
       "382 1.719488e-52                          0.9610034\n",
       "405 1.118329e-50                          0.5828907\n",
       "497 1.405000e-59                          0.6628929\n",
       "579 1.686249e-06                          0.9404381\n",
       "    metadata$collection_date6/11/12 metadata$collection_date6/5/12\n",
       "200                    3.311723e-04                   8.334741e-05\n",
       "382                    1.017064e-01                   2.573243e-01\n",
       "405                    9.605238e-01                   6.903018e-01\n",
       "497                    5.729056e-02                   8.116899e-02\n",
       "579                    1.145278e-06                   1.536112e-06\n",
       "    metadata$collection_date6/6/12\n",
       "200                    0.003759468\n",
       "382                    0.995467793\n",
       "405                    0.285646393\n",
       "497                    0.506481680\n",
       "579                    0.087056671\n",
       "121 more rows ...\n",
       "\n",
       "$lods\n",
       "    (Intercept) metadata$perturbationnon-medicated\n",
       "200   88.851660                          -4.630868\n",
       "382   89.108708                          -4.631455\n",
       "405   87.501390                          -4.620627\n",
       "497   93.766052                          -4.624657\n",
       "579    4.790005                          -4.631339\n",
       "    metadata$collection_date6/11/12 metadata$collection_date6/5/12\n",
       "200                       -0.131053                       1.195751\n",
       "382                       -5.304098                      -5.991326\n",
       "405                       -6.664299                      -6.562510\n",
       "497                       -4.828940                      -5.098656\n",
       "579                        5.303779                       5.031058\n",
       "    metadata$collection_date6/6/12\n",
       "200                      -2.098615\n",
       "382                      -6.269993\n",
       "405                      -5.701822\n",
       "497                      -6.049987\n",
       "579                      -4.811824\n",
       "121 more rows ...\n",
       "\n",
       "$F\n",
       "[1]  7046.35853  7739.12539  6632.24044 16617.91788    99.78975\n",
       "121 more elements ...\n",
       "\n",
       "$F.p.value\n",
       "[1] 4.455652e-64 5.381673e-65 1.744838e-63 1.765889e-72 3.072998e-23\n",
       "121 more elements ...\n"
      ]
     },
     "metadata": {},
     "output_type": "display_data"
    }
   ],
   "source": [
    "efit"
   ]
  },
  {
   "cell_type": "code",
   "execution_count": null,
   "metadata": {},
   "outputs": [],
   "source": []
  }
 ],
 "metadata": {
  "kernelspec": {
   "display_name": "R",
   "language": "R",
   "name": "ir"
  },
  "language_info": {
   "codemirror_mode": "r",
   "file_extension": ".r",
   "mimetype": "text/x-r-source",
   "name": "R",
   "pygments_lexer": "r",
   "version": "3.6.1"
  },
  "widgets": {
   "application/vnd.jupyter.widget-state+json": {
    "state": {},
    "version_major": 2,
    "version_minor": 0
   }
  }
 },
 "nbformat": 4,
 "nbformat_minor": 4
}
